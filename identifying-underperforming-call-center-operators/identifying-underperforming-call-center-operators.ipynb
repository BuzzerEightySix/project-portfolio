{
 "cells": [
  {
   "cell_type": "markdown",
   "metadata": {
    "toc": true
   },
   "source": [
    "<h1>Содержание<span class=\"tocSkip\"></span></h1>\n",
    "<div class=\"toc\"><ul class=\"toc-item\"><li><span><a href=\"#Знакомство-с-данными\" data-toc-modified-id=\"Знакомство-с-данными-2\"><span class=\"toc-item-num\">2&nbsp;&nbsp;</span>Знакомство с данными</a></span></li><li><span><a href=\"#Предобработка-данных\" data-toc-modified-id=\"Предобработка-данных-3\"><span class=\"toc-item-num\">3&nbsp;&nbsp;</span>Предобработка данных</a></span><ul class=\"toc-item\"><li><span><a href=\"#Поиск-и-устрнанение-пропусков-в-данных\" data-toc-modified-id=\"Поиск-и-устрнанение-пропусков-в-данных-3.1\"><span class=\"toc-item-num\">3.1&nbsp;&nbsp;</span>Поиск и устрнанение пропусков в данных</a></span></li><li><span><a href=\"#Поиск-и-устранение-дубликатов-в-данных\" data-toc-modified-id=\"Поиск-и-устранение-дубликатов-в-данных-3.2\"><span class=\"toc-item-num\">3.2&nbsp;&nbsp;</span>Поиск и устранение дубликатов в данных</a></span></li><li><span><a href=\"#Проверка-соответствия-типов-данных-и-приведение-их-в-соответствие\" data-toc-modified-id=\"Проверка-соответствия-типов-данных-и-приведение-их-в-соответствие-3.3\"><span class=\"toc-item-num\">3.3&nbsp;&nbsp;</span>Проверка соответствия типов данных и приведение их в соответствие</a></span></li></ul></li><li><span><a href=\"#Исследовательский-анализ-данных\" data-toc-modified-id=\"Исследовательский-анализ-данных-4\"><span class=\"toc-item-num\">4&nbsp;&nbsp;</span>Исследовательский анализ данных</a></span><ul class=\"toc-item\"><li><span><a href=\"#Подсчет-среднего-количества-операторов-в-колл-центре\" data-toc-modified-id=\"Подсчет-среднего-количества-операторов-в-колл-центре-4.1\"><span class=\"toc-item-num\">4.1&nbsp;&nbsp;</span>Подсчет среднего количества операторов в колл-центре</a></span></li><li><span><a href=\"#Подсчет-среднего-количества-успешных-и-пропущенных-звонков\" data-toc-modified-id=\"Подсчет-среднего-количества-успешных-и-пропущенных-звонков-4.2\"><span class=\"toc-item-num\">4.2&nbsp;&nbsp;</span>Подсчет среднего количества успешных и пропущенных звонков</a></span></li><li><span><a href=\"#Подсчет-средней-длительности-и-среднего-времени-ответа-на-звонок\" data-toc-modified-id=\"Подсчет-средней-длительности-и-среднего-времени-ответа-на-звонок-4.3\"><span class=\"toc-item-num\">4.3&nbsp;&nbsp;</span>Подсчет средней длительности и среднего времени ответа на звонок</a></span></li><li><span><a href=\"#Разделение-выборки-колл-центров-по-специализациям:-прием-входящих-вызовов-и-осуществление-исходящих-вызовов\" data-toc-modified-id=\"Разделение-выборки-колл-центров-по-специализациям:-прием-входящих-вызовов-и-осуществление-исходящих-вызовов-4.4\"><span class=\"toc-item-num\">4.4&nbsp;&nbsp;</span>Разделение выборки колл-центров по специализациям: прием входящих вызовов и осуществление исходящих вызовов</a></span></li><li><span><a href=\"#Определение-границ-неэффективности-по-параметру-&quot;количество-пропущенных-звонков&quot;\" data-toc-modified-id=\"Определение-границ-неэффективности-по-параметру-&quot;количество-пропущенных-звонков&quot;-4.5\"><span class=\"toc-item-num\">4.5&nbsp;&nbsp;</span>Определение границ неэффективности по параметру \"количество пропущенных звонков\"</a></span></li><li><span><a href=\"#Определение-границ-неэффективности-по-параметру-&quot;длительность-ожидания-ответа-при-входящих-внешних-вызовах&quot;\" data-toc-modified-id=\"Определение-границ-неэффективности-по-параметру-&quot;длительность-ожидания-ответа-при-входящих-внешних-вызовах&quot;-4.6\"><span class=\"toc-item-num\">4.6&nbsp;&nbsp;</span>Определение границ неэффективности по параметру \"длительность ожидания ответа при входящих внешних вызовах\"</a></span></li><li><span><a href=\"#Определение-границ-неэффективности-по-параметру-&quot;количество-исходящих-вызовов&quot;\" data-toc-modified-id=\"Определение-границ-неэффективности-по-параметру-&quot;количество-исходящих-вызовов&quot;-4.7\"><span class=\"toc-item-num\">4.7&nbsp;&nbsp;</span>Определение границ неэффективности по параметру \"количество исходящих вызовов\"</a></span></li></ul></li><li><span><a href=\"#Выявление-неэффективных-операторов-по-ранее-намеченным-критериям\" data-toc-modified-id=\"Выявление-неэффективных-операторов-по-ранее-намеченным-критериям-5\"><span class=\"toc-item-num\">5&nbsp;&nbsp;</span>Выявление неэффективных операторов по ранее намеченным критериям</a></span><ul class=\"toc-item\"><li><span><a href=\"#Выявление-неэффективных-операторов-по-количеству-пропущенных-входящих-вызовов\" data-toc-modified-id=\"Выявление-неэффективных-операторов-по-количеству-пропущенных-входящих-вызовов-5.1\"><span class=\"toc-item-num\">5.1&nbsp;&nbsp;</span>Выявление неэффективных операторов по количеству пропущенных входящих вызовов</a></span></li><li><span><a href=\"#Выявление-неэффективных-операторов-по-длительности-ожидания-ответа-при-входящих-внешних-вызовах\" data-toc-modified-id=\"Выявление-неэффективных-операторов-по-длительности-ожидания-ответа-при-входящих-внешних-вызовах-5.2\"><span class=\"toc-item-num\">5.2&nbsp;&nbsp;</span>Выявление неэффективных операторов по длительности ожидания ответа при входящих внешних вызовах</a></span></li><li><span><a href=\"#Выявление-неэффективных-операторов-по-количеству-исходящих-вызовов\" data-toc-modified-id=\"Выявление-неэффективных-операторов-по-количеству-исходящих-вызовов-5.3\"><span class=\"toc-item-num\">5.3&nbsp;&nbsp;</span>Выявление неэффективных операторов по количеству исходящих вызовов</a></span></li></ul></li><li><span><a href=\"#Проверка-статистических-гипотез\" data-toc-modified-id=\"Проверка-статистических-гипотез-6\"><span class=\"toc-item-num\">6&nbsp;&nbsp;</span>Проверка статистических гипотез</a></span><ul class=\"toc-item\"><li><span><a href=\"#Средняя-длительность-звонков-колл-центров-работающих-на-осуществление-вызовов-и-колл-центров-работающих-на-прием-входящих-вызовов-равна\" data-toc-modified-id=\"Средняя-длительность-звонков-колл-центров-работающих-на-осуществление-вызовов-и-колл-центров-работающих-на-прием-входящих-вызовов-равна-6.1\"><span class=\"toc-item-num\">6.1&nbsp;&nbsp;</span>Средняя длительность звонков колл-центров работающих на осуществление вызовов и колл-центров работающих на прием входящих вызовов равна</a></span></li><li><span><a href=\"#Средние-количества-сотрудников-колл-центров-работающих-на-осуществление-исходящих-вызовов-и-колл-центров-работающих-на-прием-входящих-вызовов-равны\" data-toc-modified-id=\"Средние-количества-сотрудников-колл-центров-работающих-на-осуществление-исходящих-вызовов-и-колл-центров-работающих-на-прием-входящих-вызовов-равны-6.2\"><span class=\"toc-item-num\">6.2&nbsp;&nbsp;</span>Средние количества сотрудников колл-центров работающих на осуществление исходящих вызовов и колл-центров работающих на прием входящих вызовов равны</a></span></li><li><span><a href=\"#Среднее-время-ответа-на-звонки-колл-центров-работающих-на-осуществление-вызовов-и-колл-центров-работающих-на-прием-входящих-вызовов-равно¶\" data-toc-modified-id=\"Среднее-время-ответа-на-звонки-колл-центров-работающих-на-осуществление-вызовов-и-колл-центров-работающих-на-прием-входящих-вызовов-равно¶-6.3\"><span class=\"toc-item-num\">6.3&nbsp;&nbsp;</span>Среднее время ответа на звонки колл-центров работающих на осуществление вызовов и колл-центров работающих на прием входящих вызовов равно¶</a></span></li></ul></li><li><span><a href=\"#Общие-выводы\" data-toc-modified-id=\"Общие-выводы-7\"><span class=\"toc-item-num\">7&nbsp;&nbsp;</span>Общие выводы</a></span></li></ul></div>"
   ]
  },
  {
   "cell_type": "markdown",
   "metadata": {},
   "source": [
    "## Знакомство с данными\n",
    "\n",
    "Импортируем необходимые библиотеки."
   ]
  },
  {
   "cell_type": "code",
   "execution_count": 1,
   "metadata": {},
   "outputs": [],
   "source": [
    "import pandas as pd\n",
    "import matplotlib.pyplot as plt\n",
    "import datetime as dt\n",
    "import numpy as np\n",
    "from scipy import stats as st"
   ]
  },
  {
   "cell_type": "markdown",
   "metadata": {},
   "source": [
    "Прочитаем датафреймы и сохраним каждый в своей переменной в соответствии с названием файла."
   ]
  },
  {
   "cell_type": "code",
   "execution_count": 2,
   "metadata": {},
   "outputs": [],
   "source": [
    "data_tel = pd.read_csv('/datasets/telecom_dataset.csv')\n",
    "data_clients = pd.read_csv('/datasets/telecom_clients.csv')"
   ]
  },
  {
   "cell_type": "markdown",
   "metadata": {},
   "source": [
    "Выведем инфо по таблицам и первые 5 строк."
   ]
  },
  {
   "cell_type": "code",
   "execution_count": 3,
   "metadata": {
    "scrolled": false
   },
   "outputs": [
    {
     "name": "stdout",
     "output_type": "stream",
     "text": [
      "<class 'pandas.core.frame.DataFrame'>\n",
      "RangeIndex: 53902 entries, 0 to 53901\n",
      "Data columns (total 9 columns):\n",
      " #   Column               Non-Null Count  Dtype  \n",
      "---  ------               --------------  -----  \n",
      " 0   user_id              53902 non-null  int64  \n",
      " 1   date                 53902 non-null  object \n",
      " 2   direction            53902 non-null  object \n",
      " 3   internal             53785 non-null  object \n",
      " 4   operator_id          45730 non-null  float64\n",
      " 5   is_missed_call       53902 non-null  bool   \n",
      " 6   calls_count          53902 non-null  int64  \n",
      " 7   call_duration        53902 non-null  int64  \n",
      " 8   total_call_duration  53902 non-null  int64  \n",
      "dtypes: bool(1), float64(1), int64(4), object(3)\n",
      "memory usage: 3.3+ MB\n"
     ]
    },
    {
     "data": {
      "text/html": [
       "<div>\n",
       "<style scoped>\n",
       "    .dataframe tbody tr th:only-of-type {\n",
       "        vertical-align: middle;\n",
       "    }\n",
       "\n",
       "    .dataframe tbody tr th {\n",
       "        vertical-align: top;\n",
       "    }\n",
       "\n",
       "    .dataframe thead th {\n",
       "        text-align: right;\n",
       "    }\n",
       "</style>\n",
       "<table border=\"1\" class=\"dataframe\">\n",
       "  <thead>\n",
       "    <tr style=\"text-align: right;\">\n",
       "      <th></th>\n",
       "      <th>user_id</th>\n",
       "      <th>date</th>\n",
       "      <th>direction</th>\n",
       "      <th>internal</th>\n",
       "      <th>operator_id</th>\n",
       "      <th>is_missed_call</th>\n",
       "      <th>calls_count</th>\n",
       "      <th>call_duration</th>\n",
       "      <th>total_call_duration</th>\n",
       "    </tr>\n",
       "  </thead>\n",
       "  <tbody>\n",
       "    <tr>\n",
       "      <th>0</th>\n",
       "      <td>166377</td>\n",
       "      <td>2019-08-04 00:00:00+03:00</td>\n",
       "      <td>in</td>\n",
       "      <td>False</td>\n",
       "      <td>NaN</td>\n",
       "      <td>True</td>\n",
       "      <td>2</td>\n",
       "      <td>0</td>\n",
       "      <td>4</td>\n",
       "    </tr>\n",
       "    <tr>\n",
       "      <th>1</th>\n",
       "      <td>166377</td>\n",
       "      <td>2019-08-05 00:00:00+03:00</td>\n",
       "      <td>out</td>\n",
       "      <td>True</td>\n",
       "      <td>880022.0</td>\n",
       "      <td>True</td>\n",
       "      <td>3</td>\n",
       "      <td>0</td>\n",
       "      <td>5</td>\n",
       "    </tr>\n",
       "    <tr>\n",
       "      <th>2</th>\n",
       "      <td>166377</td>\n",
       "      <td>2019-08-05 00:00:00+03:00</td>\n",
       "      <td>out</td>\n",
       "      <td>True</td>\n",
       "      <td>880020.0</td>\n",
       "      <td>True</td>\n",
       "      <td>1</td>\n",
       "      <td>0</td>\n",
       "      <td>1</td>\n",
       "    </tr>\n",
       "    <tr>\n",
       "      <th>3</th>\n",
       "      <td>166377</td>\n",
       "      <td>2019-08-05 00:00:00+03:00</td>\n",
       "      <td>out</td>\n",
       "      <td>True</td>\n",
       "      <td>880020.0</td>\n",
       "      <td>False</td>\n",
       "      <td>1</td>\n",
       "      <td>10</td>\n",
       "      <td>18</td>\n",
       "    </tr>\n",
       "    <tr>\n",
       "      <th>4</th>\n",
       "      <td>166377</td>\n",
       "      <td>2019-08-05 00:00:00+03:00</td>\n",
       "      <td>out</td>\n",
       "      <td>False</td>\n",
       "      <td>880022.0</td>\n",
       "      <td>True</td>\n",
       "      <td>3</td>\n",
       "      <td>0</td>\n",
       "      <td>25</td>\n",
       "    </tr>\n",
       "  </tbody>\n",
       "</table>\n",
       "</div>"
      ],
      "text/plain": [
       "   user_id                       date direction internal  operator_id  \\\n",
       "0   166377  2019-08-04 00:00:00+03:00        in    False          NaN   \n",
       "1   166377  2019-08-05 00:00:00+03:00       out     True     880022.0   \n",
       "2   166377  2019-08-05 00:00:00+03:00       out     True     880020.0   \n",
       "3   166377  2019-08-05 00:00:00+03:00       out     True     880020.0   \n",
       "4   166377  2019-08-05 00:00:00+03:00       out    False     880022.0   \n",
       "\n",
       "   is_missed_call  calls_count  call_duration  total_call_duration  \n",
       "0            True            2              0                    4  \n",
       "1            True            3              0                    5  \n",
       "2            True            1              0                    1  \n",
       "3           False            1             10                   18  \n",
       "4            True            3              0                   25  "
      ]
     },
     "execution_count": 3,
     "metadata": {},
     "output_type": "execute_result"
    }
   ],
   "source": [
    "data_tel.info()\n",
    "data_tel.head()"
   ]
  },
  {
   "cell_type": "markdown",
   "metadata": {},
   "source": [
    "9 столбцов, 53902 строки. Присутствуют пропуски в столбцах internal и operator_id."
   ]
  },
  {
   "cell_type": "code",
   "execution_count": 4,
   "metadata": {},
   "outputs": [
    {
     "name": "stdout",
     "output_type": "stream",
     "text": [
      "<class 'pandas.core.frame.DataFrame'>\n",
      "RangeIndex: 732 entries, 0 to 731\n",
      "Data columns (total 3 columns):\n",
      " #   Column       Non-Null Count  Dtype \n",
      "---  ------       --------------  ----- \n",
      " 0   user_id      732 non-null    int64 \n",
      " 1   tariff_plan  732 non-null    object\n",
      " 2   date_start   732 non-null    object\n",
      "dtypes: int64(1), object(2)\n",
      "memory usage: 17.3+ KB\n"
     ]
    },
    {
     "data": {
      "text/html": [
       "<div>\n",
       "<style scoped>\n",
       "    .dataframe tbody tr th:only-of-type {\n",
       "        vertical-align: middle;\n",
       "    }\n",
       "\n",
       "    .dataframe tbody tr th {\n",
       "        vertical-align: top;\n",
       "    }\n",
       "\n",
       "    .dataframe thead th {\n",
       "        text-align: right;\n",
       "    }\n",
       "</style>\n",
       "<table border=\"1\" class=\"dataframe\">\n",
       "  <thead>\n",
       "    <tr style=\"text-align: right;\">\n",
       "      <th></th>\n",
       "      <th>user_id</th>\n",
       "      <th>tariff_plan</th>\n",
       "      <th>date_start</th>\n",
       "    </tr>\n",
       "  </thead>\n",
       "  <tbody>\n",
       "    <tr>\n",
       "      <th>0</th>\n",
       "      <td>166713</td>\n",
       "      <td>A</td>\n",
       "      <td>2019-08-15</td>\n",
       "    </tr>\n",
       "    <tr>\n",
       "      <th>1</th>\n",
       "      <td>166901</td>\n",
       "      <td>A</td>\n",
       "      <td>2019-08-23</td>\n",
       "    </tr>\n",
       "    <tr>\n",
       "      <th>2</th>\n",
       "      <td>168527</td>\n",
       "      <td>A</td>\n",
       "      <td>2019-10-29</td>\n",
       "    </tr>\n",
       "    <tr>\n",
       "      <th>3</th>\n",
       "      <td>167097</td>\n",
       "      <td>A</td>\n",
       "      <td>2019-09-01</td>\n",
       "    </tr>\n",
       "    <tr>\n",
       "      <th>4</th>\n",
       "      <td>168193</td>\n",
       "      <td>A</td>\n",
       "      <td>2019-10-16</td>\n",
       "    </tr>\n",
       "  </tbody>\n",
       "</table>\n",
       "</div>"
      ],
      "text/plain": [
       "   user_id tariff_plan  date_start\n",
       "0   166713           A  2019-08-15\n",
       "1   166901           A  2019-08-23\n",
       "2   168527           A  2019-10-29\n",
       "3   167097           A  2019-09-01\n",
       "4   168193           A  2019-10-16"
      ]
     },
     "execution_count": 4,
     "metadata": {},
     "output_type": "execute_result"
    }
   ],
   "source": [
    "data_clients.info()\n",
    "data_clients.head()"
   ]
  },
  {
   "cell_type": "markdown",
   "metadata": {},
   "source": [
    "3 столбца и 732 строки."
   ]
  },
  {
   "cell_type": "markdown",
   "metadata": {},
   "source": [
    "Колонки в `telecom_dataset.csv.zip`:\n",
    "\n",
    "- `user_id` — Идентификатор клиентского аккаунта в сервисе\n",
    "- `date` — Дата статистики\n",
    "- `direction` — Направление вызовов (out - исходящий вызов, in — входящий вызов)\n",
    "- `internal` — Является ли звонок внутренним звонком между операторами клиента\n",
    "- `operator_id` — Идентификатор оператора\n",
    "- `is_missed_call` — Является ли звонок пропущенным\n",
    "- `calls_count` — Количество звонков\n",
    "- `call_duration` — Длительность звонка (без учета времени ожидания)\n",
    "- `total_call_duration` — Длительность звонка (с учетом времени ожидания)\n",
    "\n",
    "Колонки в `telecom_clients.csv`:\n",
    "\n",
    "- `user_id` — Идентификатор клиентского аккаунта в сервисе\n",
    "- `tariff_plan` — Текущий тарифный план колл-центра\n",
    "- `date_start` — Дата регистрации колл-центра в сервисе"
   ]
  },
  {
   "cell_type": "code",
   "execution_count": 5,
   "metadata": {},
   "outputs": [
    {
     "name": "stdout",
     "output_type": "stream",
     "text": [
      "Уникальные значение столбца direction: ['in' 'out']\n",
      "Уникальные значение столбца internal: [False True nan]\n",
      "Уникальные значение столбца is_missed_call: [ True False]\n"
     ]
    }
   ],
   "source": [
    "df_col = [\n",
    "    data_tel['direction'],\n",
    "    data_tel['internal'],\n",
    "    data_tel['is_missed_call'],\n",
    "]\n",
    "for col in df_col:\n",
    "    print(f'Уникальные значение столбца {col.name}:', col.unique())"
   ]
  },
  {
   "cell_type": "markdown",
   "metadata": {},
   "source": [
    "## Предобработка данных"
   ]
  },
  {
   "cell_type": "markdown",
   "metadata": {},
   "source": [
    "### Поиск и устрнанение пропусков в данных\n",
    "\n",
    "Посмотрим пропуски в данных."
   ]
  },
  {
   "cell_type": "code",
   "execution_count": 6,
   "metadata": {},
   "outputs": [
    {
     "name": "stdout",
     "output_type": "stream",
     "text": [
      "Кол-во пропусков в data_tel:  user_id                   0\n",
      "date                      0\n",
      "direction                 0\n",
      "internal                117\n",
      "operator_id            8172\n",
      "is_missed_call            0\n",
      "calls_count               0\n",
      "call_duration             0\n",
      "total_call_duration       0\n",
      "dtype: int64\n",
      "Процент пропусков в data_tel:  user_id                 0.000000\n",
      "date                    0.000000\n",
      "direction               0.000000\n",
      "internal                0.217061\n",
      "operator_id            15.160847\n",
      "is_missed_call          0.000000\n",
      "calls_count             0.000000\n",
      "call_duration           0.000000\n",
      "total_call_duration     0.000000\n",
      "dtype: float64\n",
      "Кол-во пропусков в data_clients:  user_id        0\n",
      "tariff_plan    0\n",
      "date_start     0\n",
      "dtype: int64\n",
      "Процент пропусков в data_clients:  user_id        0.0\n",
      "tariff_plan    0.0\n",
      "date_start     0.0\n",
      "dtype: float64\n"
     ]
    }
   ],
   "source": [
    "print('Кол-во пропусков в data_tel: ', data_tel.isna().sum())\n",
    "print('Процент пропусков в data_tel: ', data_tel.isna().mean() * 100)\n",
    "print('Кол-во пропусков в data_clients: ', data_clients.isna().sum())\n",
    "print('Процент пропусков в data_clients: ', data_clients.isna().mean() * 100)"
   ]
  },
  {
   "cell_type": "markdown",
   "metadata": {},
   "source": [
    "В датафрейме data_tel есть 117 пропусков в столбце internal и 8172 пропусков в столце operator_id. Строки с пропусками в строке internal можно удалить, там содержатся булевые значения, по которым далее будет производится разделение колл-центров, заполнить эти пропуски нечем, к тому же их довольно малое количество, менее 1%. Пропуски в столбце operator_id же заполним нулями, их у нас примерно 15%."
   ]
  },
  {
   "cell_type": "code",
   "execution_count": 7,
   "metadata": {},
   "outputs": [],
   "source": [
    "data_tel['operator_id'] = data_tel['operator_id'].fillna(0)\n",
    "data_tel = data_tel.dropna()"
   ]
  },
  {
   "cell_type": "markdown",
   "metadata": {},
   "source": [
    "### Поиск и устранение дубликатов в данных\n",
    "\n",
    "Проверим наличие дубликатов в данных."
   ]
  },
  {
   "cell_type": "code",
   "execution_count": 8,
   "metadata": {},
   "outputs": [
    {
     "name": "stdout",
     "output_type": "stream",
     "text": [
      "Кол-во дубликатов в data_tel:  4893\n",
      "Кол-во дубликатов в data_clients:  0\n"
     ]
    }
   ],
   "source": [
    "print('Кол-во дубликатов в data_tel: ', data_tel.duplicated().sum())\n",
    "print('Кол-во дубликатов в data_clients: ', data_clients.duplicated().sum())"
   ]
  },
  {
   "cell_type": "markdown",
   "metadata": {},
   "source": [
    "Так как данные уже аггрегированы - можем все дубликаты удалить."
   ]
  },
  {
   "cell_type": "code",
   "execution_count": 9,
   "metadata": {},
   "outputs": [],
   "source": [
    "data_tel = data_tel.drop_duplicates().reset_index(drop=True)"
   ]
  },
  {
   "cell_type": "markdown",
   "metadata": {},
   "source": [
    "### Проверка соответствия типов данных и приведение их в соответствие"
   ]
  },
  {
   "cell_type": "markdown",
   "metadata": {},
   "source": [
    "Выше мы вызвали информацию о датафреймах. Оптимальные типы данных для `date` — `datetime`, для `internal` — `bool`. Переведем значения сооответствующих столбцов в нужный тип данных."
   ]
  },
  {
   "cell_type": "code",
   "execution_count": 10,
   "metadata": {},
   "outputs": [],
   "source": [
    "data_tel['date'] = pd.to_datetime(data_tel['date'], format='%Y.%m.%d')\n",
    "data_tel['internal'] = data_tel['internal'].astype('bool')\n",
    "data_clients['date_start'] = pd.to_datetime(data_clients['date_start'], format='%Y.%m.%d')"
   ]
  },
  {
   "cell_type": "markdown",
   "metadata": {},
   "source": [
    "Посмотрим за какой период у нас наблюдения."
   ]
  },
  {
   "cell_type": "code",
   "execution_count": 11,
   "metadata": {},
   "outputs": [
    {
     "name": "stdout",
     "output_type": "stream",
     "text": [
      "Минимальная дата наблюдений: 2019-08-02 00:00:00+03:00\n",
      "Максимальная дата наблюдений: 2019-11-28 00:00:00+03:00\n"
     ]
    }
   ],
   "source": [
    "print('Минимальная дата наблюдений:', data_tel['date'].min())\n",
    "print('Максимальная дата наблюдений:', data_tel['date'].max())"
   ]
  },
  {
   "cell_type": "markdown",
   "metadata": {},
   "source": [
    "Период у нас почти 4 месяца. Данные к анализу готовы. Идем дальше."
   ]
  },
  {
   "cell_type": "markdown",
   "metadata": {},
   "source": [
    "## Исследовательский анализ данных"
   ]
  },
  {
   "cell_type": "markdown",
   "metadata": {},
   "source": [
    "### Подсчет среднего количества операторов в колл-центре\n",
    "\n",
    "Посмотрим сколько операторов в колл-центре и прикинем сколько в среднем их как на один колл-центр, так и в принципе. Выведем сводную таблицу, где отразим количество операторов и user_id колл-центров, где они работают. Следом вызовем describe к данной таблице с диаграммой размаха."
   ]
  },
  {
   "cell_type": "code",
   "execution_count": 12,
   "metadata": {},
   "outputs": [
    {
     "data": {
      "text/html": [
       "<div>\n",
       "<style scoped>\n",
       "    .dataframe tbody tr th:only-of-type {\n",
       "        vertical-align: middle;\n",
       "    }\n",
       "\n",
       "    .dataframe tbody tr th {\n",
       "        vertical-align: top;\n",
       "    }\n",
       "\n",
       "    .dataframe thead th {\n",
       "        text-align: right;\n",
       "    }\n",
       "</style>\n",
       "<table border=\"1\" class=\"dataframe\">\n",
       "  <thead>\n",
       "    <tr style=\"text-align: right;\">\n",
       "      <th></th>\n",
       "      <th>operator_id</th>\n",
       "    </tr>\n",
       "    <tr>\n",
       "      <th>user_id</th>\n",
       "      <th></th>\n",
       "    </tr>\n",
       "  </thead>\n",
       "  <tbody>\n",
       "    <tr>\n",
       "      <th>168187</th>\n",
       "      <td>51</td>\n",
       "    </tr>\n",
       "    <tr>\n",
       "      <th>167626</th>\n",
       "      <td>49</td>\n",
       "    </tr>\n",
       "    <tr>\n",
       "      <th>167497</th>\n",
       "      <td>31</td>\n",
       "    </tr>\n",
       "    <tr>\n",
       "      <th>168252</th>\n",
       "      <td>29</td>\n",
       "    </tr>\n",
       "    <tr>\n",
       "      <th>168062</th>\n",
       "      <td>28</td>\n",
       "    </tr>\n",
       "    <tr>\n",
       "      <th>...</th>\n",
       "      <td>...</td>\n",
       "    </tr>\n",
       "    <tr>\n",
       "      <th>168340</th>\n",
       "      <td>1</td>\n",
       "    </tr>\n",
       "    <tr>\n",
       "      <th>167265</th>\n",
       "      <td>1</td>\n",
       "    </tr>\n",
       "    <tr>\n",
       "      <th>167682</th>\n",
       "      <td>1</td>\n",
       "    </tr>\n",
       "    <tr>\n",
       "      <th>168024</th>\n",
       "      <td>1</td>\n",
       "    </tr>\n",
       "    <tr>\n",
       "      <th>168329</th>\n",
       "      <td>1</td>\n",
       "    </tr>\n",
       "  </tbody>\n",
       "</table>\n",
       "<p>307 rows × 1 columns</p>\n",
       "</div>"
      ],
      "text/plain": [
       "         operator_id\n",
       "user_id             \n",
       "168187            51\n",
       "167626            49\n",
       "167497            31\n",
       "168252            29\n",
       "168062            28\n",
       "...              ...\n",
       "168340             1\n",
       "167265             1\n",
       "167682             1\n",
       "168024             1\n",
       "168329             1\n",
       "\n",
       "[307 rows x 1 columns]"
      ]
     },
     "execution_count": 12,
     "metadata": {},
     "output_type": "execute_result"
    }
   ],
   "source": [
    "pivot_op = data_tel.pivot_table(values='operator_id', index='user_id', aggfunc='nunique')\n",
    "pivot_op.sort_values('operator_id', ascending=False)"
   ]
  },
  {
   "cell_type": "code",
   "execution_count": 13,
   "metadata": {
    "scrolled": true
   },
   "outputs": [
    {
     "data": {
      "text/plain": [
       "count    307.000000\n",
       "mean       4.550489\n",
       "std        5.626724\n",
       "min        1.000000\n",
       "25%        2.000000\n",
       "50%        3.000000\n",
       "75%        5.000000\n",
       "max       51.000000\n",
       "Name: operator_id, dtype: float64"
      ]
     },
     "execution_count": 13,
     "metadata": {},
     "output_type": "execute_result"
    }
   ],
   "source": [
    "pivot_op['operator_id'].describe()"
   ]
  },
  {
   "cell_type": "code",
   "execution_count": 14,
   "metadata": {},
   "outputs": [
    {
     "data": {
      "image/png": "[encoded data removed]",
      "text/plain": [
       "<Figure size 432x288 with 1 Axes>"
      ]
     },
     "metadata": {
      "needs_background": "light"
     },
     "output_type": "display_data"
    }
   ],
   "source": [
    "plt.ylim(0, 10)\n",
    "pivot_op.boxplot(['operator_id'])\n",
    "plt.title('Диаграмма размаха кол-ва операторов в колл-центрах')\n",
    "plt.show()"
   ]
  },
  {
   "cell_type": "markdown",
   "metadata": {},
   "source": [
    "Видим, что в среднем на 1 колл-центр приходится примерно 5 операторов, при этом есть колл-центры, где их сильно больше. Эти колл-центры-гиганты искажают среднее значение. Медиана - 3 оператора. Посторим гистограмму, где не будем учитывать колл-центры-гиганты."
   ]
  },
  {
   "cell_type": "code",
   "execution_count": 15,
   "metadata": {},
   "outputs": [
    {
     "data": {
      "image/png": "[encoded data removed]",
      "text/plain": [
       "<Figure size 720x360 with 1 Axes>"
      ]
     },
     "metadata": {
      "needs_background": "light"
     },
     "output_type": "display_data"
    }
   ],
   "source": [
    "pivot_op['operator_id'].hist(bins=9, range=(1, 9), figsize=(10, 5))\n",
    "plt.title('Гистограмма кол-ва операторов в колл-центрах')\n",
    "plt.xlabel('Кол-во операторов')\n",
    "plt.ylabel('Частота')\n",
    "plt.show()"
   ]
  },
  {
   "cell_type": "markdown",
   "metadata": {},
   "source": [
    "Судя по гистограмме, чаще всего в колл-центрах работает 2 оператора, реже 3. Можно сказать, что клиентская выборка достаточно неоднородна и в ней присутствуют как колл-центры с небольшим количеством операторов, так и крупные колл-центры с большим числом операторов."
   ]
  },
  {
   "cell_type": "markdown",
   "metadata": {},
   "source": [
    "### Подсчет среднего количества успешных и пропущенных звонков"
   ]
  },
  {
   "cell_type": "markdown",
   "metadata": {},
   "source": [
    "Посчитаем среднее количество успешных и пропущенных звонков. Соберем в сводную таблицу данные из столбца is_missed_call и просуммируем количество звонков из calls_count соответствующие значениям из is_missed_call."
   ]
  },
  {
   "cell_type": "code",
   "execution_count": 16,
   "metadata": {
    "scrolled": false
   },
   "outputs": [
    {
     "data": {
      "text/html": [
       "<div>\n",
       "<style scoped>\n",
       "    .dataframe tbody tr th:only-of-type {\n",
       "        vertical-align: middle;\n",
       "    }\n",
       "\n",
       "    .dataframe tbody tr th {\n",
       "        vertical-align: top;\n",
       "    }\n",
       "\n",
       "    .dataframe thead tr th {\n",
       "        text-align: left;\n",
       "    }\n",
       "</style>\n",
       "<table border=\"1\" class=\"dataframe\">\n",
       "  <thead>\n",
       "    <tr>\n",
       "      <th></th>\n",
       "      <th>user_id</th>\n",
       "      <th colspan=\"2\" halign=\"left\">sum</th>\n",
       "    </tr>\n",
       "    <tr>\n",
       "      <th>is_missed_call</th>\n",
       "      <th></th>\n",
       "      <th>False</th>\n",
       "      <th>True</th>\n",
       "    </tr>\n",
       "  </thead>\n",
       "  <tbody>\n",
       "    <tr>\n",
       "      <th>0</th>\n",
       "      <td>166377</td>\n",
       "      <td>3269</td>\n",
       "      <td>1880</td>\n",
       "    </tr>\n",
       "    <tr>\n",
       "      <th>1</th>\n",
       "      <td>166391</td>\n",
       "      <td>6</td>\n",
       "      <td>21</td>\n",
       "    </tr>\n",
       "    <tr>\n",
       "      <th>2</th>\n",
       "      <td>166392</td>\n",
       "      <td>102</td>\n",
       "      <td>107</td>\n",
       "    </tr>\n",
       "    <tr>\n",
       "      <th>3</th>\n",
       "      <td>166399</td>\n",
       "      <td>13</td>\n",
       "      <td>11</td>\n",
       "    </tr>\n",
       "    <tr>\n",
       "      <th>4</th>\n",
       "      <td>166405</td>\n",
       "      <td>8636</td>\n",
       "      <td>8898</td>\n",
       "    </tr>\n",
       "    <tr>\n",
       "      <th>...</th>\n",
       "      <td>...</td>\n",
       "      <td>...</td>\n",
       "      <td>...</td>\n",
       "    </tr>\n",
       "    <tr>\n",
       "      <th>302</th>\n",
       "      <td>168583</td>\n",
       "      <td>22</td>\n",
       "      <td>18</td>\n",
       "    </tr>\n",
       "    <tr>\n",
       "      <th>303</th>\n",
       "      <td>168598</td>\n",
       "      <td>21</td>\n",
       "      <td>80</td>\n",
       "    </tr>\n",
       "    <tr>\n",
       "      <th>304</th>\n",
       "      <td>168601</td>\n",
       "      <td>419</td>\n",
       "      <td>273</td>\n",
       "    </tr>\n",
       "    <tr>\n",
       "      <th>305</th>\n",
       "      <td>168603</td>\n",
       "      <td>10</td>\n",
       "      <td>5</td>\n",
       "    </tr>\n",
       "    <tr>\n",
       "      <th>306</th>\n",
       "      <td>168606</td>\n",
       "      <td>15</td>\n",
       "      <td>12</td>\n",
       "    </tr>\n",
       "  </tbody>\n",
       "</table>\n",
       "<p>307 rows × 3 columns</p>\n",
       "</div>"
      ],
      "text/plain": [
       "               user_id   sum      \n",
       "is_missed_call         False  True\n",
       "0               166377  3269  1880\n",
       "1               166391     6    21\n",
       "2               166392   102   107\n",
       "3               166399    13    11\n",
       "4               166405  8636  8898\n",
       "..                 ...   ...   ...\n",
       "302             168583    22    18\n",
       "303             168598    21    80\n",
       "304             168601   419   273\n",
       "305             168603    10     5\n",
       "306             168606    15    12\n",
       "\n",
       "[307 rows x 3 columns]"
      ]
     },
     "execution_count": 16,
     "metadata": {},
     "output_type": "execute_result"
    }
   ],
   "source": [
    "data_miss = data_tel.pivot_table(\n",
    "    values='calls_count',\n",
    "    index='user_id',\n",
    "    columns='is_missed_call',\n",
    "    aggfunc=['sum'],\n",
    "    fill_value=0,\n",
    ").reset_index()\n",
    "data_miss"
   ]
  },
  {
   "cell_type": "markdown",
   "metadata": {},
   "source": [
    "Вызовем describe и посмотрим среднее количество звонков, построим диграмму размаха."
   ]
  },
  {
   "cell_type": "code",
   "execution_count": 17,
   "metadata": {
    "scrolled": true
   },
   "outputs": [
    {
     "data": {
      "text/html": [
       "<div>\n",
       "<style scoped>\n",
       "    .dataframe tbody tr th:only-of-type {\n",
       "        vertical-align: middle;\n",
       "    }\n",
       "\n",
       "    .dataframe tbody tr th {\n",
       "        vertical-align: top;\n",
       "    }\n",
       "\n",
       "    .dataframe thead th {\n",
       "        text-align: right;\n",
       "    }\n",
       "</style>\n",
       "<table border=\"1\" class=\"dataframe\">\n",
       "  <thead>\n",
       "    <tr style=\"text-align: right;\">\n",
       "      <th>is_missed_call</th>\n",
       "      <th>False</th>\n",
       "      <th>True</th>\n",
       "    </tr>\n",
       "  </thead>\n",
       "  <tbody>\n",
       "    <tr>\n",
       "      <th>count</th>\n",
       "      <td>307.000000</td>\n",
       "      <td>307.000000</td>\n",
       "    </tr>\n",
       "    <tr>\n",
       "      <th>mean</th>\n",
       "      <td>1403.035831</td>\n",
       "      <td>1223.947883</td>\n",
       "    </tr>\n",
       "    <tr>\n",
       "      <th>std</th>\n",
       "      <td>5915.430699</td>\n",
       "      <td>5731.942756</td>\n",
       "    </tr>\n",
       "    <tr>\n",
       "      <th>min</th>\n",
       "      <td>0.000000</td>\n",
       "      <td>0.000000</td>\n",
       "    </tr>\n",
       "    <tr>\n",
       "      <th>25%</th>\n",
       "      <td>11.500000</td>\n",
       "      <td>22.000000</td>\n",
       "    </tr>\n",
       "    <tr>\n",
       "      <th>50%</th>\n",
       "      <td>108.000000</td>\n",
       "      <td>90.000000</td>\n",
       "    </tr>\n",
       "    <tr>\n",
       "      <th>75%</th>\n",
       "      <td>688.500000</td>\n",
       "      <td>479.500000</td>\n",
       "    </tr>\n",
       "    <tr>\n",
       "      <th>max</th>\n",
       "      <td>83276.000000</td>\n",
       "      <td>61224.000000</td>\n",
       "    </tr>\n",
       "  </tbody>\n",
       "</table>\n",
       "</div>"
      ],
      "text/plain": [
       "is_missed_call         False         True \n",
       "count             307.000000    307.000000\n",
       "mean             1403.035831   1223.947883\n",
       "std              5915.430699   5731.942756\n",
       "min                 0.000000      0.000000\n",
       "25%                11.500000     22.000000\n",
       "50%               108.000000     90.000000\n",
       "75%               688.500000    479.500000\n",
       "max             83276.000000  61224.000000"
      ]
     },
     "execution_count": 17,
     "metadata": {},
     "output_type": "execute_result"
    }
   ],
   "source": [
    "data_miss['sum'].describe()"
   ]
  },
  {
   "cell_type": "code",
   "execution_count": 18,
   "metadata": {},
   "outputs": [
    {
     "data": {
      "image/png": "[encoded data removed]",
      "text/plain": [
       "<Figure size 432x288 with 1 Axes>"
      ]
     },
     "metadata": {
      "needs_background": "light"
     },
     "output_type": "display_data"
    }
   ],
   "source": [
    "plt.ylim(-20, 1800)\n",
    "data_miss['sum'].boxplot()\n",
    "plt.title('Диаграмма размаха кол-ва успешных и пропущенных звонков')\n",
    "plt.show()"
   ]
  },
  {
   "cell_type": "markdown",
   "metadata": {},
   "source": [
    "Видим, что среднее и медиана у нас сильно отличаются из-за того, что среднее искажено слишком высокими значениями. Среднее количество успешных звонков у нас 1403, пропущенных 1223, тем временем как медиана успешных звонков - 108, а пропущенных - 90. Успешных звонков больше, но не сказать что разрыв большой."
   ]
  },
  {
   "cell_type": "markdown",
   "metadata": {},
   "source": [
    "### Подсчет средней длительности и среднего времени ответа на звонок"
   ]
  },
  {
   "cell_type": "markdown",
   "metadata": {},
   "source": [
    "Посчитаем среднюю длительность и среднее время ответа на звонок. Для начала выясним время ожидания. Создадим столбец waiting_duration, в котором вычтем значения столбца total_call_duration из call_duration."
   ]
  },
  {
   "cell_type": "code",
   "execution_count": 19,
   "metadata": {},
   "outputs": [],
   "source": [
    "data_tel['waiting_duration'] = data_tel['total_call_duration'] - data_tel['call_duration']"
   ]
  },
  {
   "cell_type": "markdown",
   "metadata": {},
   "source": [
    "Вызовем describe и посмотрим среднее ожидание ответа, так же построим диаграмму размаха."
   ]
  },
  {
   "cell_type": "code",
   "execution_count": 20,
   "metadata": {},
   "outputs": [
    {
     "data": {
      "text/plain": [
       "count    48892.000000\n",
       "mean       290.887671\n",
       "std       1133.354018\n",
       "min          0.000000\n",
       "25%         17.000000\n",
       "50%         55.000000\n",
       "75%        200.000000\n",
       "max      46474.000000\n",
       "Name: waiting_duration, dtype: float64"
      ]
     },
     "execution_count": 20,
     "metadata": {},
     "output_type": "execute_result"
    }
   ],
   "source": [
    "data_tel['waiting_duration'].describe()"
   ]
  },
  {
   "cell_type": "code",
   "execution_count": 21,
   "metadata": {},
   "outputs": [
    {
     "data": {
      "image/png": "[encoded data removed]",
      "text/plain": [
       "<Figure size 432x288 with 1 Axes>"
      ]
     },
     "metadata": {
      "needs_background": "light"
     },
     "output_type": "display_data"
    }
   ],
   "source": [
    "plt.ylim(-20, 500)\n",
    "data_tel.boxplot('waiting_duration')\n",
    "plt.title('Диаграмма размаха времени ответа на звонок')\n",
    "plt.show()"
   ]
  },
  {
   "cell_type": "markdown",
   "metadata": {},
   "source": [
    "291 минута среднее время ожидания, при этом медиана - 55 минут. Очень сильные искажения среднего из-за сильно больших значений. Посчитаем сколько времени приходится в среднем на 1 звонок."
   ]
  },
  {
   "cell_type": "code",
   "execution_count": 22,
   "metadata": {},
   "outputs": [
    {
     "name": "stdout",
     "output_type": "stream",
     "text": [
      "Среднее время ожидания ответа на 1 звонок:  17.63467099161298\n"
     ]
    }
   ],
   "source": [
    "print('Среднее время ожидания ответа на 1 звонок: ', data_tel['waiting_duration'].sum() / data_tel['calls_count'].sum())"
   ]
  },
  {
   "cell_type": "markdown",
   "metadata": {},
   "source": [
    "На 1 звонок приходится 17 минут. Это очень много. Тем не менее, это, вероятно, связано с особенностями аггрегации данных. Возможно при сборе таблицы агрегация шла еще и по телефонному номеру. Т.е. многократные звонки за 1 день с одного номера могут считаться за 1 звонок, а время ожидания складывается. Подобная ситуация может влиять не только на время ожидания, но и на длительность звонков тоже.\n",
    "\n",
    "Вызовем describe к столбцу с продолжительностью звонков и так же построим диаграмму размаха. Ниже за одно рассчитаем среднюю длительность одного звонка."
   ]
  },
  {
   "cell_type": "code",
   "execution_count": 23,
   "metadata": {},
   "outputs": [
    {
     "data": {
      "text/plain": [
       "count     48892.000000\n",
       "mean        868.088788\n",
       "std        3779.549967\n",
       "min           0.000000\n",
       "25%           0.000000\n",
       "50%          37.000000\n",
       "75%         573.000000\n",
       "max      144395.000000\n",
       "Name: call_duration, dtype: float64"
      ]
     },
     "execution_count": 23,
     "metadata": {},
     "output_type": "execute_result"
    }
   ],
   "source": [
    "data_tel['call_duration'].describe()"
   ]
  },
  {
   "cell_type": "code",
   "execution_count": 24,
   "metadata": {},
   "outputs": [
    {
     "data": {
      "image/png": "[encoded data removed]",
      "text/plain": [
       "<Figure size 432x288 with 1 Axes>"
      ]
     },
     "metadata": {
      "needs_background": "light"
     },
     "output_type": "display_data"
    }
   ],
   "source": [
    "plt.ylim(-50, 1500)\n",
    "data_tel.boxplot('call_duration')\n",
    "plt.title('Диаграмма размаха длительности звонков')\n",
    "plt.show()"
   ]
  },
  {
   "cell_type": "code",
   "execution_count": 25,
   "metadata": {},
   "outputs": [
    {
     "name": "stdout",
     "output_type": "stream",
     "text": [
      "Средняя продолжительность 1 звонка:  52.626706791455256\n"
     ]
    }
   ],
   "source": [
    "print('Средняя продолжительность 1 звонка: ', data_tel['call_duration'].sum() / data_tel['calls_count'].sum())"
   ]
  },
  {
   "cell_type": "markdown",
   "metadata": {},
   "source": [
    "Видим, что среднее показывает 868 минут, а медиана - 37 минут. Колоссальное различие. Так же и на 1 звонок у нас приходится почти 53 минуты. В принципе у нас есть объяснение этому феномену, всё дело в особенностях аггрегирования данных.\n",
    "\n",
    "По итогам анализа видим, что выборки неоднородные и нуждаются в разделении по специализациям колл-центров. В дальнейшем, при определении границ неэффективности выбросы нам будут мешать. Разберемся с ними в процессе определения границ."
   ]
  },
  {
   "cell_type": "markdown",
   "metadata": {},
   "source": [
    "### Разделение выборки колл-центров по специализациям: прием входящих вызовов и осуществление исходящих вызовов\n",
    "\n",
    "Разделим выборки колл-центров по специализациям. Составим сводную таблицу."
   ]
  },
  {
   "cell_type": "code",
   "execution_count": 26,
   "metadata": {
    "scrolled": true
   },
   "outputs": [
    {
     "data": {
      "text/html": [
       "<div>\n",
       "<style scoped>\n",
       "    .dataframe tbody tr th:only-of-type {\n",
       "        vertical-align: middle;\n",
       "    }\n",
       "\n",
       "    .dataframe tbody tr th {\n",
       "        vertical-align: top;\n",
       "    }\n",
       "\n",
       "    .dataframe thead th {\n",
       "        text-align: right;\n",
       "    }\n",
       "</style>\n",
       "<table border=\"1\" class=\"dataframe\">\n",
       "  <thead>\n",
       "    <tr style=\"text-align: right;\">\n",
       "      <th>direction</th>\n",
       "      <th>user_id</th>\n",
       "      <th>in</th>\n",
       "      <th>out</th>\n",
       "      <th>% in</th>\n",
       "      <th>% out</th>\n",
       "    </tr>\n",
       "  </thead>\n",
       "  <tbody>\n",
       "    <tr>\n",
       "      <th>0</th>\n",
       "      <td>166377</td>\n",
       "      <td>196</td>\n",
       "      <td>4953</td>\n",
       "      <td>3.81</td>\n",
       "      <td>96.19</td>\n",
       "    </tr>\n",
       "    <tr>\n",
       "      <th>1</th>\n",
       "      <td>166391</td>\n",
       "      <td>26</td>\n",
       "      <td>1</td>\n",
       "      <td>96.30</td>\n",
       "      <td>3.70</td>\n",
       "    </tr>\n",
       "    <tr>\n",
       "      <th>2</th>\n",
       "      <td>166392</td>\n",
       "      <td>209</td>\n",
       "      <td>0</td>\n",
       "      <td>100.00</td>\n",
       "      <td>0.00</td>\n",
       "    </tr>\n",
       "    <tr>\n",
       "      <th>3</th>\n",
       "      <td>166399</td>\n",
       "      <td>24</td>\n",
       "      <td>0</td>\n",
       "      <td>100.00</td>\n",
       "      <td>0.00</td>\n",
       "    </tr>\n",
       "    <tr>\n",
       "      <th>4</th>\n",
       "      <td>166405</td>\n",
       "      <td>7709</td>\n",
       "      <td>9825</td>\n",
       "      <td>43.97</td>\n",
       "      <td>56.03</td>\n",
       "    </tr>\n",
       "  </tbody>\n",
       "</table>\n",
       "</div>"
      ],
      "text/plain": [
       "direction  user_id    in   out    % in  % out\n",
       "0           166377   196  4953    3.81  96.19\n",
       "1           166391    26     1   96.30   3.70\n",
       "2           166392   209     0  100.00   0.00\n",
       "3           166399    24     0  100.00   0.00\n",
       "4           166405  7709  9825   43.97  56.03"
      ]
     },
     "execution_count": 26,
     "metadata": {},
     "output_type": "execute_result"
    }
   ],
   "source": [
    "data_pivot = data_tel.pivot_table(\n",
    "    values='calls_count',\n",
    "    index='user_id',\n",
    "    columns='direction',\n",
    "    aggfunc='sum',\n",
    "    fill_value=0,\n",
    ").reset_index()\n",
    "data_pivot['% in'] = (data_pivot['in'] / (data_pivot['in'] + data_pivot['out']) * 100).round(2)\n",
    "data_pivot['% out'] = (data_pivot['out'] / (data_pivot['in'] + data_pivot['out']) * 100).round(2)\n",
    "data_pivot.head()"
   ]
  },
  {
   "cell_type": "markdown",
   "metadata": {},
   "source": [
    "Выведем describe отдельно по данным с входящими вызовами и отдельно по данным с исходящими вызовами и посмтроим диаграмму размаха."
   ]
  },
  {
   "cell_type": "code",
   "execution_count": 27,
   "metadata": {
    "scrolled": false
   },
   "outputs": [
    {
     "data": {
      "text/plain": [
       "count      307.000000\n",
       "mean       643.732899\n",
       "std       2290.762300\n",
       "min          1.000000\n",
       "25%         28.000000\n",
       "50%         87.000000\n",
       "75%        344.500000\n",
       "max      27090.000000\n",
       "Name: in, dtype: float64"
      ]
     },
     "execution_count": 27,
     "metadata": {},
     "output_type": "execute_result"
    }
   ],
   "source": [
    "data_pivot['in'].describe()"
   ]
  },
  {
   "cell_type": "code",
   "execution_count": 28,
   "metadata": {},
   "outputs": [
    {
     "data": {
      "text/plain": [
       "count       307.000000\n",
       "mean       1983.250814\n",
       "std        9909.755943\n",
       "min           0.000000\n",
       "25%           0.000000\n",
       "50%          58.000000\n",
       "75%         751.500000\n",
       "max      137029.000000\n",
       "Name: out, dtype: float64"
      ]
     },
     "execution_count": 28,
     "metadata": {},
     "output_type": "execute_result"
    }
   ],
   "source": [
    "data_pivot['out'].describe()"
   ]
  },
  {
   "cell_type": "code",
   "execution_count": 29,
   "metadata": {
    "scrolled": true
   },
   "outputs": [
    {
     "data": {
      "image/png": "[encoded data removed]",
      "text/plain": [
       "<Figure size 432x288 with 1 Axes>"
      ]
     },
     "metadata": {
      "needs_background": "light"
     },
     "output_type": "display_data"
    }
   ],
   "source": [
    "plt.ylim(-50, 1900)\n",
    "data_pivot.boxplot(['in', 'out'])\n",
    "plt.title('Диаграмма размаха входящих и исходящих вызовов')\n",
    "plt.show()"
   ]
  },
  {
   "cell_type": "markdown",
   "metadata": {},
   "source": [
    "Видим большое количество выбросов в данных, что может быть вызвано наличием крупных колл-центров с большим количеством операторов. Среднее количество входящих вызовов - 643, исходящих - 1983. Медиана входящих - 87, исходящих - 58. Посчитаем сколько всего входящих, а сколько исходящих вызовов."
   ]
  },
  {
   "cell_type": "code",
   "execution_count": 30,
   "metadata": {},
   "outputs": [
    {
     "name": "stdout",
     "output_type": "stream",
     "text": [
      "Кол-во входящих вызовов:  197626\n",
      "Кол-во исходящих вызовов:  608858\n"
     ]
    }
   ],
   "source": [
    "print('Кол-во входящих вызовов: ', data_pivot['in'].sum())\n",
    "print('Кол-во исходящих вызовов: ', data_pivot['out'].sum())"
   ]
  },
  {
   "cell_type": "markdown",
   "metadata": {},
   "source": [
    "Исходящих вызовов сильно больше входящих.\n",
    "\n",
    "Специализацию определять будем путем сравнения столбцов с входящими и исходящими вызовами и если входящих вызовов будет больше, чем исходящих - запишем колл-центр в специализацию по входящим вызовам и наоборот.\n",
    "\n",
    "Создадим столбец compare в котором проведем это сравнение. Результатом будут булевы значения, где True будет означать, что больше входящих вызвов, чем исходящих. Далее сохраним поделенные user_id в переменные data_pivot_in и data_pivot_out с входящими и исходящими специализациями соответственно."
   ]
  },
  {
   "cell_type": "code",
   "execution_count": 31,
   "metadata": {},
   "outputs": [],
   "source": [
    "data_pivot['compare'] = data_pivot['in'] > data_pivot['out']\n",
    "\n",
    "data_pivot_in = data_pivot.query('compare == True')\n",
    "data_pivot_out = data_pivot.query('compare == False')\n",
    "\n",
    "data_pivot_in = data_pivot_in['user_id'].reset_index(drop=True)\n",
    "data_pivot_out = data_pivot_out['user_id'].reset_index(drop=True)"
   ]
  },
  {
   "cell_type": "markdown",
   "metadata": {},
   "source": [
    "Теперь мы знаем в каких колл-центрах преимущественно работают на исходящие вызовы, а в каких на входящие. Разделим наш изначальный датафрейм по значениям data_pivot_in и data_pivot_out."
   ]
  },
  {
   "cell_type": "code",
   "execution_count": 32,
   "metadata": {
    "scrolled": false
   },
   "outputs": [],
   "source": [
    "data_tel_in = data_tel.query('user_id in @data_pivot_in')\n",
    "data_tel_out = data_tel.query('user_id in @data_pivot_out')"
   ]
  },
  {
   "cell_type": "markdown",
   "metadata": {},
   "source": [
    "### Определение границ неэффективности по параметру \"количество пропущенных звонков\""
   ]
  },
  {
   "cell_type": "markdown",
   "metadata": {},
   "source": [
    "Определим границы неэффективности по количеству пропущенных звонков. Ранее мы уже исследовали количество пропущенных звонков по общим данным. Теперь же сделаем это с данными по коллцентрам, которые специализируются на исходящих вызовах. Соберем сводную таблицу."
   ]
  },
  {
   "cell_type": "code",
   "execution_count": 33,
   "metadata": {},
   "outputs": [
    {
     "data": {
      "text/html": [
       "<div>\n",
       "<style scoped>\n",
       "    .dataframe tbody tr th:only-of-type {\n",
       "        vertical-align: middle;\n",
       "    }\n",
       "\n",
       "    .dataframe tbody tr th {\n",
       "        vertical-align: top;\n",
       "    }\n",
       "\n",
       "    .dataframe thead th {\n",
       "        text-align: right;\n",
       "    }\n",
       "</style>\n",
       "<table border=\"1\" class=\"dataframe\">\n",
       "  <thead>\n",
       "    <tr style=\"text-align: right;\">\n",
       "      <th>is_missed_call</th>\n",
       "      <th>operator_id</th>\n",
       "      <th>True</th>\n",
       "    </tr>\n",
       "  </thead>\n",
       "  <tbody>\n",
       "    <tr>\n",
       "      <th>0</th>\n",
       "      <td>0.0</td>\n",
       "      <td>32356</td>\n",
       "    </tr>\n",
       "    <tr>\n",
       "      <th>1</th>\n",
       "      <td>882478.0</td>\n",
       "      <td>1</td>\n",
       "    </tr>\n",
       "    <tr>\n",
       "      <th>2</th>\n",
       "      <td>882680.0</td>\n",
       "      <td>3</td>\n",
       "    </tr>\n",
       "    <tr>\n",
       "      <th>3</th>\n",
       "      <td>888406.0</td>\n",
       "      <td>6</td>\n",
       "    </tr>\n",
       "    <tr>\n",
       "      <th>4</th>\n",
       "      <td>890582.0</td>\n",
       "      <td>38</td>\n",
       "    </tr>\n",
       "  </tbody>\n",
       "</table>\n",
       "</div>"
      ],
      "text/plain": [
       "is_missed_call  operator_id   True\n",
       "0                       0.0  32356\n",
       "1                  882478.0      1\n",
       "2                  882680.0      3\n",
       "3                  888406.0      6\n",
       "4                  890582.0     38"
      ]
     },
     "execution_count": 33,
     "metadata": {},
     "output_type": "execute_result"
    }
   ],
   "source": [
    "data_in_miss = data_tel_in.query('is_missed_call == True') # выбираем только пропущенные\n",
    "data_in_miss_pivot = data_in_miss.pivot_table(\n",
    "    values='calls_count',\n",
    "    index='operator_id',\n",
    "    columns='is_missed_call',\n",
    "    aggfunc='sum',\n",
    "    fill_value=0,\n",
    ").reset_index()\n",
    "data_in_miss_pivot.head()"
   ]
  },
  {
   "cell_type": "markdown",
   "metadata": {},
   "source": [
    "Переименуем столбец с пропущенными вызовами, чтобы не было проблем при воспроизведении кода."
   ]
  },
  {
   "cell_type": "code",
   "execution_count": 34,
   "metadata": {},
   "outputs": [],
   "source": [
    "data_in_miss_pivot = data_in_miss_pivot.rename(columns = {True : 'miss'})"
   ]
  },
  {
   "cell_type": "markdown",
   "metadata": {},
   "source": [
    "Вызовем describe и построим диаграмму размаха."
   ]
  },
  {
   "cell_type": "code",
   "execution_count": 35,
   "metadata": {
    "scrolled": true
   },
   "outputs": [
    {
     "data": {
      "text/plain": [
       "count      229.000000\n",
       "mean       203.903930\n",
       "std       2141.145688\n",
       "min          1.000000\n",
       "25%          2.000000\n",
       "50%          7.000000\n",
       "75%         35.000000\n",
       "max      32356.000000\n",
       "Name: miss, dtype: float64"
      ]
     },
     "execution_count": 35,
     "metadata": {},
     "output_type": "execute_result"
    }
   ],
   "source": [
    "data_in_miss_pivot['miss'].describe()"
   ]
  },
  {
   "cell_type": "markdown",
   "metadata": {},
   "source": [
    "ОБъявим функцию iqr, чтобы считать межквартильный размах и определить нижние и верхние границы квартилей."
   ]
  },
  {
   "cell_type": "code",
   "execution_count": 36,
   "metadata": {},
   "outputs": [
    {
     "data": {
      "text/plain": [
       "'Нижняя граница: 0, верхняя граница: 84.5'"
      ]
     },
     "execution_count": 36,
     "metadata": {},
     "output_type": "execute_result"
    }
   ],
   "source": [
    "def iqr(column):                   #объявляем функцию\n",
    "    q1 = column.quantile(0.25)     #1 квартиль\n",
    "    q3 = column.quantile(0.75)     #3 квартиль\n",
    "    iqr = q3 - q1                  #межквартильный размах\n",
    "    down_bord = q1 - 1.5 * iqr     #нижняя граница значений\n",
    "    up_bord = q3 + 1.5 * iqr       #верхняя граница значений\n",
    "    if down_bord < 0:              #условие, при котором если нижняя граница становится ниже нуля - считать её нулём\n",
    "        down_bord = 0\n",
    "    return f'Нижняя граница: {down_bord}, верхняя граница: {up_bord}'\n",
    "\n",
    "iqr(data_in_miss_pivot['miss'])"
   ]
  },
  {
   "cell_type": "code",
   "execution_count": 37,
   "metadata": {},
   "outputs": [
    {
     "data": {
      "image/png": "[encoded data removed]",
      "text/plain": [
       "<Figure size 432x288 with 1 Axes>"
      ]
     },
     "metadata": {
      "needs_background": "light"
     },
     "output_type": "display_data"
    }
   ],
   "source": [
    "plt.ylim(-10, 85)\n",
    "data_in_miss_pivot.boxplot('miss')\n",
    "plt.title('Диаграмма размаха кол-ва пропущенных звонков')\n",
    "plt.show()"
   ]
  },
  {
   "cell_type": "markdown",
   "metadata": {},
   "source": [
    "В данных много выбросов. Среднее значение очень сильно искажено. По расчетам межквартильного размаха уберем из сводной таблицы выбросы и проверим с помощью describe и диаграммы размаха что поменялось."
   ]
  },
  {
   "cell_type": "code",
   "execution_count": 38,
   "metadata": {},
   "outputs": [],
   "source": [
    "data_in_miss_clean = data_in_miss_pivot.query('0 < miss < 84.5')"
   ]
  },
  {
   "cell_type": "code",
   "execution_count": 39,
   "metadata": {},
   "outputs": [
    {
     "data": {
      "text/html": [
       "<div>\n",
       "<style scoped>\n",
       "    .dataframe tbody tr th:only-of-type {\n",
       "        vertical-align: middle;\n",
       "    }\n",
       "\n",
       "    .dataframe tbody tr th {\n",
       "        vertical-align: top;\n",
       "    }\n",
       "\n",
       "    .dataframe thead th {\n",
       "        text-align: right;\n",
       "    }\n",
       "</style>\n",
       "<table border=\"1\" class=\"dataframe\">\n",
       "  <thead>\n",
       "    <tr style=\"text-align: right;\">\n",
       "      <th>is_missed_call</th>\n",
       "      <th>operator_id</th>\n",
       "      <th>miss</th>\n",
       "    </tr>\n",
       "  </thead>\n",
       "  <tbody>\n",
       "    <tr>\n",
       "      <th>count</th>\n",
       "      <td>194.000000</td>\n",
       "      <td>194.000000</td>\n",
       "    </tr>\n",
       "    <tr>\n",
       "      <th>mean</th>\n",
       "      <td>922398.896907</td>\n",
       "      <td>12.360825</td>\n",
       "    </tr>\n",
       "    <tr>\n",
       "      <th>std</th>\n",
       "      <td>22348.394857</td>\n",
       "      <td>17.184271</td>\n",
       "    </tr>\n",
       "    <tr>\n",
       "      <th>min</th>\n",
       "      <td>882478.000000</td>\n",
       "      <td>1.000000</td>\n",
       "    </tr>\n",
       "    <tr>\n",
       "      <th>25%</th>\n",
       "      <td>901035.000000</td>\n",
       "      <td>2.000000</td>\n",
       "    </tr>\n",
       "    <tr>\n",
       "      <th>50%</th>\n",
       "      <td>920727.000000</td>\n",
       "      <td>5.000000</td>\n",
       "    </tr>\n",
       "    <tr>\n",
       "      <th>75%</th>\n",
       "      <td>940811.000000</td>\n",
       "      <td>14.000000</td>\n",
       "    </tr>\n",
       "    <tr>\n",
       "      <th>max</th>\n",
       "      <td>970486.000000</td>\n",
       "      <td>84.000000</td>\n",
       "    </tr>\n",
       "  </tbody>\n",
       "</table>\n",
       "</div>"
      ],
      "text/plain": [
       "is_missed_call    operator_id        miss\n",
       "count              194.000000  194.000000\n",
       "mean            922398.896907   12.360825\n",
       "std              22348.394857   17.184271\n",
       "min             882478.000000    1.000000\n",
       "25%             901035.000000    2.000000\n",
       "50%             920727.000000    5.000000\n",
       "75%             940811.000000   14.000000\n",
       "max             970486.000000   84.000000"
      ]
     },
     "execution_count": 39,
     "metadata": {},
     "output_type": "execute_result"
    }
   ],
   "source": [
    "data_in_miss_clean.describe()"
   ]
  },
  {
   "cell_type": "code",
   "execution_count": 40,
   "metadata": {},
   "outputs": [
    {
     "data": {
      "image/png": "[encoded data removed]",
      "text/plain": [
       "<Figure size 432x288 with 1 Axes>"
      ]
     },
     "metadata": {
      "needs_background": "light"
     },
     "output_type": "display_data"
    }
   ],
   "source": [
    "plt.ylim(0, 35)\n",
    "data_in_miss_clean.boxplot('miss')\n",
    "plt.title('Диаграмма размаха кол-ва пропущенных звонков по чистым данным')\n",
    "plt.show()"
   ]
  },
  {
   "cell_type": "markdown",
   "metadata": {},
   "source": [
    "Как видим, среднее значение у нас приблизилось к 75%. Будем считать 75% по чистым данным границей неэффективности по количество пропущенных звонков. Это значение - 14 звонков. Всё что выше - неэффективно."
   ]
  },
  {
   "cell_type": "markdown",
   "metadata": {},
   "source": [
    "### Определение границ неэффективности по параметру \"длительность ожидания ответа при входящих внешних вызовах\""
   ]
  },
  {
   "cell_type": "markdown",
   "metadata": {},
   "source": [
    "Определим границы по длительности ожидания ответа при входящих внешних вызовах. С помощью среза выберем только входящие внешние вызовы и соберем сводную таблицу с подсчетом длительности ожидания."
   ]
  },
  {
   "cell_type": "code",
   "execution_count": 41,
   "metadata": {},
   "outputs": [
    {
     "data": {
      "text/html": [
       "<div>\n",
       "<style scoped>\n",
       "    .dataframe tbody tr th:only-of-type {\n",
       "        vertical-align: middle;\n",
       "    }\n",
       "\n",
       "    .dataframe tbody tr th {\n",
       "        vertical-align: top;\n",
       "    }\n",
       "\n",
       "    .dataframe thead th {\n",
       "        text-align: right;\n",
       "    }\n",
       "</style>\n",
       "<table border=\"1\" class=\"dataframe\">\n",
       "  <thead>\n",
       "    <tr style=\"text-align: right;\">\n",
       "      <th></th>\n",
       "      <th>operator_id</th>\n",
       "      <th>waiting_duration</th>\n",
       "    </tr>\n",
       "  </thead>\n",
       "  <tbody>\n",
       "    <tr>\n",
       "      <th>0</th>\n",
       "      <td>0.0</td>\n",
       "      <td>659719</td>\n",
       "    </tr>\n",
       "    <tr>\n",
       "      <th>1</th>\n",
       "      <td>882476.0</td>\n",
       "      <td>95</td>\n",
       "    </tr>\n",
       "    <tr>\n",
       "      <th>2</th>\n",
       "      <td>882478.0</td>\n",
       "      <td>13</td>\n",
       "    </tr>\n",
       "    <tr>\n",
       "      <th>3</th>\n",
       "      <td>882680.0</td>\n",
       "      <td>1565</td>\n",
       "    </tr>\n",
       "    <tr>\n",
       "      <th>4</th>\n",
       "      <td>884294.0</td>\n",
       "      <td>6</td>\n",
       "    </tr>\n",
       "  </tbody>\n",
       "</table>\n",
       "</div>"
      ],
      "text/plain": [
       "   operator_id  waiting_duration\n",
       "0          0.0            659719\n",
       "1     882476.0                95\n",
       "2     882478.0                13\n",
       "3     882680.0              1565\n",
       "4     884294.0                 6"
      ]
     },
     "execution_count": 41,
     "metadata": {},
     "output_type": "execute_result"
    }
   ],
   "source": [
    "data_dir_in = data_tel_in.query('direction == \"in\" & internal == False') # выбираем только входящие внешние вызовы\n",
    "data_dir_in = data_dir_in.pivot_table(\n",
    "    values='waiting_duration',\n",
    "    index='operator_id',\n",
    "    aggfunc='sum',\n",
    "    fill_value=0,\n",
    ").reset_index()\n",
    "data_dir_in.head()"
   ]
  },
  {
   "cell_type": "markdown",
   "metadata": {},
   "source": [
    "Вызовем describe и iqr, а далее построим диаграмму размаха."
   ]
  },
  {
   "cell_type": "code",
   "execution_count": 42,
   "metadata": {},
   "outputs": [
    {
     "data": {
      "text/plain": [
       "count       332.000000\n",
       "mean       4133.144578\n",
       "std       36640.180322\n",
       "min           2.000000\n",
       "25%          69.000000\n",
       "50%         277.500000\n",
       "75%        1243.250000\n",
       "max      659719.000000\n",
       "Name: waiting_duration, dtype: float64"
      ]
     },
     "execution_count": 42,
     "metadata": {},
     "output_type": "execute_result"
    }
   ],
   "source": [
    "data_dir_in['waiting_duration'].describe()"
   ]
  },
  {
   "cell_type": "code",
   "execution_count": 43,
   "metadata": {},
   "outputs": [
    {
     "data": {
      "text/plain": [
       "'Нижняя граница: 0, верхняя граница: 3004.625'"
      ]
     },
     "execution_count": 43,
     "metadata": {},
     "output_type": "execute_result"
    }
   ],
   "source": [
    "iqr(data_dir_in['waiting_duration'])"
   ]
  },
  {
   "cell_type": "code",
   "execution_count": 44,
   "metadata": {
    "scrolled": true
   },
   "outputs": [
    {
     "data": {
      "image/png": "[encoded data removed]",
      "text/plain": [
       "<Figure size 432x288 with 1 Axes>"
      ]
     },
     "metadata": {
      "needs_background": "light"
     },
     "output_type": "display_data"
    }
   ],
   "source": [
    "plt.ylim(-10, 3005)\n",
    "data_dir_in.boxplot('waiting_duration')\n",
    "plt.title('Диаграмма размаха длительности ожидания ответа при входящих внешних вызовах')\n",
    "plt.show()"
   ]
  },
  {
   "cell_type": "markdown",
   "metadata": {},
   "source": [
    "Уберем выбросы из данных, сохраним чистые данные в data_dir_in_clean и выведем уже по ним describe и диаграмму размаха."
   ]
  },
  {
   "cell_type": "code",
   "execution_count": 45,
   "metadata": {},
   "outputs": [],
   "source": [
    "data_dir_in_clean = data_dir_in.query('0 < waiting_duration < 3004.625')"
   ]
  },
  {
   "cell_type": "code",
   "execution_count": 46,
   "metadata": {},
   "outputs": [
    {
     "data": {
      "text/html": [
       "<div>\n",
       "<style scoped>\n",
       "    .dataframe tbody tr th:only-of-type {\n",
       "        vertical-align: middle;\n",
       "    }\n",
       "\n",
       "    .dataframe tbody tr th {\n",
       "        vertical-align: top;\n",
       "    }\n",
       "\n",
       "    .dataframe thead th {\n",
       "        text-align: right;\n",
       "    }\n",
       "</style>\n",
       "<table border=\"1\" class=\"dataframe\">\n",
       "  <thead>\n",
       "    <tr style=\"text-align: right;\">\n",
       "      <th></th>\n",
       "      <th>operator_id</th>\n",
       "      <th>waiting_duration</th>\n",
       "    </tr>\n",
       "  </thead>\n",
       "  <tbody>\n",
       "    <tr>\n",
       "      <th>count</th>\n",
       "      <td>284.000000</td>\n",
       "      <td>284.000000</td>\n",
       "    </tr>\n",
       "    <tr>\n",
       "      <th>mean</th>\n",
       "      <td>924825.830986</td>\n",
       "      <td>471.880282</td>\n",
       "    </tr>\n",
       "    <tr>\n",
       "      <th>std</th>\n",
       "      <td>23605.262076</td>\n",
       "      <td>625.006154</td>\n",
       "    </tr>\n",
       "    <tr>\n",
       "      <th>min</th>\n",
       "      <td>882476.000000</td>\n",
       "      <td>2.000000</td>\n",
       "    </tr>\n",
       "    <tr>\n",
       "      <th>25%</th>\n",
       "      <td>902909.000000</td>\n",
       "      <td>45.250000</td>\n",
       "    </tr>\n",
       "    <tr>\n",
       "      <th>50%</th>\n",
       "      <td>924604.000000</td>\n",
       "      <td>170.500000</td>\n",
       "    </tr>\n",
       "    <tr>\n",
       "      <th>75%</th>\n",
       "      <td>944776.500000</td>\n",
       "      <td>694.500000</td>\n",
       "    </tr>\n",
       "    <tr>\n",
       "      <th>max</th>\n",
       "      <td>973286.000000</td>\n",
       "      <td>2838.000000</td>\n",
       "    </tr>\n",
       "  </tbody>\n",
       "</table>\n",
       "</div>"
      ],
      "text/plain": [
       "         operator_id  waiting_duration\n",
       "count     284.000000        284.000000\n",
       "mean   924825.830986        471.880282\n",
       "std     23605.262076        625.006154\n",
       "min    882476.000000          2.000000\n",
       "25%    902909.000000         45.250000\n",
       "50%    924604.000000        170.500000\n",
       "75%    944776.500000        694.500000\n",
       "max    973286.000000       2838.000000"
      ]
     },
     "execution_count": 46,
     "metadata": {},
     "output_type": "execute_result"
    }
   ],
   "source": [
    "data_dir_in_clean.describe()"
   ]
  },
  {
   "cell_type": "code",
   "execution_count": 47,
   "metadata": {},
   "outputs": [
    {
     "data": {
      "image/png": "[encoded data removed]",
      "text/plain": [
       "<Figure size 432x288 with 1 Axes>"
      ]
     },
     "metadata": {
      "needs_background": "light"
     },
     "output_type": "display_data"
    }
   ],
   "source": [
    "plt.ylim(-10, 1700)\n",
    "data_dir_in_clean.boxplot('waiting_duration')\n",
    "plt.title('Диаграмма размаха длительности ожидания ответа при входящих внешних вызовах по чистым данным')\n",
    "plt.show()"
   ]
  },
  {
   "cell_type": "markdown",
   "metadata": {},
   "source": [
    "После того как мы убрали выбросы среднее так же стало ближе к 75%. Будем считать показатель 75% по чистым данным за границу неэффективности по длительности ожидания ответа при входящих внешних вызовах. Всё что выше 695 минут - признак неэффективности."
   ]
  },
  {
   "cell_type": "markdown",
   "metadata": {},
   "source": [
    "### Определение границ неэффективности по параметру \"количество исходящих вызовов\""
   ]
  },
  {
   "cell_type": "markdown",
   "metadata": {},
   "source": [
    "Определим границы неэффективности по количеству исходящих вызовов. С помощью среза определим только исходящие вызовы и далее составим сводную таблицу, где будем использовать данные из data_tel_out - информация о колл-центрах, специализирующихся на исходящих вызовах."
   ]
  },
  {
   "cell_type": "code",
   "execution_count": 48,
   "metadata": {},
   "outputs": [
    {
     "data": {
      "text/html": [
       "<div>\n",
       "<style scoped>\n",
       "    .dataframe tbody tr th:only-of-type {\n",
       "        vertical-align: middle;\n",
       "    }\n",
       "\n",
       "    .dataframe tbody tr th {\n",
       "        vertical-align: top;\n",
       "    }\n",
       "\n",
       "    .dataframe thead th {\n",
       "        text-align: right;\n",
       "    }\n",
       "</style>\n",
       "<table border=\"1\" class=\"dataframe\">\n",
       "  <thead>\n",
       "    <tr style=\"text-align: right;\">\n",
       "      <th></th>\n",
       "      <th>operator_id</th>\n",
       "      <th>calls_count</th>\n",
       "    </tr>\n",
       "  </thead>\n",
       "  <tbody>\n",
       "    <tr>\n",
       "      <th>0</th>\n",
       "      <td>0.0</td>\n",
       "      <td>150</td>\n",
       "    </tr>\n",
       "    <tr>\n",
       "      <th>1</th>\n",
       "      <td>879896.0</td>\n",
       "      <td>872</td>\n",
       "    </tr>\n",
       "    <tr>\n",
       "      <th>2</th>\n",
       "      <td>879898.0</td>\n",
       "      <td>7209</td>\n",
       "    </tr>\n",
       "    <tr>\n",
       "      <th>3</th>\n",
       "      <td>880020.0</td>\n",
       "      <td>38</td>\n",
       "    </tr>\n",
       "    <tr>\n",
       "      <th>4</th>\n",
       "      <td>880022.0</td>\n",
       "      <td>189</td>\n",
       "    </tr>\n",
       "    <tr>\n",
       "      <th>...</th>\n",
       "      <td>...</td>\n",
       "      <td>...</td>\n",
       "    </tr>\n",
       "    <tr>\n",
       "      <th>661</th>\n",
       "      <td>972408.0</td>\n",
       "      <td>6</td>\n",
       "    </tr>\n",
       "    <tr>\n",
       "      <th>662</th>\n",
       "      <td>972410.0</td>\n",
       "      <td>77</td>\n",
       "    </tr>\n",
       "    <tr>\n",
       "      <th>663</th>\n",
       "      <td>972412.0</td>\n",
       "      <td>60</td>\n",
       "    </tr>\n",
       "    <tr>\n",
       "      <th>664</th>\n",
       "      <td>972460.0</td>\n",
       "      <td>50</td>\n",
       "    </tr>\n",
       "    <tr>\n",
       "      <th>665</th>\n",
       "      <td>973120.0</td>\n",
       "      <td>3</td>\n",
       "    </tr>\n",
       "  </tbody>\n",
       "</table>\n",
       "<p>666 rows × 2 columns</p>\n",
       "</div>"
      ],
      "text/plain": [
       "     operator_id  calls_count\n",
       "0            0.0          150\n",
       "1       879896.0          872\n",
       "2       879898.0         7209\n",
       "3       880020.0           38\n",
       "4       880022.0          189\n",
       "..           ...          ...\n",
       "661     972408.0            6\n",
       "662     972410.0           77\n",
       "663     972412.0           60\n",
       "664     972460.0           50\n",
       "665     973120.0            3\n",
       "\n",
       "[666 rows x 2 columns]"
      ]
     },
     "execution_count": 48,
     "metadata": {},
     "output_type": "execute_result"
    }
   ],
   "source": [
    "data_count_out = data_tel_out.query('direction == \"out\"')\n",
    "data_count_out = data_count_out.pivot_table(values='calls_count', index='operator_id', aggfunc='sum').reset_index()\n",
    "data_count_out"
   ]
  },
  {
   "cell_type": "markdown",
   "metadata": {},
   "source": [
    "Выведем describe, iqr и диаграмму размаха."
   ]
  },
  {
   "cell_type": "code",
   "execution_count": 49,
   "metadata": {},
   "outputs": [
    {
     "data": {
      "text/html": [
       "<div>\n",
       "<style scoped>\n",
       "    .dataframe tbody tr th:only-of-type {\n",
       "        vertical-align: middle;\n",
       "    }\n",
       "\n",
       "    .dataframe tbody tr th {\n",
       "        vertical-align: top;\n",
       "    }\n",
       "\n",
       "    .dataframe thead th {\n",
       "        text-align: right;\n",
       "    }\n",
       "</style>\n",
       "<table border=\"1\" class=\"dataframe\">\n",
       "  <thead>\n",
       "    <tr style=\"text-align: right;\">\n",
       "      <th></th>\n",
       "      <th>operator_id</th>\n",
       "      <th>calls_count</th>\n",
       "    </tr>\n",
       "  </thead>\n",
       "  <tbody>\n",
       "    <tr>\n",
       "      <th>count</th>\n",
       "      <td>666.000000</td>\n",
       "      <td>666.000000</td>\n",
       "    </tr>\n",
       "    <tr>\n",
       "      <th>mean</th>\n",
       "      <td>923842.495495</td>\n",
       "      <td>859.421922</td>\n",
       "    </tr>\n",
       "    <tr>\n",
       "      <th>std</th>\n",
       "      <td>42564.717455</td>\n",
       "      <td>3570.294069</td>\n",
       "    </tr>\n",
       "    <tr>\n",
       "      <th>min</th>\n",
       "      <td>0.000000</td>\n",
       "      <td>1.000000</td>\n",
       "    </tr>\n",
       "    <tr>\n",
       "      <th>25%</th>\n",
       "      <td>906392.500000</td>\n",
       "      <td>23.000000</td>\n",
       "    </tr>\n",
       "    <tr>\n",
       "      <th>50%</th>\n",
       "      <td>924943.000000</td>\n",
       "      <td>168.500000</td>\n",
       "    </tr>\n",
       "    <tr>\n",
       "      <th>75%</th>\n",
       "      <td>941814.500000</td>\n",
       "      <td>785.250000</td>\n",
       "    </tr>\n",
       "    <tr>\n",
       "      <th>max</th>\n",
       "      <td>973120.000000</td>\n",
       "      <td>58977.000000</td>\n",
       "    </tr>\n",
       "  </tbody>\n",
       "</table>\n",
       "</div>"
      ],
      "text/plain": [
       "         operator_id   calls_count\n",
       "count     666.000000    666.000000\n",
       "mean   923842.495495    859.421922\n",
       "std     42564.717455   3570.294069\n",
       "min         0.000000      1.000000\n",
       "25%    906392.500000     23.000000\n",
       "50%    924943.000000    168.500000\n",
       "75%    941814.500000    785.250000\n",
       "max    973120.000000  58977.000000"
      ]
     },
     "execution_count": 49,
     "metadata": {},
     "output_type": "execute_result"
    }
   ],
   "source": [
    "data_count_out.describe()"
   ]
  },
  {
   "cell_type": "code",
   "execution_count": 50,
   "metadata": {},
   "outputs": [
    {
     "data": {
      "text/plain": [
       "'Нижняя граница: 0, верхняя граница: 1928.625'"
      ]
     },
     "execution_count": 50,
     "metadata": {},
     "output_type": "execute_result"
    }
   ],
   "source": [
    "iqr(data_count_out['calls_count'])"
   ]
  },
  {
   "cell_type": "code",
   "execution_count": 51,
   "metadata": {},
   "outputs": [
    {
     "data": {
      "image/png": "[encoded data removed]",
      "text/plain": [
       "<Figure size 432x288 with 1 Axes>"
      ]
     },
     "metadata": {
      "needs_background": "light"
     },
     "output_type": "display_data"
    }
   ],
   "source": [
    "plt.ylim(-100, 1929)\n",
    "data_count_out.boxplot('calls_count')\n",
    "plt.title('Диаграмма размаха количества исходящих вызовов')\n",
    "plt.show()"
   ]
  },
  {
   "cell_type": "markdown",
   "metadata": {},
   "source": [
    "Снова обнаружены выбросы, искажающие данные. Уберем выбросы в данных. И выведем describe и график."
   ]
  },
  {
   "cell_type": "code",
   "execution_count": 52,
   "metadata": {},
   "outputs": [],
   "source": [
    "data_count_out_clean = data_count_out.query('0 < calls_count < 1928.625')"
   ]
  },
  {
   "cell_type": "code",
   "execution_count": 53,
   "metadata": {},
   "outputs": [
    {
     "data": {
      "text/html": [
       "<div>\n",
       "<style scoped>\n",
       "    .dataframe tbody tr th:only-of-type {\n",
       "        vertical-align: middle;\n",
       "    }\n",
       "\n",
       "    .dataframe tbody tr th {\n",
       "        vertical-align: top;\n",
       "    }\n",
       "\n",
       "    .dataframe thead th {\n",
       "        text-align: right;\n",
       "    }\n",
       "</style>\n",
       "<table border=\"1\" class=\"dataframe\">\n",
       "  <thead>\n",
       "    <tr style=\"text-align: right;\">\n",
       "      <th></th>\n",
       "      <th>operator_id</th>\n",
       "      <th>calls_count</th>\n",
       "    </tr>\n",
       "  </thead>\n",
       "  <tbody>\n",
       "    <tr>\n",
       "      <th>count</th>\n",
       "      <td>599.000000</td>\n",
       "      <td>599.000000</td>\n",
       "    </tr>\n",
       "    <tr>\n",
       "      <th>mean</th>\n",
       "      <td>924228.073456</td>\n",
       "      <td>349.081803</td>\n",
       "    </tr>\n",
       "    <tr>\n",
       "      <th>std</th>\n",
       "      <td>44206.829969</td>\n",
       "      <td>475.178036</td>\n",
       "    </tr>\n",
       "    <tr>\n",
       "      <th>min</th>\n",
       "      <td>0.000000</td>\n",
       "      <td>1.000000</td>\n",
       "    </tr>\n",
       "    <tr>\n",
       "      <th>25%</th>\n",
       "      <td>906405.000000</td>\n",
       "      <td>18.000000</td>\n",
       "    </tr>\n",
       "    <tr>\n",
       "      <th>50%</th>\n",
       "      <td>924952.000000</td>\n",
       "      <td>118.000000</td>\n",
       "    </tr>\n",
       "    <tr>\n",
       "      <th>75%</th>\n",
       "      <td>940839.000000</td>\n",
       "      <td>496.500000</td>\n",
       "    </tr>\n",
       "    <tr>\n",
       "      <th>max</th>\n",
       "      <td>973120.000000</td>\n",
       "      <td>1893.000000</td>\n",
       "    </tr>\n",
       "  </tbody>\n",
       "</table>\n",
       "</div>"
      ],
      "text/plain": [
       "         operator_id  calls_count\n",
       "count     599.000000   599.000000\n",
       "mean   924228.073456   349.081803\n",
       "std     44206.829969   475.178036\n",
       "min         0.000000     1.000000\n",
       "25%    906405.000000    18.000000\n",
       "50%    924952.000000   118.000000\n",
       "75%    940839.000000   496.500000\n",
       "max    973120.000000  1893.000000"
      ]
     },
     "execution_count": 53,
     "metadata": {},
     "output_type": "execute_result"
    }
   ],
   "source": [
    "data_count_out_clean.describe()"
   ]
  },
  {
   "cell_type": "code",
   "execution_count": 54,
   "metadata": {},
   "outputs": [
    {
     "data": {
      "image/png": "[encoded data removed]",
      "text/plain": [
       "<Figure size 432x288 with 1 Axes>"
      ]
     },
     "metadata": {
      "needs_background": "light"
     },
     "output_type": "display_data"
    }
   ],
   "source": [
    "plt.ylim(-100, 1250)\n",
    "data_count_out_clean.boxplot('calls_count')\n",
    "plt.title('Диаграмма размаха количества исходящих вызовов по чистым данным')\n",
    "plt.show()"
   ]
  },
  {
   "cell_type": "markdown",
   "metadata": {},
   "source": [
    "Среднее оказалось между медианой и 75%. Так как здесь мы смотрим нижнюю границу вызовов, а не верхнюю, как в предыдущих слуаях - будем считать показатель 25% по чистым данным за границу неэффективности по числу исходящих вызовов. Всё что ниже 18 вызвов - признак неэффективности."
   ]
  },
  {
   "cell_type": "markdown",
   "metadata": {},
   "source": [
    "## Выявление неэффективных операторов по ранее намеченным критериям"
   ]
  },
  {
   "cell_type": "markdown",
   "metadata": {},
   "source": [
    "По вышеуказанным границам определим неэффективных операторов."
   ]
  },
  {
   "cell_type": "markdown",
   "metadata": {},
   "source": [
    "### Выявление неэффективных операторов по количеству пропущенных входящих вызовов"
   ]
  },
  {
   "cell_type": "markdown",
   "metadata": {},
   "source": [
    "Сделаем срез на основе полученной границы и выведем количество операторов из среза."
   ]
  },
  {
   "cell_type": "code",
   "execution_count": 55,
   "metadata": {},
   "outputs": [
    {
     "name": "stdout",
     "output_type": "stream",
     "text": [
      "Количество неэффективных операторов по количеству пропущенных входящих выховов:  47\n"
     ]
    }
   ],
   "source": [
    "inefficient_miss = data_in_miss_clean.query('miss > 14')\n",
    "inefficient_miss_ops = inefficient_miss['operator_id'].unique() # список неэффективных операторов\n",
    "print('Количество неэффективных операторов по количеству пропущенных входящих выховов: ', inefficient_miss['operator_id'].nunique())"
   ]
  },
  {
   "cell_type": "markdown",
   "metadata": {},
   "source": [
    "Выявлено 47 операторов. Не так уж и много. Выведем срез по первоначальному датафрейму на основе номеров выявленых операторов и список колл-центров, в котором такие операторы присутствуют."
   ]
  },
  {
   "cell_type": "code",
   "execution_count": 56,
   "metadata": {},
   "outputs": [
    {
     "data": {
      "text/html": [
       "<div>\n",
       "<style scoped>\n",
       "    .dataframe tbody tr th:only-of-type {\n",
       "        vertical-align: middle;\n",
       "    }\n",
       "\n",
       "    .dataframe tbody tr th {\n",
       "        vertical-align: top;\n",
       "    }\n",
       "\n",
       "    .dataframe thead th {\n",
       "        text-align: right;\n",
       "    }\n",
       "</style>\n",
       "<table border=\"1\" class=\"dataframe\">\n",
       "  <thead>\n",
       "    <tr style=\"text-align: right;\">\n",
       "      <th></th>\n",
       "      <th>id колл-центра</th>\n",
       "      <th>Кол-во неэффективных операторов</th>\n",
       "      <th>% от общего количества неэффективных операторов</th>\n",
       "    </tr>\n",
       "  </thead>\n",
       "  <tbody>\n",
       "    <tr>\n",
       "      <th>20</th>\n",
       "      <td>167445</td>\n",
       "      <td>7</td>\n",
       "      <td>1.88</td>\n",
       "    </tr>\n",
       "    <tr>\n",
       "      <th>23</th>\n",
       "      <td>167977</td>\n",
       "      <td>3</td>\n",
       "      <td>0.80</td>\n",
       "    </tr>\n",
       "    <tr>\n",
       "      <th>0</th>\n",
       "      <td>166541</td>\n",
       "      <td>2</td>\n",
       "      <td>0.54</td>\n",
       "    </tr>\n",
       "    <tr>\n",
       "      <th>11</th>\n",
       "      <td>167009</td>\n",
       "      <td>2</td>\n",
       "      <td>0.54</td>\n",
       "    </tr>\n",
       "    <tr>\n",
       "      <th>28</th>\n",
       "      <td>168295</td>\n",
       "      <td>2</td>\n",
       "      <td>0.54</td>\n",
       "    </tr>\n",
       "    <tr>\n",
       "      <th>25</th>\n",
       "      <td>168252</td>\n",
       "      <td>2</td>\n",
       "      <td>0.54</td>\n",
       "    </tr>\n",
       "    <tr>\n",
       "      <th>14</th>\n",
       "      <td>167078</td>\n",
       "      <td>2</td>\n",
       "      <td>0.54</td>\n",
       "    </tr>\n",
       "    <tr>\n",
       "      <th>15</th>\n",
       "      <td>167082</td>\n",
       "      <td>2</td>\n",
       "      <td>0.54</td>\n",
       "    </tr>\n",
       "    <tr>\n",
       "      <th>29</th>\n",
       "      <td>168307</td>\n",
       "      <td>2</td>\n",
       "      <td>0.54</td>\n",
       "    </tr>\n",
       "    <tr>\n",
       "      <th>3</th>\n",
       "      <td>166732</td>\n",
       "      <td>2</td>\n",
       "      <td>0.54</td>\n",
       "    </tr>\n",
       "    <tr>\n",
       "      <th>5</th>\n",
       "      <td>166800</td>\n",
       "      <td>2</td>\n",
       "      <td>0.54</td>\n",
       "    </tr>\n",
       "    <tr>\n",
       "      <th>9</th>\n",
       "      <td>166946</td>\n",
       "      <td>1</td>\n",
       "      <td>0.27</td>\n",
       "    </tr>\n",
       "    <tr>\n",
       "      <th>2</th>\n",
       "      <td>166636</td>\n",
       "      <td>1</td>\n",
       "      <td>0.27</td>\n",
       "    </tr>\n",
       "    <tr>\n",
       "      <th>27</th>\n",
       "      <td>168275</td>\n",
       "      <td>1</td>\n",
       "      <td>0.27</td>\n",
       "    </tr>\n",
       "    <tr>\n",
       "      <th>26</th>\n",
       "      <td>168271</td>\n",
       "      <td>1</td>\n",
       "      <td>0.27</td>\n",
       "    </tr>\n",
       "    <tr>\n",
       "      <th>24</th>\n",
       "      <td>168155</td>\n",
       "      <td>1</td>\n",
       "      <td>0.27</td>\n",
       "    </tr>\n",
       "    <tr>\n",
       "      <th>4</th>\n",
       "      <td>166774</td>\n",
       "      <td>1</td>\n",
       "      <td>0.27</td>\n",
       "    </tr>\n",
       "    <tr>\n",
       "      <th>22</th>\n",
       "      <td>167742</td>\n",
       "      <td>1</td>\n",
       "      <td>0.27</td>\n",
       "    </tr>\n",
       "    <tr>\n",
       "      <th>21</th>\n",
       "      <td>167521</td>\n",
       "      <td>1</td>\n",
       "      <td>0.27</td>\n",
       "    </tr>\n",
       "    <tr>\n",
       "      <th>8</th>\n",
       "      <td>166939</td>\n",
       "      <td>1</td>\n",
       "      <td>0.27</td>\n",
       "    </tr>\n",
       "    <tr>\n",
       "      <th>18</th>\n",
       "      <td>167199</td>\n",
       "      <td>1</td>\n",
       "      <td>0.27</td>\n",
       "    </tr>\n",
       "    <tr>\n",
       "      <th>17</th>\n",
       "      <td>167189</td>\n",
       "      <td>1</td>\n",
       "      <td>0.27</td>\n",
       "    </tr>\n",
       "    <tr>\n",
       "      <th>16</th>\n",
       "      <td>167122</td>\n",
       "      <td>1</td>\n",
       "      <td>0.27</td>\n",
       "    </tr>\n",
       "    <tr>\n",
       "      <th>1</th>\n",
       "      <td>166604</td>\n",
       "      <td>1</td>\n",
       "      <td>0.27</td>\n",
       "    </tr>\n",
       "    <tr>\n",
       "      <th>6</th>\n",
       "      <td>166803</td>\n",
       "      <td>1</td>\n",
       "      <td>0.27</td>\n",
       "    </tr>\n",
       "    <tr>\n",
       "      <th>13</th>\n",
       "      <td>167052</td>\n",
       "      <td>1</td>\n",
       "      <td>0.27</td>\n",
       "    </tr>\n",
       "    <tr>\n",
       "      <th>12</th>\n",
       "      <td>167016</td>\n",
       "      <td>1</td>\n",
       "      <td>0.27</td>\n",
       "    </tr>\n",
       "    <tr>\n",
       "      <th>7</th>\n",
       "      <td>166901</td>\n",
       "      <td>1</td>\n",
       "      <td>0.27</td>\n",
       "    </tr>\n",
       "    <tr>\n",
       "      <th>10</th>\n",
       "      <td>166993</td>\n",
       "      <td>1</td>\n",
       "      <td>0.27</td>\n",
       "    </tr>\n",
       "    <tr>\n",
       "      <th>19</th>\n",
       "      <td>167200</td>\n",
       "      <td>1</td>\n",
       "      <td>0.27</td>\n",
       "    </tr>\n",
       "  </tbody>\n",
       "</table>\n",
       "</div>"
      ],
      "text/plain": [
       "    id колл-центра  Кол-во неэффективных операторов  \\\n",
       "20          167445                                7   \n",
       "23          167977                                3   \n",
       "0           166541                                2   \n",
       "11          167009                                2   \n",
       "28          168295                                2   \n",
       "25          168252                                2   \n",
       "14          167078                                2   \n",
       "15          167082                                2   \n",
       "29          168307                                2   \n",
       "3           166732                                2   \n",
       "5           166800                                2   \n",
       "9           166946                                1   \n",
       "2           166636                                1   \n",
       "27          168275                                1   \n",
       "26          168271                                1   \n",
       "24          168155                                1   \n",
       "4           166774                                1   \n",
       "22          167742                                1   \n",
       "21          167521                                1   \n",
       "8           166939                                1   \n",
       "18          167199                                1   \n",
       "17          167189                                1   \n",
       "16          167122                                1   \n",
       "1           166604                                1   \n",
       "6           166803                                1   \n",
       "13          167052                                1   \n",
       "12          167016                                1   \n",
       "7           166901                                1   \n",
       "10          166993                                1   \n",
       "19          167200                                1   \n",
       "\n",
       "    % от общего количества неэффективных операторов  \n",
       "20                                             1.88  \n",
       "23                                             0.80  \n",
       "0                                              0.54  \n",
       "11                                             0.54  \n",
       "28                                             0.54  \n",
       "25                                             0.54  \n",
       "14                                             0.54  \n",
       "15                                             0.54  \n",
       "29                                             0.54  \n",
       "3                                              0.54  \n",
       "5                                              0.54  \n",
       "9                                              0.27  \n",
       "2                                              0.27  \n",
       "27                                             0.27  \n",
       "26                                             0.27  \n",
       "24                                             0.27  \n",
       "4                                              0.27  \n",
       "22                                             0.27  \n",
       "21                                             0.27  \n",
       "8                                              0.27  \n",
       "18                                             0.27  \n",
       "17                                             0.27  \n",
       "16                                             0.27  \n",
       "1                                              0.27  \n",
       "6                                              0.27  \n",
       "13                                             0.27  \n",
       "12                                             0.27  \n",
       "7                                              0.27  \n",
       "10                                             0.27  \n",
       "19                                             0.27  "
      ]
     },
     "execution_count": 56,
     "metadata": {},
     "output_type": "execute_result"
    }
   ],
   "source": [
    "data_tel_in_miss_pivot = data_tel_in.query('operator_id in @inefficient_miss_ops').pivot_table(\n",
    "    values='operator_id',\n",
    "    index='user_id',\n",
    "    aggfunc='nunique',\n",
    ").reset_index().sort_values('operator_id', ascending=False)\n",
    "data_tel_in_miss_pivot['% от общего количества неэффективных операторов'] = (data_tel_in_miss_pivot['operator_id'] / (data_tel_in['operator_id'].nunique()) * 100).round(2)\n",
    "data_tel_in_miss_pivot = data_tel_in_miss_pivot.rename(columns = {'user_id' : 'id колл-центра', 'operator_id' : 'Кол-во неэффективных операторов'})\n",
    "data_tel_in_miss_pivot"
   ]
  },
  {
   "cell_type": "markdown",
   "metadata": {},
   "source": [
    "Выявлено 30 колл-центров с неэффективными операторами по количеству пропущенных входящих звонков в которых от 1 до 7 неэффективных операторов. Менее 2% в каждом колл-центре."
   ]
  },
  {
   "cell_type": "markdown",
   "metadata": {},
   "source": [
    "### Выявление неэффективных операторов по длительности ожидания ответа при входящих внешних вызовах"
   ]
  },
  {
   "cell_type": "markdown",
   "metadata": {},
   "source": [
    "Сделаем срез на основе полученной границы и выведем количество операторов из среза."
   ]
  },
  {
   "cell_type": "code",
   "execution_count": 57,
   "metadata": {},
   "outputs": [
    {
     "name": "stdout",
     "output_type": "stream",
     "text": [
      "Количество неэффективных операторов по длительности ожидания отета при входящих внешних вызовах:  71\n"
     ]
    }
   ],
   "source": [
    "inefficient_dir_in = data_dir_in_clean.query('waiting_duration > 695')\n",
    "inefficient_dir_in_ops = inefficient_dir_in['operator_id'].unique() # список неэффективных операторов\n",
    "print('Количество неэффективных операторов по длительности ожидания отета при входящих внешних вызовах: ', inefficient_dir_in['operator_id'].nunique())"
   ]
  },
  {
   "cell_type": "markdown",
   "metadata": {},
   "source": [
    "Выявлен 71 оператор. Уже гораздо больше, чем по прошлому параметру. Выведем срез по первоначальному датафрейму на основе номеров выявленых операторов."
   ]
  },
  {
   "cell_type": "code",
   "execution_count": 58,
   "metadata": {},
   "outputs": [
    {
     "data": {
      "text/html": [
       "<div>\n",
       "<style scoped>\n",
       "    .dataframe tbody tr th:only-of-type {\n",
       "        vertical-align: middle;\n",
       "    }\n",
       "\n",
       "    .dataframe tbody tr th {\n",
       "        vertical-align: top;\n",
       "    }\n",
       "\n",
       "    .dataframe thead th {\n",
       "        text-align: right;\n",
       "    }\n",
       "</style>\n",
       "<table border=\"1\" class=\"dataframe\">\n",
       "  <thead>\n",
       "    <tr style=\"text-align: right;\">\n",
       "      <th></th>\n",
       "      <th>id колл-центра</th>\n",
       "      <th>Кол-во неэффективных операторов</th>\n",
       "      <th>% от общего количества неэффективных операторов</th>\n",
       "    </tr>\n",
       "  </thead>\n",
       "  <tbody>\n",
       "    <tr>\n",
       "      <th>24</th>\n",
       "      <td>167445</td>\n",
       "      <td>9</td>\n",
       "      <td>2.41</td>\n",
       "    </tr>\n",
       "    <tr>\n",
       "      <th>8</th>\n",
       "      <td>166896</td>\n",
       "      <td>3</td>\n",
       "      <td>0.80</td>\n",
       "    </tr>\n",
       "    <tr>\n",
       "      <th>17</th>\n",
       "      <td>167078</td>\n",
       "      <td>3</td>\n",
       "      <td>0.80</td>\n",
       "    </tr>\n",
       "    <tr>\n",
       "      <th>16</th>\n",
       "      <td>167059</td>\n",
       "      <td>3</td>\n",
       "      <td>0.80</td>\n",
       "    </tr>\n",
       "    <tr>\n",
       "      <th>0</th>\n",
       "      <td>166392</td>\n",
       "      <td>2</td>\n",
       "      <td>0.54</td>\n",
       "    </tr>\n",
       "    <tr>\n",
       "      <th>14</th>\n",
       "      <td>167016</td>\n",
       "      <td>2</td>\n",
       "      <td>0.54</td>\n",
       "    </tr>\n",
       "    <tr>\n",
       "      <th>40</th>\n",
       "      <td>168271</td>\n",
       "      <td>2</td>\n",
       "      <td>0.54</td>\n",
       "    </tr>\n",
       "    <tr>\n",
       "      <th>34</th>\n",
       "      <td>168041</td>\n",
       "      <td>2</td>\n",
       "      <td>0.54</td>\n",
       "    </tr>\n",
       "    <tr>\n",
       "      <th>33</th>\n",
       "      <td>167976</td>\n",
       "      <td>2</td>\n",
       "      <td>0.54</td>\n",
       "    </tr>\n",
       "    <tr>\n",
       "      <th>32</th>\n",
       "      <td>167958</td>\n",
       "      <td>2</td>\n",
       "      <td>0.54</td>\n",
       "    </tr>\n",
       "    <tr>\n",
       "      <th>25</th>\n",
       "      <td>167521</td>\n",
       "      <td>2</td>\n",
       "      <td>0.54</td>\n",
       "    </tr>\n",
       "    <tr>\n",
       "      <th>19</th>\n",
       "      <td>167102</td>\n",
       "      <td>2</td>\n",
       "      <td>0.54</td>\n",
       "    </tr>\n",
       "    <tr>\n",
       "      <th>18</th>\n",
       "      <td>167082</td>\n",
       "      <td>2</td>\n",
       "      <td>0.54</td>\n",
       "    </tr>\n",
       "    <tr>\n",
       "      <th>22</th>\n",
       "      <td>167272</td>\n",
       "      <td>2</td>\n",
       "      <td>0.54</td>\n",
       "    </tr>\n",
       "    <tr>\n",
       "      <th>43</th>\n",
       "      <td>168307</td>\n",
       "      <td>2</td>\n",
       "      <td>0.54</td>\n",
       "    </tr>\n",
       "    <tr>\n",
       "      <th>7</th>\n",
       "      <td>166879</td>\n",
       "      <td>2</td>\n",
       "      <td>0.54</td>\n",
       "    </tr>\n",
       "    <tr>\n",
       "      <th>4</th>\n",
       "      <td>166800</td>\n",
       "      <td>2</td>\n",
       "      <td>0.54</td>\n",
       "    </tr>\n",
       "    <tr>\n",
       "      <th>30</th>\n",
       "      <td>167852</td>\n",
       "      <td>1</td>\n",
       "      <td>0.27</td>\n",
       "    </tr>\n",
       "    <tr>\n",
       "      <th>42</th>\n",
       "      <td>168295</td>\n",
       "      <td>1</td>\n",
       "      <td>0.27</td>\n",
       "    </tr>\n",
       "    <tr>\n",
       "      <th>41</th>\n",
       "      <td>168275</td>\n",
       "      <td>1</td>\n",
       "      <td>0.27</td>\n",
       "    </tr>\n",
       "    <tr>\n",
       "      <th>2</th>\n",
       "      <td>166541</td>\n",
       "      <td>1</td>\n",
       "      <td>0.27</td>\n",
       "    </tr>\n",
       "    <tr>\n",
       "      <th>39</th>\n",
       "      <td>168252</td>\n",
       "      <td>1</td>\n",
       "      <td>0.27</td>\n",
       "    </tr>\n",
       "    <tr>\n",
       "      <th>38</th>\n",
       "      <td>168221</td>\n",
       "      <td>1</td>\n",
       "      <td>0.27</td>\n",
       "    </tr>\n",
       "    <tr>\n",
       "      <th>37</th>\n",
       "      <td>168155</td>\n",
       "      <td>1</td>\n",
       "      <td>0.27</td>\n",
       "    </tr>\n",
       "    <tr>\n",
       "      <th>36</th>\n",
       "      <td>168105</td>\n",
       "      <td>1</td>\n",
       "      <td>0.27</td>\n",
       "    </tr>\n",
       "    <tr>\n",
       "      <th>35</th>\n",
       "      <td>168054</td>\n",
       "      <td>1</td>\n",
       "      <td>0.27</td>\n",
       "    </tr>\n",
       "    <tr>\n",
       "      <th>3</th>\n",
       "      <td>166636</td>\n",
       "      <td>1</td>\n",
       "      <td>0.27</td>\n",
       "    </tr>\n",
       "    <tr>\n",
       "      <th>5</th>\n",
       "      <td>166803</td>\n",
       "      <td>1</td>\n",
       "      <td>0.27</td>\n",
       "    </tr>\n",
       "    <tr>\n",
       "      <th>31</th>\n",
       "      <td>167870</td>\n",
       "      <td>1</td>\n",
       "      <td>0.27</td>\n",
       "    </tr>\n",
       "    <tr>\n",
       "      <th>13</th>\n",
       "      <td>167003</td>\n",
       "      <td>1</td>\n",
       "      <td>0.27</td>\n",
       "    </tr>\n",
       "    <tr>\n",
       "      <th>15</th>\n",
       "      <td>167052</td>\n",
       "      <td>1</td>\n",
       "      <td>0.27</td>\n",
       "    </tr>\n",
       "    <tr>\n",
       "      <th>28</th>\n",
       "      <td>167664</td>\n",
       "      <td>1</td>\n",
       "      <td>0.27</td>\n",
       "    </tr>\n",
       "    <tr>\n",
       "      <th>27</th>\n",
       "      <td>167650</td>\n",
       "      <td>1</td>\n",
       "      <td>0.27</td>\n",
       "    </tr>\n",
       "    <tr>\n",
       "      <th>26</th>\n",
       "      <td>167644</td>\n",
       "      <td>1</td>\n",
       "      <td>0.27</td>\n",
       "    </tr>\n",
       "    <tr>\n",
       "      <th>6</th>\n",
       "      <td>166836</td>\n",
       "      <td>1</td>\n",
       "      <td>0.27</td>\n",
       "    </tr>\n",
       "    <tr>\n",
       "      <th>23</th>\n",
       "      <td>167402</td>\n",
       "      <td>1</td>\n",
       "      <td>0.27</td>\n",
       "    </tr>\n",
       "    <tr>\n",
       "      <th>1</th>\n",
       "      <td>166428</td>\n",
       "      <td>1</td>\n",
       "      <td>0.27</td>\n",
       "    </tr>\n",
       "    <tr>\n",
       "      <th>21</th>\n",
       "      <td>167200</td>\n",
       "      <td>1</td>\n",
       "      <td>0.27</td>\n",
       "    </tr>\n",
       "    <tr>\n",
       "      <th>20</th>\n",
       "      <td>167189</td>\n",
       "      <td>1</td>\n",
       "      <td>0.27</td>\n",
       "    </tr>\n",
       "    <tr>\n",
       "      <th>9</th>\n",
       "      <td>166901</td>\n",
       "      <td>1</td>\n",
       "      <td>0.27</td>\n",
       "    </tr>\n",
       "    <tr>\n",
       "      <th>10</th>\n",
       "      <td>166908</td>\n",
       "      <td>1</td>\n",
       "      <td>0.27</td>\n",
       "    </tr>\n",
       "    <tr>\n",
       "      <th>11</th>\n",
       "      <td>166985</td>\n",
       "      <td>1</td>\n",
       "      <td>0.27</td>\n",
       "    </tr>\n",
       "    <tr>\n",
       "      <th>12</th>\n",
       "      <td>166993</td>\n",
       "      <td>1</td>\n",
       "      <td>0.27</td>\n",
       "    </tr>\n",
       "    <tr>\n",
       "      <th>29</th>\n",
       "      <td>167715</td>\n",
       "      <td>1</td>\n",
       "      <td>0.27</td>\n",
       "    </tr>\n",
       "  </tbody>\n",
       "</table>\n",
       "</div>"
      ],
      "text/plain": [
       "    id колл-центра  Кол-во неэффективных операторов  \\\n",
       "24          167445                                9   \n",
       "8           166896                                3   \n",
       "17          167078                                3   \n",
       "16          167059                                3   \n",
       "0           166392                                2   \n",
       "14          167016                                2   \n",
       "40          168271                                2   \n",
       "34          168041                                2   \n",
       "33          167976                                2   \n",
       "32          167958                                2   \n",
       "25          167521                                2   \n",
       "19          167102                                2   \n",
       "18          167082                                2   \n",
       "22          167272                                2   \n",
       "43          168307                                2   \n",
       "7           166879                                2   \n",
       "4           166800                                2   \n",
       "30          167852                                1   \n",
       "42          168295                                1   \n",
       "41          168275                                1   \n",
       "2           166541                                1   \n",
       "39          168252                                1   \n",
       "38          168221                                1   \n",
       "37          168155                                1   \n",
       "36          168105                                1   \n",
       "35          168054                                1   \n",
       "3           166636                                1   \n",
       "5           166803                                1   \n",
       "31          167870                                1   \n",
       "13          167003                                1   \n",
       "15          167052                                1   \n",
       "28          167664                                1   \n",
       "27          167650                                1   \n",
       "26          167644                                1   \n",
       "6           166836                                1   \n",
       "23          167402                                1   \n",
       "1           166428                                1   \n",
       "21          167200                                1   \n",
       "20          167189                                1   \n",
       "9           166901                                1   \n",
       "10          166908                                1   \n",
       "11          166985                                1   \n",
       "12          166993                                1   \n",
       "29          167715                                1   \n",
       "\n",
       "    % от общего количества неэффективных операторов  \n",
       "24                                             2.41  \n",
       "8                                              0.80  \n",
       "17                                             0.80  \n",
       "16                                             0.80  \n",
       "0                                              0.54  \n",
       "14                                             0.54  \n",
       "40                                             0.54  \n",
       "34                                             0.54  \n",
       "33                                             0.54  \n",
       "32                                             0.54  \n",
       "25                                             0.54  \n",
       "19                                             0.54  \n",
       "18                                             0.54  \n",
       "22                                             0.54  \n",
       "43                                             0.54  \n",
       "7                                              0.54  \n",
       "4                                              0.54  \n",
       "30                                             0.27  \n",
       "42                                             0.27  \n",
       "41                                             0.27  \n",
       "2                                              0.27  \n",
       "39                                             0.27  \n",
       "38                                             0.27  \n",
       "37                                             0.27  \n",
       "36                                             0.27  \n",
       "35                                             0.27  \n",
       "3                                              0.27  \n",
       "5                                              0.27  \n",
       "31                                             0.27  \n",
       "13                                             0.27  \n",
       "15                                             0.27  \n",
       "28                                             0.27  \n",
       "27                                             0.27  \n",
       "26                                             0.27  \n",
       "6                                              0.27  \n",
       "23                                             0.27  \n",
       "1                                              0.27  \n",
       "21                                             0.27  \n",
       "20                                             0.27  \n",
       "9                                              0.27  \n",
       "10                                             0.27  \n",
       "11                                             0.27  \n",
       "12                                             0.27  \n",
       "29                                             0.27  "
      ]
     },
     "execution_count": 58,
     "metadata": {},
     "output_type": "execute_result"
    }
   ],
   "source": [
    "data_tel_in_pivot = data_tel_in.query('operator_id in @inefficient_dir_in_ops').pivot_table(\n",
    "    values='operator_id',\n",
    "    index='user_id',\n",
    "    aggfunc='nunique',\n",
    ").reset_index().sort_values('operator_id', ascending=False)\n",
    "data_tel_in_pivot['% от общего количества неэффективных операторов'] = (data_tel_in_pivot['operator_id'] / (data_tel_in['operator_id'].nunique()) * 100).round(2)\n",
    "data_tel_in_pivot = data_tel_in_pivot.rename(columns = {'user_id' : 'id колл-центра', 'operator_id' : 'Кол-во неэффективных операторов'})\n",
    "data_tel_in_pivot"
   ]
  },
  {
   "cell_type": "markdown",
   "metadata": {},
   "source": [
    "Найдено 44 колл-центра с неэффективными операторами, в которых от 1 до 9 неэффективных операторов. Менее 3% в каждом колл-центре."
   ]
  },
  {
   "cell_type": "markdown",
   "metadata": {},
   "source": [
    "### Выявление неэффективных операторов по количеству исходящих вызовов"
   ]
  },
  {
   "cell_type": "markdown",
   "metadata": {},
   "source": [
    "Сделаем срез на основе полученной границы и выведем количество операторов из среза."
   ]
  },
  {
   "cell_type": "code",
   "execution_count": 59,
   "metadata": {},
   "outputs": [
    {
     "name": "stdout",
     "output_type": "stream",
     "text": [
      "Количество неэффективных операторов по количеству исходящих выховов:  149\n"
     ]
    }
   ],
   "source": [
    "inefficient_count_out = data_count_out_clean.query('calls_count < 18')\n",
    "inefficient_count_out_ops = inefficient_count_out['operator_id'].unique() # список неэффективных операторов\n",
    "print('Количество неэффективных операторов по количеству исходящих выховов: ', inefficient_count_out['operator_id'].nunique())"
   ]
  },
  {
   "cell_type": "markdown",
   "metadata": {},
   "source": [
    "Выявлено 149 операторов. Примерно в 2 раза больше, чем по предыдущему параметру. Выведем срез по первоначальному датафрейму на основе номеров выявленых операторов."
   ]
  },
  {
   "cell_type": "code",
   "execution_count": 60,
   "metadata": {},
   "outputs": [
    {
     "data": {
      "text/html": [
       "<div>\n",
       "<style scoped>\n",
       "    .dataframe tbody tr th:only-of-type {\n",
       "        vertical-align: middle;\n",
       "    }\n",
       "\n",
       "    .dataframe tbody tr th {\n",
       "        vertical-align: top;\n",
       "    }\n",
       "\n",
       "    .dataframe thead th {\n",
       "        text-align: right;\n",
       "    }\n",
       "</style>\n",
       "<table border=\"1\" class=\"dataframe\">\n",
       "  <thead>\n",
       "    <tr style=\"text-align: right;\">\n",
       "      <th></th>\n",
       "      <th>id колл-центра</th>\n",
       "      <th>Кол-во неэффективных операторов</th>\n",
       "      <th>% от общего количества неэффективных операторов</th>\n",
       "    </tr>\n",
       "  </thead>\n",
       "  <tbody>\n",
       "    <tr>\n",
       "      <th>47</th>\n",
       "      <td>168187</td>\n",
       "      <td>13</td>\n",
       "      <td>1.80</td>\n",
       "    </tr>\n",
       "    <tr>\n",
       "      <th>30</th>\n",
       "      <td>167497</td>\n",
       "      <td>11</td>\n",
       "      <td>1.53</td>\n",
       "    </tr>\n",
       "    <tr>\n",
       "      <th>4</th>\n",
       "      <td>166520</td>\n",
       "      <td>9</td>\n",
       "      <td>1.25</td>\n",
       "    </tr>\n",
       "    <tr>\n",
       "      <th>44</th>\n",
       "      <td>168073</td>\n",
       "      <td>8</td>\n",
       "      <td>1.11</td>\n",
       "    </tr>\n",
       "    <tr>\n",
       "      <th>33</th>\n",
       "      <td>167580</td>\n",
       "      <td>8</td>\n",
       "      <td>1.11</td>\n",
       "    </tr>\n",
       "    <tr>\n",
       "      <th>49</th>\n",
       "      <td>168225</td>\n",
       "      <td>7</td>\n",
       "      <td>0.97</td>\n",
       "    </tr>\n",
       "    <tr>\n",
       "      <th>51</th>\n",
       "      <td>168336</td>\n",
       "      <td>6</td>\n",
       "      <td>0.83</td>\n",
       "    </tr>\n",
       "    <tr>\n",
       "      <th>7</th>\n",
       "      <td>166680</td>\n",
       "      <td>5</td>\n",
       "      <td>0.69</td>\n",
       "    </tr>\n",
       "    <tr>\n",
       "      <th>21</th>\n",
       "      <td>167176</td>\n",
       "      <td>5</td>\n",
       "      <td>0.69</td>\n",
       "    </tr>\n",
       "    <tr>\n",
       "      <th>28</th>\n",
       "      <td>167436</td>\n",
       "      <td>4</td>\n",
       "      <td>0.55</td>\n",
       "    </tr>\n",
       "    <tr>\n",
       "      <th>40</th>\n",
       "      <td>167989</td>\n",
       "      <td>4</td>\n",
       "      <td>0.55</td>\n",
       "    </tr>\n",
       "    <tr>\n",
       "      <th>12</th>\n",
       "      <td>166916</td>\n",
       "      <td>4</td>\n",
       "      <td>0.55</td>\n",
       "    </tr>\n",
       "    <tr>\n",
       "      <th>18</th>\n",
       "      <td>167112</td>\n",
       "      <td>3</td>\n",
       "      <td>0.42</td>\n",
       "    </tr>\n",
       "    <tr>\n",
       "      <th>48</th>\n",
       "      <td>168193</td>\n",
       "      <td>3</td>\n",
       "      <td>0.42</td>\n",
       "    </tr>\n",
       "    <tr>\n",
       "      <th>34</th>\n",
       "      <td>167626</td>\n",
       "      <td>3</td>\n",
       "      <td>0.42</td>\n",
       "    </tr>\n",
       "    <tr>\n",
       "      <th>0</th>\n",
       "      <td>166407</td>\n",
       "      <td>3</td>\n",
       "      <td>0.42</td>\n",
       "    </tr>\n",
       "    <tr>\n",
       "      <th>16</th>\n",
       "      <td>167012</td>\n",
       "      <td>2</td>\n",
       "      <td>0.28</td>\n",
       "    </tr>\n",
       "    <tr>\n",
       "      <th>3</th>\n",
       "      <td>166507</td>\n",
       "      <td>2</td>\n",
       "      <td>0.28</td>\n",
       "    </tr>\n",
       "    <tr>\n",
       "      <th>9</th>\n",
       "      <td>166711</td>\n",
       "      <td>2</td>\n",
       "      <td>0.28</td>\n",
       "    </tr>\n",
       "    <tr>\n",
       "      <th>45</th>\n",
       "      <td>168091</td>\n",
       "      <td>2</td>\n",
       "      <td>0.28</td>\n",
       "    </tr>\n",
       "    <tr>\n",
       "      <th>29</th>\n",
       "      <td>167475</td>\n",
       "      <td>2</td>\n",
       "      <td>0.28</td>\n",
       "    </tr>\n",
       "    <tr>\n",
       "      <th>6</th>\n",
       "      <td>166609</td>\n",
       "      <td>2</td>\n",
       "      <td>0.28</td>\n",
       "    </tr>\n",
       "    <tr>\n",
       "      <th>38</th>\n",
       "      <td>167828</td>\n",
       "      <td>2</td>\n",
       "      <td>0.28</td>\n",
       "    </tr>\n",
       "    <tr>\n",
       "      <th>25</th>\n",
       "      <td>167250</td>\n",
       "      <td>2</td>\n",
       "      <td>0.28</td>\n",
       "    </tr>\n",
       "    <tr>\n",
       "      <th>39</th>\n",
       "      <td>167923</td>\n",
       "      <td>2</td>\n",
       "      <td>0.28</td>\n",
       "    </tr>\n",
       "    <tr>\n",
       "      <th>2</th>\n",
       "      <td>166503</td>\n",
       "      <td>2</td>\n",
       "      <td>0.28</td>\n",
       "    </tr>\n",
       "    <tr>\n",
       "      <th>52</th>\n",
       "      <td>168361</td>\n",
       "      <td>2</td>\n",
       "      <td>0.28</td>\n",
       "    </tr>\n",
       "    <tr>\n",
       "      <th>53</th>\n",
       "      <td>168412</td>\n",
       "      <td>2</td>\n",
       "      <td>0.28</td>\n",
       "    </tr>\n",
       "    <tr>\n",
       "      <th>50</th>\n",
       "      <td>168291</td>\n",
       "      <td>1</td>\n",
       "      <td>0.14</td>\n",
       "    </tr>\n",
       "    <tr>\n",
       "      <th>46</th>\n",
       "      <td>168097</td>\n",
       "      <td>1</td>\n",
       "      <td>0.14</td>\n",
       "    </tr>\n",
       "    <tr>\n",
       "      <th>54</th>\n",
       "      <td>168601</td>\n",
       "      <td>1</td>\n",
       "      <td>0.14</td>\n",
       "    </tr>\n",
       "    <tr>\n",
       "      <th>8</th>\n",
       "      <td>166688</td>\n",
       "      <td>1</td>\n",
       "      <td>0.14</td>\n",
       "    </tr>\n",
       "    <tr>\n",
       "      <th>43</th>\n",
       "      <td>168064</td>\n",
       "      <td>1</td>\n",
       "      <td>0.14</td>\n",
       "    </tr>\n",
       "    <tr>\n",
       "      <th>42</th>\n",
       "      <td>168062</td>\n",
       "      <td>1</td>\n",
       "      <td>0.14</td>\n",
       "    </tr>\n",
       "    <tr>\n",
       "      <th>41</th>\n",
       "      <td>168018</td>\n",
       "      <td>1</td>\n",
       "      <td>0.14</td>\n",
       "    </tr>\n",
       "    <tr>\n",
       "      <th>55</th>\n",
       "      <td>168603</td>\n",
       "      <td>1</td>\n",
       "      <td>0.14</td>\n",
       "    </tr>\n",
       "    <tr>\n",
       "      <th>5</th>\n",
       "      <td>166536</td>\n",
       "      <td>1</td>\n",
       "      <td>0.14</td>\n",
       "    </tr>\n",
       "    <tr>\n",
       "      <th>36</th>\n",
       "      <td>167759</td>\n",
       "      <td>1</td>\n",
       "      <td>0.14</td>\n",
       "    </tr>\n",
       "    <tr>\n",
       "      <th>37</th>\n",
       "      <td>167805</td>\n",
       "      <td>1</td>\n",
       "      <td>0.14</td>\n",
       "    </tr>\n",
       "    <tr>\n",
       "      <th>26</th>\n",
       "      <td>167275</td>\n",
       "      <td>1</td>\n",
       "      <td>0.14</td>\n",
       "    </tr>\n",
       "    <tr>\n",
       "      <th>15</th>\n",
       "      <td>166983</td>\n",
       "      <td>1</td>\n",
       "      <td>0.14</td>\n",
       "    </tr>\n",
       "    <tr>\n",
       "      <th>19</th>\n",
       "      <td>167172</td>\n",
       "      <td>1</td>\n",
       "      <td>0.14</td>\n",
       "    </tr>\n",
       "    <tr>\n",
       "      <th>20</th>\n",
       "      <td>167175</td>\n",
       "      <td>1</td>\n",
       "      <td>0.14</td>\n",
       "    </tr>\n",
       "    <tr>\n",
       "      <th>14</th>\n",
       "      <td>166971</td>\n",
       "      <td>1</td>\n",
       "      <td>0.14</td>\n",
       "    </tr>\n",
       "    <tr>\n",
       "      <th>22</th>\n",
       "      <td>167183</td>\n",
       "      <td>1</td>\n",
       "      <td>0.14</td>\n",
       "    </tr>\n",
       "    <tr>\n",
       "      <th>23</th>\n",
       "      <td>167185</td>\n",
       "      <td>1</td>\n",
       "      <td>0.14</td>\n",
       "    </tr>\n",
       "    <tr>\n",
       "      <th>24</th>\n",
       "      <td>167188</td>\n",
       "      <td>1</td>\n",
       "      <td>0.14</td>\n",
       "    </tr>\n",
       "    <tr>\n",
       "      <th>27</th>\n",
       "      <td>167359</td>\n",
       "      <td>1</td>\n",
       "      <td>0.14</td>\n",
       "    </tr>\n",
       "    <tr>\n",
       "      <th>17</th>\n",
       "      <td>167060</td>\n",
       "      <td>1</td>\n",
       "      <td>0.14</td>\n",
       "    </tr>\n",
       "    <tr>\n",
       "      <th>1</th>\n",
       "      <td>166485</td>\n",
       "      <td>1</td>\n",
       "      <td>0.14</td>\n",
       "    </tr>\n",
       "    <tr>\n",
       "      <th>13</th>\n",
       "      <td>166936</td>\n",
       "      <td>1</td>\n",
       "      <td>0.14</td>\n",
       "    </tr>\n",
       "    <tr>\n",
       "      <th>31</th>\n",
       "      <td>167532</td>\n",
       "      <td>1</td>\n",
       "      <td>0.14</td>\n",
       "    </tr>\n",
       "    <tr>\n",
       "      <th>32</th>\n",
       "      <td>167551</td>\n",
       "      <td>1</td>\n",
       "      <td>0.14</td>\n",
       "    </tr>\n",
       "    <tr>\n",
       "      <th>11</th>\n",
       "      <td>166884</td>\n",
       "      <td>1</td>\n",
       "      <td>0.14</td>\n",
       "    </tr>\n",
       "    <tr>\n",
       "      <th>10</th>\n",
       "      <td>166843</td>\n",
       "      <td>1</td>\n",
       "      <td>0.14</td>\n",
       "    </tr>\n",
       "    <tr>\n",
       "      <th>35</th>\n",
       "      <td>167747</td>\n",
       "      <td>1</td>\n",
       "      <td>0.14</td>\n",
       "    </tr>\n",
       "    <tr>\n",
       "      <th>56</th>\n",
       "      <td>168606</td>\n",
       "      <td>1</td>\n",
       "      <td>0.14</td>\n",
       "    </tr>\n",
       "  </tbody>\n",
       "</table>\n",
       "</div>"
      ],
      "text/plain": [
       "    id колл-центра  Кол-во неэффективных операторов  \\\n",
       "47          168187                               13   \n",
       "30          167497                               11   \n",
       "4           166520                                9   \n",
       "44          168073                                8   \n",
       "33          167580                                8   \n",
       "49          168225                                7   \n",
       "51          168336                                6   \n",
       "7           166680                                5   \n",
       "21          167176                                5   \n",
       "28          167436                                4   \n",
       "40          167989                                4   \n",
       "12          166916                                4   \n",
       "18          167112                                3   \n",
       "48          168193                                3   \n",
       "34          167626                                3   \n",
       "0           166407                                3   \n",
       "16          167012                                2   \n",
       "3           166507                                2   \n",
       "9           166711                                2   \n",
       "45          168091                                2   \n",
       "29          167475                                2   \n",
       "6           166609                                2   \n",
       "38          167828                                2   \n",
       "25          167250                                2   \n",
       "39          167923                                2   \n",
       "2           166503                                2   \n",
       "52          168361                                2   \n",
       "53          168412                                2   \n",
       "50          168291                                1   \n",
       "46          168097                                1   \n",
       "54          168601                                1   \n",
       "8           166688                                1   \n",
       "43          168064                                1   \n",
       "42          168062                                1   \n",
       "41          168018                                1   \n",
       "55          168603                                1   \n",
       "5           166536                                1   \n",
       "36          167759                                1   \n",
       "37          167805                                1   \n",
       "26          167275                                1   \n",
       "15          166983                                1   \n",
       "19          167172                                1   \n",
       "20          167175                                1   \n",
       "14          166971                                1   \n",
       "22          167183                                1   \n",
       "23          167185                                1   \n",
       "24          167188                                1   \n",
       "27          167359                                1   \n",
       "17          167060                                1   \n",
       "1           166485                                1   \n",
       "13          166936                                1   \n",
       "31          167532                                1   \n",
       "32          167551                                1   \n",
       "11          166884                                1   \n",
       "10          166843                                1   \n",
       "35          167747                                1   \n",
       "56          168606                                1   \n",
       "\n",
       "    % от общего количества неэффективных операторов  \n",
       "47                                             1.80  \n",
       "30                                             1.53  \n",
       "4                                              1.25  \n",
       "44                                             1.11  \n",
       "33                                             1.11  \n",
       "49                                             0.97  \n",
       "51                                             0.83  \n",
       "7                                              0.69  \n",
       "21                                             0.69  \n",
       "28                                             0.55  \n",
       "40                                             0.55  \n",
       "12                                             0.55  \n",
       "18                                             0.42  \n",
       "48                                             0.42  \n",
       "34                                             0.42  \n",
       "0                                              0.42  \n",
       "16                                             0.28  \n",
       "3                                              0.28  \n",
       "9                                              0.28  \n",
       "45                                             0.28  \n",
       "29                                             0.28  \n",
       "6                                              0.28  \n",
       "38                                             0.28  \n",
       "25                                             0.28  \n",
       "39                                             0.28  \n",
       "2                                              0.28  \n",
       "52                                             0.28  \n",
       "53                                             0.28  \n",
       "50                                             0.14  \n",
       "46                                             0.14  \n",
       "54                                             0.14  \n",
       "8                                              0.14  \n",
       "43                                             0.14  \n",
       "42                                             0.14  \n",
       "41                                             0.14  \n",
       "55                                             0.14  \n",
       "5                                              0.14  \n",
       "36                                             0.14  \n",
       "37                                             0.14  \n",
       "26                                             0.14  \n",
       "15                                             0.14  \n",
       "19                                             0.14  \n",
       "20                                             0.14  \n",
       "14                                             0.14  \n",
       "22                                             0.14  \n",
       "23                                             0.14  \n",
       "24                                             0.14  \n",
       "27                                             0.14  \n",
       "17                                             0.14  \n",
       "1                                              0.14  \n",
       "13                                             0.14  \n",
       "31                                             0.14  \n",
       "32                                             0.14  \n",
       "11                                             0.14  \n",
       "10                                             0.14  \n",
       "35                                             0.14  \n",
       "56                                             0.14  "
      ]
     },
     "execution_count": 60,
     "metadata": {},
     "output_type": "execute_result"
    }
   ],
   "source": [
    "data_tel_out_pivot = data_tel_out.query('operator_id in @inefficient_count_out_ops').pivot_table(\n",
    "    values='operator_id',\n",
    "    index='user_id',\n",
    "    aggfunc='nunique',\n",
    ").reset_index().sort_values('operator_id', ascending=False)\n",
    "data_tel_out_pivot['% от общего количества неэффективных операторов'] = (data_tel_out_pivot['operator_id'] / (data_tel_out['operator_id'].nunique()) * 100).round(2)\n",
    "data_tel_out_pivot = data_tel_out_pivot.rename(columns = {'user_id' : 'id колл-центра', 'operator_id' : 'Кол-во неэффективных операторов'})\n",
    "data_tel_out_pivot"
   ]
  },
  {
   "cell_type": "markdown",
   "metadata": {},
   "source": [
    "Найдено 57 колл-центров с неэффективными операторами в которых от 1 до 13 неэффективных операторов. Менее 2% в каждом колл-центре."
   ]
  },
  {
   "cell_type": "markdown",
   "metadata": {},
   "source": [
    "## Проверка статистических гипотез"
   ]
  },
  {
   "cell_type": "markdown",
   "metadata": {},
   "source": [
    "Проверим статистические гипотезы. Заранее были сформулированы нулевые гипотезы. Дополнительно сформируем альтернативные и перейдем к проверке."
   ]
  },
  {
   "cell_type": "markdown",
   "metadata": {},
   "source": [
    "### Средняя длительность звонков колл-центров работающих на осуществление вызовов и колл-центров работающих на прием входящих вызовов равна"
   ]
  },
  {
   "cell_type": "markdown",
   "metadata": {},
   "source": [
    "Нулевая и альтернативные гипотезы:\n",
    "\n",
    "H0: Средняя длительность звонков колл-центров работающих на осуществление вызовов и колл-центров работающих на прием входящих вызовов равна\n",
    "\n",
    "H1: Средняя длительность звонков колл-центров работающих на осуществление вызовов и колл-центров работающих на прием входящих вызовов различается\n",
    "\n",
    "Сохраним в переменных продолжительность вызовов каждой из двух групп колл-центров, выведем среднее."
   ]
  },
  {
   "cell_type": "code",
   "execution_count": 61,
   "metadata": {},
   "outputs": [
    {
     "name": "stdout",
     "output_type": "stream",
     "text": [
      "Средняя длительность звонков колл-центров, принимающих вызовы 549.6564330911648\n",
      "Средняя длительность звонков колл-центров, осуществляющих вызовы 981.0325288853177\n"
     ]
    }
   ],
   "source": [
    "in_calls = (data_tel_in['call_duration'])\n",
    "out_calls = (data_tel_out['call_duration'])\n",
    "\n",
    "print('Средняя длительность звонков колл-центров, принимающих вызовы', in_calls.mean())\n",
    "print('Средняя длительность звонков колл-центров, осуществляющих вызовы', out_calls.mean())"
   ]
  },
  {
   "cell_type": "markdown",
   "metadata": {},
   "source": [
    "Для проверки гипотезы используем метод рscipy.stats.ttest_ind()."
   ]
  },
  {
   "cell_type": "code",
   "execution_count": 62,
   "metadata": {},
   "outputs": [
    {
     "name": "stdout",
     "output_type": "stream",
     "text": [
      "p-значение: 1.2322163276869602e-28\n",
      "Отвергаем нулевую гипотезу\n"
     ]
    }
   ],
   "source": [
    "alpha = 0.05 #пороговое значение (уровень значимости) - ориентируемся на него, чтобы выяснить, является ли\n",
    "             #результат статистически значимым\n",
    "\n",
    "results = st.ttest_ind(in_calls, out_calls)\n",
    "\n",
    "print('p-значение:', results.pvalue)\n",
    "\n",
    "if results.pvalue < alpha:\n",
    "    print(\"Отвергаем нулевую гипотезу\")\n",
    "else:\n",
    "    print(\"Не получилось отвергнуть нулевую гипотезу\")"
   ]
  },
  {
   "cell_type": "markdown",
   "metadata": {},
   "source": [
    "Нулевая гипотеза отвергнута, средняя длительность звонков колл-центров работающих на осуществление вызовов и колл-центров работающих на прием входящих вызовов различается.\n",
    "\n",
    "Перейдем к проверке второй гипотезы."
   ]
  },
  {
   "cell_type": "markdown",
   "metadata": {},
   "source": [
    "### Средние количества сотрудников колл-центров работающих на осуществление исходящих вызовов и колл-центров работающих на прием входящих вызовов равны"
   ]
  },
  {
   "cell_type": "markdown",
   "metadata": {},
   "source": [
    "Нулевая и альтернативная гипотезы:\n",
    "\n",
    "H0: Средние количества сотрудников колл-центров работающих на осуществление исходящих вызовов и колл-центров работающих на прием входящих вызовов равны\n",
    "\n",
    "H1: Средние количества сотрудников колл-центров работающих на осуществление исходящих вызовов и колл-центров работающих на прием входящих вызовов различаются\n",
    "\n",
    "Сохраним в переменных количества сотрудников колл-центров каждой из двух групп колл-центров, выведем среднее."
   ]
  },
  {
   "cell_type": "code",
   "execution_count": 63,
   "metadata": {},
   "outputs": [
    {
     "name": "stdout",
     "output_type": "stream",
     "text": [
      "Среднее количество операторов колл-центров, принимающих вызовы 3.138728323699422\n",
      "Среднее количество операторов колл-центров, принимающих вызовы 6.373134328358209\n"
     ]
    }
   ],
   "source": [
    "operators_in = data_tel_in.groupby(['user_id'])['operator_id'].nunique()\n",
    "operators_out = data_tel_out.groupby(['user_id'])['operator_id'].nunique()\n",
    "\n",
    "print('Среднее количество операторов колл-центров, принимающих вызовы', operators_in.mean())\n",
    "print('Среднее количество операторов колл-центров, принимающих вызовы', operators_out.mean())"
   ]
  },
  {
   "cell_type": "markdown",
   "metadata": {},
   "source": [
    "Как и в прошлый раз для проверки гипотезы используем метод рscipy.stats.ttest_ind()."
   ]
  },
  {
   "cell_type": "code",
   "execution_count": 64,
   "metadata": {},
   "outputs": [
    {
     "name": "stdout",
     "output_type": "stream",
     "text": [
      "p-значение: 3.5955816630444264e-07\n",
      "Отвергаем нулевую гипотезу\n"
     ]
    }
   ],
   "source": [
    "alpha = 0.05 #пороговое значение (уровень значимости) - ориентируемся на него, чтобы выяснить, является ли\n",
    "             #результат статистически значимым\n",
    "\n",
    "results = st.ttest_ind(operators_in, operators_out)\n",
    "\n",
    "print('p-значение:', results.pvalue)\n",
    "\n",
    "if results.pvalue < alpha:\n",
    "    print(\"Отвергаем нулевую гипотезу\")\n",
    "else:\n",
    "    print(\"Не получилось отвергнуть нулевую гипотезу\")"
   ]
  },
  {
   "cell_type": "markdown",
   "metadata": {},
   "source": [
    "Отвергнув нулевую гипотезу, оставляем альтернативную, в соответствии с которой средние количества сотрудников колл-центров работающих на осуществление исходящих вызовов и колл-центров работающих на прием входящих вызовов различаются."
   ]
  },
  {
   "cell_type": "markdown",
   "metadata": {},
   "source": [
    "### Среднее время ответа на звонки колл-центров работающих на осуществление вызовов и колл-центров работающих на прием входящих вызовов равно¶\n",
    "\n",
    "Нулевая и альтернативная гипотезы:\n",
    "\n",
    "H0: Среднее время ответа на звонки колл-центров работающих на осуществление вызовов и колл-центров работающих на прием входящих вызовов равно¶\n",
    "\n",
    "H1: Среднее время ответа на звонки колл-центров работающих на осуществление вызовов и колл-центров работающих на прием входящих вызовов различается\n",
    "\n",
    "Сохраним в переменных количества сотрудников колл-центров каждой из двух групп колл-центров, выведем среднее."
   ]
  },
  {
   "cell_type": "code",
   "execution_count": 65,
   "metadata": {},
   "outputs": [
    {
     "name": "stdout",
     "output_type": "stream",
     "text": [
      "Среднее ожидание ответа на звонки колл-центров, принимающих вызовы 157.92508397781424\n",
      "Среднее ожидание ответа на звонки колл-центров, осуществляющих вызовы 338.0477404339032\n"
     ]
    }
   ],
   "source": [
    "in_waiting = (data_tel_in['waiting_duration'])\n",
    "out_waiting = (data_tel_out['waiting_duration'])\n",
    "\n",
    "print('Среднее ожидание ответа на звонки колл-центров, принимающих вызовы', in_waiting.mean())\n",
    "print('Среднее ожидание ответа на звонки колл-центров, осуществляющих вызовы', out_waiting.mean())"
   ]
  },
  {
   "cell_type": "markdown",
   "metadata": {},
   "source": [
    "Так же проверим гипотезу с помощью т-теста."
   ]
  },
  {
   "cell_type": "code",
   "execution_count": 66,
   "metadata": {},
   "outputs": [
    {
     "name": "stdout",
     "output_type": "stream",
     "text": [
      "p-значение: 5.719272512148802e-54\n",
      "Отвергаем нулевую гипотезу\n"
     ]
    }
   ],
   "source": [
    "alpha = 0.05 #пороговое значение (уровень значимости) - ориентируемся на него, чтобы выяснить, является ли\n",
    "             #результат статистически значимым\n",
    "\n",
    "results = st.ttest_ind(in_waiting, out_waiting)\n",
    "\n",
    "print('p-значение:', results.pvalue)\n",
    "\n",
    "if results.pvalue < alpha:\n",
    "    print(\"Отвергаем нулевую гипотезу\")\n",
    "else:\n",
    "    print(\"Не получилось отвергнуть нулевую гипотезу\")"
   ]
  },
  {
   "cell_type": "markdown",
   "metadata": {},
   "source": [
    "Не получилось подтвердить нулевую гипотезу. Оставляем альтернативную: среднее время ответа на звонки колл-центров работающих на осуществление вызовов и колл-центров работающих на прием входящих вызовов различается."
   ]
  },
  {
   "cell_type": "markdown",
   "metadata": {},
   "source": [
    "## Общие выводы"
   ]
  },
  {
   "cell_type": "markdown",
   "metadata": {},
   "source": [
    "По итогам исследования мы выяснили, что колл-центры, с которыми работает компания довольно отличаются друг от друга: есть довольно крупные колл-центры, в которых работает 20 и более человек, есть маленькие, в которых работает 2-3 оператора. Кроме того, были выявлены колл-центры, в специализацию которых входит работа с исходящими вызовами (т.е. обзвон своих клиентов), а так же были выявлены колл-центры, которые специализируются на прием входящих вызовов. Проверка статистических гипотез подтверждает, что разделение было сделано не напрасно и что между выборками действительно присутствует разница.\n",
    "\n",
    "В дальнейшем мы определились с границами неэффективных операторов: выяснили, что если оператор пропускает более 47 звонков, или если на него приходится более 71 минут ожидания ответа при входящих внешних вызовах, или менее 149 вызовов  - такого оператора можно считать неэффективным. Эти показатели выявлены на основе наблюдений за квартал.\n",
    "\n",
    "После мы выявили идентификационные номера конкретных операторов, соответствущих нашим критериям неэффективности и колл-центры, где они работают. Таким образом, в более чем 100 колл-центрах выявлены неэффективные операторы, от 1 до 10 операторов у этих клиентов работают неэффективно. Так как одним из главных вопросов исследования было выявить колл-центры, которым будет интересен новый функционал: алгоритм по поиску неэффективных операторов -  в дальнейшем можно рекомендовать новый функционал колл-центрам, в которых присутствуют выявленные нами неэффективные операторы, обращаясь в первую очередь к тем, в которых таких операторах выявлено больше всего. Так как в выборке у нас более распространены небольшие колл-центры с количеством операторов 2-3 человека, надо полагать, что в первую очередь сервис интересен будет крупным колл-центрам с большим количеством операторов."
   ]
  }
 ],
 "metadata": {
  "ExecuteTimeLog": [
   {
    "duration": 130,
    "start_time": "2022-06-01T16:50:14.473Z"
   },
   {
    "duration": 3,
    "start_time": "2022-06-01T16:50:41.109Z"
   },
   {
    "duration": 5277,
    "start_time": "2022-06-01T17:01:27.730Z"
   },
   {
    "duration": 3,
    "start_time": "2022-06-01T17:07:07.353Z"
   },
   {
    "duration": 198,
    "start_time": "2022-06-01T17:10:28.286Z"
   },
   {
    "duration": 35,
    "start_time": "2022-06-01T17:11:31.438Z"
   },
   {
    "duration": 15,
    "start_time": "2022-06-01T17:14:39.726Z"
   },
   {
    "duration": 33,
    "start_time": "2022-06-01T17:25:46.422Z"
   },
   {
    "duration": 15,
    "start_time": "2022-06-01T17:27:37.586Z"
   },
   {
    "duration": 4,
    "start_time": "2022-06-01T17:34:09.070Z"
   },
   {
    "duration": 14,
    "start_time": "2022-06-01T17:34:20.798Z"
   },
   {
    "duration": 255,
    "start_time": "2022-06-01T17:35:37.062Z"
   },
   {
    "duration": 12,
    "start_time": "2022-06-01T17:35:37.882Z"
   },
   {
    "duration": 24,
    "start_time": "2022-06-01T17:37:29.910Z"
   },
   {
    "duration": 13,
    "start_time": "2022-06-01T17:52:39.119Z"
   },
   {
    "duration": 17,
    "start_time": "2022-06-01T17:53:17.174Z"
   },
   {
    "duration": 34,
    "start_time": "2022-06-01T17:55:08.721Z"
   },
   {
    "duration": 28,
    "start_time": "2022-06-01T17:55:21.442Z"
   },
   {
    "duration": 12,
    "start_time": "2022-06-01T18:48:50.407Z"
   },
   {
    "duration": 19,
    "start_time": "2022-06-01T18:48:56.517Z"
   },
   {
    "duration": 16,
    "start_time": "2022-06-01T18:49:26.633Z"
   },
   {
    "duration": 17,
    "start_time": "2022-06-01T18:49:45.273Z"
   },
   {
    "duration": 29,
    "start_time": "2022-06-01T18:50:39.200Z"
   },
   {
    "duration": 39,
    "start_time": "2022-06-01T18:50:44.541Z"
   },
   {
    "duration": 30,
    "start_time": "2022-06-01T18:52:06.364Z"
   },
   {
    "duration": 23,
    "start_time": "2022-06-01T18:52:20.492Z"
   },
   {
    "duration": 21,
    "start_time": "2022-06-01T18:52:26.213Z"
   },
   {
    "duration": 26,
    "start_time": "2022-06-01T18:52:39.257Z"
   },
   {
    "duration": 8,
    "start_time": "2022-06-01T18:55:05.777Z"
   },
   {
    "duration": 73,
    "start_time": "2022-06-01T18:56:17.513Z"
   },
   {
    "duration": 8,
    "start_time": "2022-06-01T18:56:36.841Z"
   },
   {
    "duration": 10,
    "start_time": "2022-06-01T18:57:03.745Z"
   },
   {
    "duration": 9,
    "start_time": "2022-06-01T18:57:25.837Z"
   },
   {
    "duration": 9,
    "start_time": "2022-06-01T18:57:31.993Z"
   },
   {
    "duration": 9,
    "start_time": "2022-06-01T18:57:39.487Z"
   },
   {
    "duration": 4,
    "start_time": "2022-06-01T18:58:38.413Z"
   },
   {
    "duration": 11,
    "start_time": "2022-06-01T18:58:43.525Z"
   },
   {
    "duration": 4,
    "start_time": "2022-06-01T19:00:21.445Z"
   },
   {
    "duration": 13,
    "start_time": "2022-06-01T19:00:22.304Z"
   },
   {
    "duration": 881,
    "start_time": "2022-06-01T19:02:15.781Z"
   },
   {
    "duration": 176,
    "start_time": "2022-06-01T19:02:39.425Z"
   },
   {
    "duration": 176,
    "start_time": "2022-06-01T19:02:54.810Z"
   },
   {
    "duration": 19,
    "start_time": "2022-06-01T19:03:10.062Z"
   },
   {
    "duration": 451,
    "start_time": "2022-06-01T19:18:56.872Z"
   },
   {
    "duration": 10,
    "start_time": "2022-06-01T19:20:21.138Z"
   },
   {
    "duration": 523,
    "start_time": "2022-06-01T19:20:53.931Z"
   },
   {
    "duration": 510,
    "start_time": "2022-06-01T19:21:07.299Z"
   },
   {
    "duration": 26,
    "start_time": "2022-06-01T19:26:52.277Z"
   },
   {
    "duration": 29,
    "start_time": "2022-06-01T19:27:16.056Z"
   },
   {
    "duration": 24,
    "start_time": "2022-06-01T19:27:29.496Z"
   },
   {
    "duration": 19,
    "start_time": "2022-06-01T19:28:17.620Z"
   },
   {
    "duration": 31,
    "start_time": "2022-06-01T19:28:27.052Z"
   },
   {
    "duration": 29,
    "start_time": "2022-06-01T19:28:44.379Z"
   },
   {
    "duration": 25,
    "start_time": "2022-06-01T19:29:01.236Z"
   },
   {
    "duration": 32,
    "start_time": "2022-06-01T19:32:53.272Z"
   },
   {
    "duration": 23,
    "start_time": "2022-06-01T19:37:07.480Z"
   },
   {
    "duration": 26,
    "start_time": "2022-06-01T19:37:19.288Z"
   },
   {
    "duration": 23,
    "start_time": "2022-06-01T19:38:42.761Z"
   },
   {
    "duration": 26,
    "start_time": "2022-06-01T19:38:51.331Z"
   },
   {
    "duration": 58,
    "start_time": "2022-06-02T15:48:14.118Z"
   },
   {
    "duration": 69,
    "start_time": "2022-06-02T15:48:18.927Z"
   },
   {
    "duration": 470,
    "start_time": "2022-06-02T15:48:41.142Z"
   },
   {
    "duration": 188,
    "start_time": "2022-06-02T15:48:41.614Z"
   },
   {
    "duration": 43,
    "start_time": "2022-06-02T15:48:41.804Z"
   },
   {
    "duration": 15,
    "start_time": "2022-06-02T15:48:41.850Z"
   },
   {
    "duration": 20,
    "start_time": "2022-06-02T15:48:41.867Z"
   },
   {
    "duration": 16,
    "start_time": "2022-06-02T15:48:41.889Z"
   },
   {
    "duration": 25,
    "start_time": "2022-06-02T15:48:41.907Z"
   },
   {
    "duration": 38,
    "start_time": "2022-06-02T15:48:41.934Z"
   },
   {
    "duration": 100,
    "start_time": "2022-06-02T15:48:41.974Z"
   },
   {
    "duration": 32,
    "start_time": "2022-06-02T15:51:26.850Z"
   },
   {
    "duration": 19,
    "start_time": "2022-06-02T15:51:35.027Z"
   },
   {
    "duration": 15,
    "start_time": "2022-06-02T15:51:39.396Z"
   },
   {
    "duration": 22,
    "start_time": "2022-06-02T15:51:41.431Z"
   },
   {
    "duration": 17,
    "start_time": "2022-06-02T15:51:52.807Z"
   },
   {
    "duration": 24,
    "start_time": "2022-06-02T15:52:24.966Z"
   },
   {
    "duration": 22,
    "start_time": "2022-06-02T15:52:36.250Z"
   },
   {
    "duration": 31,
    "start_time": "2022-06-02T15:53:16.546Z"
   },
   {
    "duration": 6,
    "start_time": "2022-06-02T15:58:35.826Z"
   },
   {
    "duration": 407,
    "start_time": "2022-06-02T15:59:03.926Z"
   },
   {
    "duration": 27,
    "start_time": "2022-06-02T16:05:35.101Z"
   },
   {
    "duration": 14,
    "start_time": "2022-06-02T16:06:26.391Z"
   },
   {
    "duration": 39,
    "start_time": "2022-06-02T16:06:34.530Z"
   },
   {
    "duration": 4,
    "start_time": "2022-06-02T16:08:39.541Z"
   },
   {
    "duration": 15,
    "start_time": "2022-06-02T16:09:06.553Z"
   },
   {
    "duration": 7,
    "start_time": "2022-06-02T16:10:58.214Z"
   },
   {
    "duration": 12,
    "start_time": "2022-06-02T16:11:17.829Z"
   },
   {
    "duration": 13,
    "start_time": "2022-06-02T16:13:48.937Z"
   },
   {
    "duration": 29,
    "start_time": "2022-06-02T16:16:28.993Z"
   },
   {
    "duration": 13,
    "start_time": "2022-06-02T16:19:56.338Z"
   },
   {
    "duration": 12,
    "start_time": "2022-06-02T16:19:59.749Z"
   },
   {
    "duration": 7,
    "start_time": "2022-06-02T16:20:08.769Z"
   },
   {
    "duration": 8,
    "start_time": "2022-06-02T16:20:09.617Z"
   },
   {
    "duration": 10,
    "start_time": "2022-06-02T16:20:11.757Z"
   },
   {
    "duration": 8,
    "start_time": "2022-06-02T16:21:24.601Z"
   },
   {
    "duration": 10,
    "start_time": "2022-06-02T16:21:28.865Z"
   },
   {
    "duration": 457,
    "start_time": "2022-06-02T16:35:17.488Z"
   },
   {
    "duration": 100,
    "start_time": "2022-06-02T16:35:17.947Z"
   },
   {
    "duration": 38,
    "start_time": "2022-06-02T16:35:18.048Z"
   },
   {
    "duration": 15,
    "start_time": "2022-06-02T16:35:18.089Z"
   },
   {
    "duration": 26,
    "start_time": "2022-06-02T16:35:18.106Z"
   },
   {
    "duration": 51,
    "start_time": "2022-06-02T16:35:18.134Z"
   },
   {
    "duration": 38,
    "start_time": "2022-06-02T16:35:18.188Z"
   },
   {
    "duration": 50,
    "start_time": "2022-06-02T16:35:18.229Z"
   },
   {
    "duration": 27,
    "start_time": "2022-06-02T16:35:18.280Z"
   },
   {
    "duration": 31,
    "start_time": "2022-06-02T16:35:18.310Z"
   },
   {
    "duration": 26,
    "start_time": "2022-06-02T16:35:18.343Z"
   },
   {
    "duration": 14,
    "start_time": "2022-06-02T16:35:18.371Z"
   },
   {
    "duration": 13,
    "start_time": "2022-06-02T16:35:18.387Z"
   },
   {
    "duration": 8,
    "start_time": "2022-06-02T16:35:47.495Z"
   },
   {
    "duration": 16,
    "start_time": "2022-06-02T16:36:05.543Z"
   },
   {
    "duration": 6,
    "start_time": "2022-06-02T16:47:12.394Z"
   },
   {
    "duration": 6,
    "start_time": "2022-06-02T16:49:44.743Z"
   },
   {
    "duration": 5,
    "start_time": "2022-06-02T16:56:39.200Z"
   },
   {
    "duration": 72,
    "start_time": "2022-06-02T16:56:58.334Z"
   },
   {
    "duration": 5,
    "start_time": "2022-06-02T16:57:08.311Z"
   },
   {
    "duration": 6,
    "start_time": "2022-06-02T16:57:25.088Z"
   },
   {
    "duration": 16,
    "start_time": "2022-06-02T16:59:15.010Z"
   },
   {
    "duration": 22,
    "start_time": "2022-06-02T16:59:54.845Z"
   },
   {
    "duration": 15,
    "start_time": "2022-06-02T17:00:36.916Z"
   },
   {
    "duration": 13,
    "start_time": "2022-06-02T17:00:58.229Z"
   },
   {
    "duration": 14,
    "start_time": "2022-06-02T17:01:05.073Z"
   },
   {
    "duration": 12,
    "start_time": "2022-06-02T17:05:04.120Z"
   },
   {
    "duration": 6,
    "start_time": "2022-06-02T17:05:13.823Z"
   },
   {
    "duration": 4,
    "start_time": "2022-06-02T17:05:19.348Z"
   },
   {
    "duration": 6,
    "start_time": "2022-06-02T17:06:07.724Z"
   },
   {
    "duration": 13,
    "start_time": "2022-06-02T17:08:15.684Z"
   },
   {
    "duration": 15,
    "start_time": "2022-06-02T17:08:39.552Z"
   },
   {
    "duration": 21,
    "start_time": "2022-06-02T17:09:04.644Z"
   },
   {
    "duration": 23,
    "start_time": "2022-06-02T17:10:00.052Z"
   },
   {
    "duration": 11,
    "start_time": "2022-06-02T17:10:13.204Z"
   },
   {
    "duration": 7,
    "start_time": "2022-06-02T17:10:19.496Z"
   },
   {
    "duration": 30,
    "start_time": "2022-06-02T17:38:04.332Z"
   },
   {
    "duration": 30,
    "start_time": "2022-06-02T17:38:51.088Z"
   },
   {
    "duration": 21,
    "start_time": "2022-06-02T17:49:29.416Z"
   },
   {
    "duration": 24,
    "start_time": "2022-06-02T18:00:59.596Z"
   },
   {
    "duration": 30,
    "start_time": "2022-06-02T18:01:13.848Z"
   },
   {
    "duration": 5,
    "start_time": "2022-06-02T18:01:37.372Z"
   },
   {
    "duration": 55,
    "start_time": "2022-06-02T18:02:29.004Z"
   },
   {
    "duration": 34,
    "start_time": "2022-06-02T18:03:28.720Z"
   },
   {
    "duration": 44,
    "start_time": "2022-06-02T18:03:38.316Z"
   },
   {
    "duration": 31,
    "start_time": "2022-06-02T18:03:47.012Z"
   },
   {
    "duration": 27,
    "start_time": "2022-06-02T18:16:05.403Z"
   },
   {
    "duration": 26,
    "start_time": "2022-06-02T18:16:06.289Z"
   },
   {
    "duration": 711,
    "start_time": "2022-06-02T18:17:32.819Z"
   },
   {
    "duration": 10,
    "start_time": "2022-06-02T18:17:53.279Z"
   },
   {
    "duration": 29,
    "start_time": "2022-06-02T18:18:14.431Z"
   },
   {
    "duration": 20,
    "start_time": "2022-06-02T18:18:59.451Z"
   },
   {
    "duration": 18,
    "start_time": "2022-06-02T18:19:18.052Z"
   },
   {
    "duration": 4,
    "start_time": "2022-06-02T18:21:12.260Z"
   },
   {
    "duration": 23,
    "start_time": "2022-06-02T18:21:20.837Z"
   },
   {
    "duration": 451,
    "start_time": "2022-06-02T18:23:40.821Z"
   },
   {
    "duration": 59,
    "start_time": "2022-06-04T05:27:42.784Z"
   },
   {
    "duration": 803,
    "start_time": "2022-06-04T05:27:51.180Z"
   },
   {
    "duration": 211,
    "start_time": "2022-06-04T05:27:51.985Z"
   },
   {
    "duration": 25,
    "start_time": "2022-06-04T05:27:52.197Z"
   },
   {
    "duration": 20,
    "start_time": "2022-06-04T05:27:52.223Z"
   },
   {
    "duration": 23,
    "start_time": "2022-06-04T05:27:52.245Z"
   },
   {
    "duration": 17,
    "start_time": "2022-06-04T05:27:52.270Z"
   },
   {
    "duration": 30,
    "start_time": "2022-06-04T05:27:52.289Z"
   },
   {
    "duration": 34,
    "start_time": "2022-06-04T05:27:52.321Z"
   },
   {
    "duration": 13,
    "start_time": "2022-06-04T05:27:52.356Z"
   },
   {
    "duration": 24,
    "start_time": "2022-06-04T05:27:52.370Z"
   },
   {
    "duration": 7,
    "start_time": "2022-06-04T05:27:52.395Z"
   },
   {
    "duration": 30,
    "start_time": "2022-06-04T05:27:52.404Z"
   },
   {
    "duration": 23,
    "start_time": "2022-06-04T05:27:52.438Z"
   },
   {
    "duration": 11,
    "start_time": "2022-06-04T05:27:52.463Z"
   },
   {
    "duration": 24,
    "start_time": "2022-06-04T05:27:52.475Z"
   },
   {
    "duration": 5,
    "start_time": "2022-06-04T05:27:52.500Z"
   },
   {
    "duration": 10,
    "start_time": "2022-06-04T05:27:52.507Z"
   },
   {
    "duration": 29,
    "start_time": "2022-06-04T05:27:52.527Z"
   },
   {
    "duration": 104,
    "start_time": "2022-06-04T05:27:52.557Z"
   },
   {
    "duration": 0,
    "start_time": "2022-06-04T05:27:52.662Z"
   },
   {
    "duration": 0,
    "start_time": "2022-06-04T05:27:52.663Z"
   },
   {
    "duration": 8,
    "start_time": "2022-06-04T05:28:15.082Z"
   },
   {
    "duration": 6,
    "start_time": "2022-06-04T05:28:20.146Z"
   },
   {
    "duration": 4,
    "start_time": "2022-06-04T05:28:45.239Z"
   },
   {
    "duration": 9,
    "start_time": "2022-06-04T05:29:02.479Z"
   },
   {
    "duration": 16,
    "start_time": "2022-06-04T05:30:59.222Z"
   },
   {
    "duration": 14,
    "start_time": "2022-06-04T05:31:08.495Z"
   },
   {
    "duration": 26,
    "start_time": "2022-06-04T05:31:20.077Z"
   },
   {
    "duration": 4,
    "start_time": "2022-06-04T05:32:11.722Z"
   },
   {
    "duration": 24,
    "start_time": "2022-06-04T05:32:12.376Z"
   },
   {
    "duration": 23,
    "start_time": "2022-06-04T05:32:12.850Z"
   },
   {
    "duration": 8,
    "start_time": "2022-06-04T05:50:20.439Z"
   },
   {
    "duration": 7,
    "start_time": "2022-06-04T05:50:37.134Z"
   },
   {
    "duration": 5,
    "start_time": "2022-06-04T05:51:36.608Z"
   },
   {
    "duration": 4,
    "start_time": "2022-06-04T05:53:03.096Z"
   },
   {
    "duration": 5,
    "start_time": "2022-06-04T05:53:37.469Z"
   },
   {
    "duration": 26,
    "start_time": "2022-06-04T05:56:33.749Z"
   },
   {
    "duration": 29,
    "start_time": "2022-06-04T05:57:23.044Z"
   },
   {
    "duration": 27,
    "start_time": "2022-06-04T05:58:23.931Z"
   },
   {
    "duration": 7,
    "start_time": "2022-06-04T06:13:55.213Z"
   },
   {
    "duration": 9,
    "start_time": "2022-06-04T06:14:03.890Z"
   },
   {
    "duration": 8,
    "start_time": "2022-06-04T06:14:38.000Z"
   },
   {
    "duration": 760,
    "start_time": "2022-06-04T06:14:48.956Z"
   },
   {
    "duration": 143,
    "start_time": "2022-06-04T06:14:49.719Z"
   },
   {
    "duration": 31,
    "start_time": "2022-06-04T06:14:49.863Z"
   },
   {
    "duration": 15,
    "start_time": "2022-06-04T06:14:49.896Z"
   },
   {
    "duration": 40,
    "start_time": "2022-06-04T06:14:49.912Z"
   },
   {
    "duration": 31,
    "start_time": "2022-06-04T06:14:49.955Z"
   },
   {
    "duration": 41,
    "start_time": "2022-06-04T06:14:49.988Z"
   },
   {
    "duration": 45,
    "start_time": "2022-06-04T06:14:50.031Z"
   },
   {
    "duration": 22,
    "start_time": "2022-06-04T06:14:50.078Z"
   },
   {
    "duration": 26,
    "start_time": "2022-06-04T06:14:50.103Z"
   },
   {
    "duration": 52,
    "start_time": "2022-06-04T06:14:50.131Z"
   },
   {
    "duration": 8,
    "start_time": "2022-06-04T06:14:50.185Z"
   },
   {
    "duration": 13,
    "start_time": "2022-06-04T06:14:50.194Z"
   },
   {
    "duration": 20,
    "start_time": "2022-06-04T06:14:50.209Z"
   },
   {
    "duration": 26,
    "start_time": "2022-06-04T06:14:50.231Z"
   },
   {
    "duration": 17,
    "start_time": "2022-06-04T06:14:50.263Z"
   },
   {
    "duration": 4,
    "start_time": "2022-06-04T06:14:50.282Z"
   },
   {
    "duration": 7,
    "start_time": "2022-06-04T06:14:50.287Z"
   },
   {
    "duration": 63,
    "start_time": "2022-06-04T06:14:50.296Z"
   },
   {
    "duration": 8,
    "start_time": "2022-06-04T06:14:50.361Z"
   },
   {
    "duration": 9,
    "start_time": "2022-06-04T06:14:50.370Z"
   },
   {
    "duration": 6,
    "start_time": "2022-06-04T06:14:50.381Z"
   },
   {
    "duration": 7,
    "start_time": "2022-06-04T06:14:50.389Z"
   },
   {
    "duration": 6,
    "start_time": "2022-06-04T06:14:50.397Z"
   },
   {
    "duration": 8,
    "start_time": "2022-06-04T06:15:31.678Z"
   },
   {
    "duration": 685,
    "start_time": "2022-06-04T06:15:39.169Z"
   },
   {
    "duration": 91,
    "start_time": "2022-06-04T06:15:39.856Z"
   },
   {
    "duration": 30,
    "start_time": "2022-06-04T06:15:39.948Z"
   },
   {
    "duration": 13,
    "start_time": "2022-06-04T06:15:39.979Z"
   },
   {
    "duration": 21,
    "start_time": "2022-06-04T06:15:39.994Z"
   },
   {
    "duration": 17,
    "start_time": "2022-06-04T06:15:40.017Z"
   },
   {
    "duration": 25,
    "start_time": "2022-06-04T06:15:40.037Z"
   },
   {
    "duration": 23,
    "start_time": "2022-06-04T06:15:40.063Z"
   },
   {
    "duration": 24,
    "start_time": "2022-06-04T06:15:40.087Z"
   },
   {
    "duration": 28,
    "start_time": "2022-06-04T06:15:40.112Z"
   },
   {
    "duration": 8,
    "start_time": "2022-06-04T06:15:40.142Z"
   },
   {
    "duration": 30,
    "start_time": "2022-06-04T06:15:40.152Z"
   },
   {
    "duration": 7,
    "start_time": "2022-06-04T06:15:40.184Z"
   },
   {
    "duration": 40,
    "start_time": "2022-06-04T06:15:40.194Z"
   },
   {
    "duration": 15,
    "start_time": "2022-06-04T06:15:40.236Z"
   },
   {
    "duration": 18,
    "start_time": "2022-06-04T06:15:40.253Z"
   },
   {
    "duration": 20,
    "start_time": "2022-06-04T06:15:40.273Z"
   },
   {
    "duration": 4,
    "start_time": "2022-06-04T06:15:40.294Z"
   },
   {
    "duration": 7,
    "start_time": "2022-06-04T06:15:40.300Z"
   },
   {
    "duration": 44,
    "start_time": "2022-06-04T06:15:40.308Z"
   },
   {
    "duration": 7,
    "start_time": "2022-06-04T06:15:40.354Z"
   },
   {
    "duration": 10,
    "start_time": "2022-06-04T06:15:40.362Z"
   },
   {
    "duration": 7,
    "start_time": "2022-06-04T06:15:40.374Z"
   },
   {
    "duration": 7,
    "start_time": "2022-06-04T06:15:40.382Z"
   },
   {
    "duration": 6,
    "start_time": "2022-06-04T06:15:40.391Z"
   },
   {
    "duration": 7,
    "start_time": "2022-06-04T06:43:47.599Z"
   },
   {
    "duration": 169,
    "start_time": "2022-06-04T06:43:58.478Z"
   },
   {
    "duration": 11,
    "start_time": "2022-06-04T06:44:51.832Z"
   },
   {
    "duration": 4406,
    "start_time": "2022-06-04T06:45:47.628Z"
   },
   {
    "duration": 231,
    "start_time": "2022-06-04T06:46:03.851Z"
   },
   {
    "duration": 89,
    "start_time": "2022-06-04T06:46:15.117Z"
   },
   {
    "duration": 134,
    "start_time": "2022-06-04T06:46:21.372Z"
   },
   {
    "duration": 119,
    "start_time": "2022-06-04T06:46:42.195Z"
   },
   {
    "duration": 121,
    "start_time": "2022-06-04T06:47:15.414Z"
   },
   {
    "duration": 315,
    "start_time": "2022-06-04T06:47:33.436Z"
   },
   {
    "duration": 29,
    "start_time": "2022-06-04T06:48:23.632Z"
   },
   {
    "duration": 5,
    "start_time": "2022-06-04T06:48:28.303Z"
   },
   {
    "duration": 136,
    "start_time": "2022-06-04T06:49:25.878Z"
   },
   {
    "duration": 5,
    "start_time": "2022-06-04T06:49:39.915Z"
   },
   {
    "duration": 11,
    "start_time": "2022-06-04T06:49:41.906Z"
   },
   {
    "duration": 121,
    "start_time": "2022-06-04T06:50:10.559Z"
   },
   {
    "duration": 194,
    "start_time": "2022-06-04T06:50:15.887Z"
   },
   {
    "duration": 143,
    "start_time": "2022-06-04T06:50:24.655Z"
   },
   {
    "duration": 121,
    "start_time": "2022-06-04T06:50:35.942Z"
   },
   {
    "duration": 215,
    "start_time": "2022-06-04T06:51:19.373Z"
   },
   {
    "duration": 162,
    "start_time": "2022-06-04T06:51:38.527Z"
   },
   {
    "duration": 168,
    "start_time": "2022-06-04T06:52:25.440Z"
   },
   {
    "duration": 465,
    "start_time": "2022-06-04T06:55:10.545Z"
   },
   {
    "duration": 497,
    "start_time": "2022-06-04T06:55:48.538Z"
   },
   {
    "duration": 8,
    "start_time": "2022-06-04T06:56:25.409Z"
   },
   {
    "duration": 12,
    "start_time": "2022-06-04T06:56:33.387Z"
   },
   {
    "duration": 10,
    "start_time": "2022-06-04T06:56:41.600Z"
   },
   {
    "duration": 10,
    "start_time": "2022-06-04T06:57:01.887Z"
   },
   {
    "duration": 868,
    "start_time": "2022-06-04T06:57:20.172Z"
   },
   {
    "duration": 43,
    "start_time": "2022-06-04T06:58:04.072Z"
   },
   {
    "duration": 11,
    "start_time": "2022-06-04T06:58:05.248Z"
   },
   {
    "duration": 10,
    "start_time": "2022-06-04T06:58:08.430Z"
   },
   {
    "duration": 548,
    "start_time": "2022-06-04T06:58:14.928Z"
   },
   {
    "duration": 161,
    "start_time": "2022-06-04T06:59:03.273Z"
   },
   {
    "duration": 148,
    "start_time": "2022-06-04T06:59:21.902Z"
   },
   {
    "duration": 469,
    "start_time": "2022-06-04T06:59:36.941Z"
   },
   {
    "duration": 426,
    "start_time": "2022-06-04T06:59:57.480Z"
   },
   {
    "duration": 1299,
    "start_time": "2022-06-04T07:00:21.551Z"
   },
   {
    "duration": 301,
    "start_time": "2022-06-04T07:00:30.872Z"
   },
   {
    "duration": 551,
    "start_time": "2022-06-04T07:00:46.206Z"
   },
   {
    "duration": 13,
    "start_time": "2022-06-04T07:02:00.424Z"
   },
   {
    "duration": 11,
    "start_time": "2022-06-04T07:02:08.889Z"
   },
   {
    "duration": 440,
    "start_time": "2022-06-04T07:03:10.872Z"
   },
   {
    "duration": 767,
    "start_time": "2022-06-04T07:03:24.275Z"
   },
   {
    "duration": 456,
    "start_time": "2022-06-04T07:03:58.345Z"
   },
   {
    "duration": 528,
    "start_time": "2022-06-04T07:04:18.893Z"
   },
   {
    "duration": 182,
    "start_time": "2022-06-04T07:04:50.547Z"
   },
   {
    "duration": 144,
    "start_time": "2022-06-04T07:07:13.721Z"
   },
   {
    "duration": 306,
    "start_time": "2022-06-04T07:07:36.121Z"
   },
   {
    "duration": 323,
    "start_time": "2022-06-04T07:07:48.341Z"
   },
   {
    "duration": 195,
    "start_time": "2022-06-04T07:08:03.788Z"
   },
   {
    "duration": 6,
    "start_time": "2022-06-04T07:08:49.174Z"
   },
   {
    "duration": 12,
    "start_time": "2022-06-04T07:09:12.441Z"
   },
   {
    "duration": 14,
    "start_time": "2022-06-04T07:09:31.790Z"
   },
   {
    "duration": 11,
    "start_time": "2022-06-04T07:10:56.007Z"
   },
   {
    "duration": 124,
    "start_time": "2022-06-04T07:11:34.648Z"
   },
   {
    "duration": 203,
    "start_time": "2022-06-04T07:13:35.642Z"
   },
   {
    "duration": 59,
    "start_time": "2022-06-04T07:14:00.601Z"
   },
   {
    "duration": 459,
    "start_time": "2022-06-04T07:14:04.578Z"
   },
   {
    "duration": 508,
    "start_time": "2022-06-04T07:15:16.393Z"
   },
   {
    "duration": 812,
    "start_time": "2022-06-04T07:15:42.359Z"
   },
   {
    "duration": 412,
    "start_time": "2022-06-04T07:16:54.974Z"
   },
   {
    "duration": 581,
    "start_time": "2022-06-04T07:17:40.914Z"
   },
   {
    "duration": 637,
    "start_time": "2022-06-04T07:18:27.324Z"
   },
   {
    "duration": 423,
    "start_time": "2022-06-04T07:19:25.384Z"
   },
   {
    "duration": 411,
    "start_time": "2022-06-04T07:19:35.632Z"
   },
   {
    "duration": 502,
    "start_time": "2022-06-04T07:19:46.147Z"
   },
   {
    "duration": 113,
    "start_time": "2022-06-04T07:23:14.387Z"
   },
   {
    "duration": 8,
    "start_time": "2022-06-04T07:25:14.743Z"
   },
   {
    "duration": 116,
    "start_time": "2022-06-04T07:25:59.682Z"
   },
   {
    "duration": 38,
    "start_time": "2022-06-04T07:26:55.095Z"
   },
   {
    "duration": 8,
    "start_time": "2022-06-04T07:26:59.953Z"
   },
   {
    "duration": 114,
    "start_time": "2022-06-04T07:27:05.906Z"
   },
   {
    "duration": 101,
    "start_time": "2022-06-04T07:27:15.910Z"
   },
   {
    "duration": 122,
    "start_time": "2022-06-04T07:29:34.880Z"
   },
   {
    "duration": 106,
    "start_time": "2022-06-04T07:29:46.785Z"
   },
   {
    "duration": 115,
    "start_time": "2022-06-04T07:30:38.920Z"
   },
   {
    "duration": 103,
    "start_time": "2022-06-04T07:30:46.542Z"
   },
   {
    "duration": 433,
    "start_time": "2022-06-04T07:34:10.724Z"
   },
   {
    "duration": 615,
    "start_time": "2022-06-04T07:55:14.055Z"
   },
   {
    "duration": 7,
    "start_time": "2022-06-04T07:55:21.608Z"
   },
   {
    "duration": 18,
    "start_time": "2022-06-04T07:56:03.400Z"
   },
   {
    "duration": 27,
    "start_time": "2022-06-04T07:56:49.152Z"
   },
   {
    "duration": 9,
    "start_time": "2022-06-04T07:56:52.318Z"
   },
   {
    "duration": 16,
    "start_time": "2022-06-04T07:56:55.304Z"
   },
   {
    "duration": 912,
    "start_time": "2022-06-04T07:57:00.240Z"
   },
   {
    "duration": 6,
    "start_time": "2022-06-04T08:59:43.570Z"
   },
   {
    "duration": 6,
    "start_time": "2022-06-04T09:01:44.803Z"
   },
   {
    "duration": 6,
    "start_time": "2022-06-04T09:01:49.308Z"
   },
   {
    "duration": 6,
    "start_time": "2022-06-04T09:04:41.451Z"
   },
   {
    "duration": 55,
    "start_time": "2022-06-04T12:22:41.666Z"
   },
   {
    "duration": 1291,
    "start_time": "2022-06-04T12:22:41.846Z"
   },
   {
    "duration": 197,
    "start_time": "2022-06-04T12:22:43.139Z"
   },
   {
    "duration": 31,
    "start_time": "2022-06-04T12:22:43.337Z"
   },
   {
    "duration": 15,
    "start_time": "2022-06-04T12:22:43.370Z"
   },
   {
    "duration": 14,
    "start_time": "2022-06-04T12:22:43.387Z"
   },
   {
    "duration": 28,
    "start_time": "2022-06-04T12:22:43.403Z"
   },
   {
    "duration": 27,
    "start_time": "2022-06-04T12:22:43.433Z"
   },
   {
    "duration": 33,
    "start_time": "2022-06-04T12:22:43.462Z"
   },
   {
    "duration": 46,
    "start_time": "2022-06-04T12:22:43.497Z"
   },
   {
    "duration": 16,
    "start_time": "2022-06-04T12:22:43.546Z"
   },
   {
    "duration": 5,
    "start_time": "2022-06-04T12:22:43.563Z"
   },
   {
    "duration": 32,
    "start_time": "2022-06-04T12:22:43.570Z"
   },
   {
    "duration": 10,
    "start_time": "2022-06-04T12:22:43.624Z"
   },
   {
    "duration": 14,
    "start_time": "2022-06-04T12:22:43.635Z"
   },
   {
    "duration": 575,
    "start_time": "2022-06-04T12:22:43.651Z"
   },
   {
    "duration": 9,
    "start_time": "2022-06-04T12:22:44.228Z"
   },
   {
    "duration": 10,
    "start_time": "2022-06-04T12:22:44.239Z"
   },
   {
    "duration": 142,
    "start_time": "2022-06-04T12:22:44.251Z"
   },
   {
    "duration": 8,
    "start_time": "2022-06-04T12:22:44.394Z"
   },
   {
    "duration": 25,
    "start_time": "2022-06-04T12:22:44.404Z"
   },
   {
    "duration": 8,
    "start_time": "2022-06-04T12:22:44.431Z"
   },
   {
    "duration": 95,
    "start_time": "2022-06-04T12:22:44.440Z"
   },
   {
    "duration": 0,
    "start_time": "2022-06-04T12:22:44.537Z"
   },
   {
    "duration": 0,
    "start_time": "2022-06-04T12:22:44.538Z"
   },
   {
    "duration": 0,
    "start_time": "2022-06-04T12:22:44.539Z"
   },
   {
    "duration": 0,
    "start_time": "2022-06-04T12:22:44.540Z"
   },
   {
    "duration": 0,
    "start_time": "2022-06-04T12:22:44.542Z"
   },
   {
    "duration": 0,
    "start_time": "2022-06-04T12:22:44.543Z"
   },
   {
    "duration": 0,
    "start_time": "2022-06-04T12:22:44.544Z"
   },
   {
    "duration": 0,
    "start_time": "2022-06-04T12:22:44.545Z"
   },
   {
    "duration": 0,
    "start_time": "2022-06-04T12:22:44.546Z"
   },
   {
    "duration": 0,
    "start_time": "2022-06-04T12:22:44.547Z"
   },
   {
    "duration": 0,
    "start_time": "2022-06-04T12:22:44.548Z"
   },
   {
    "duration": 0,
    "start_time": "2022-06-04T12:22:44.548Z"
   },
   {
    "duration": 0,
    "start_time": "2022-06-04T12:22:44.549Z"
   },
   {
    "duration": 0,
    "start_time": "2022-06-04T12:22:44.550Z"
   },
   {
    "duration": 0,
    "start_time": "2022-06-04T12:22:44.552Z"
   },
   {
    "duration": 0,
    "start_time": "2022-06-04T12:22:44.553Z"
   },
   {
    "duration": 0,
    "start_time": "2022-06-04T12:22:44.554Z"
   },
   {
    "duration": 0,
    "start_time": "2022-06-04T12:22:44.555Z"
   },
   {
    "duration": 27,
    "start_time": "2022-06-04T12:23:16.016Z"
   },
   {
    "duration": 27,
    "start_time": "2022-06-04T12:23:30.844Z"
   },
   {
    "duration": 24,
    "start_time": "2022-06-04T12:23:49.418Z"
   },
   {
    "duration": 20,
    "start_time": "2022-06-04T12:23:54.052Z"
   },
   {
    "duration": 15,
    "start_time": "2022-06-04T12:25:19.465Z"
   },
   {
    "duration": 23,
    "start_time": "2022-06-04T12:25:27.313Z"
   },
   {
    "duration": 26,
    "start_time": "2022-06-04T12:25:49.700Z"
   },
   {
    "duration": 54,
    "start_time": "2022-06-04T12:26:26.599Z"
   },
   {
    "duration": 1111,
    "start_time": "2022-06-04T12:26:38.499Z"
   },
   {
    "duration": 179,
    "start_time": "2022-06-04T12:26:39.612Z"
   },
   {
    "duration": 30,
    "start_time": "2022-06-04T12:26:39.793Z"
   },
   {
    "duration": 15,
    "start_time": "2022-06-04T12:26:39.825Z"
   },
   {
    "duration": 10,
    "start_time": "2022-06-04T12:26:39.841Z"
   },
   {
    "duration": 13,
    "start_time": "2022-06-04T12:26:39.853Z"
   },
   {
    "duration": 23,
    "start_time": "2022-06-04T12:26:39.868Z"
   },
   {
    "duration": 44,
    "start_time": "2022-06-04T12:26:39.893Z"
   },
   {
    "duration": 28,
    "start_time": "2022-06-04T12:26:39.939Z"
   },
   {
    "duration": 15,
    "start_time": "2022-06-04T12:26:39.970Z"
   },
   {
    "duration": 8,
    "start_time": "2022-06-04T12:26:39.986Z"
   },
   {
    "duration": 57,
    "start_time": "2022-06-04T12:26:39.995Z"
   },
   {
    "duration": 7,
    "start_time": "2022-06-04T12:26:40.053Z"
   },
   {
    "duration": 16,
    "start_time": "2022-06-04T12:26:40.062Z"
   },
   {
    "duration": 534,
    "start_time": "2022-06-04T12:26:40.079Z"
   },
   {
    "duration": 14,
    "start_time": "2022-06-04T12:26:40.615Z"
   },
   {
    "duration": 24,
    "start_time": "2022-06-04T12:26:40.631Z"
   },
   {
    "duration": 134,
    "start_time": "2022-06-04T12:26:40.657Z"
   },
   {
    "duration": 9,
    "start_time": "2022-06-04T12:26:40.793Z"
   },
   {
    "duration": 22,
    "start_time": "2022-06-04T12:26:40.803Z"
   },
   {
    "duration": 14,
    "start_time": "2022-06-04T12:26:40.827Z"
   },
   {
    "duration": 55,
    "start_time": "2022-06-04T12:27:29.019Z"
   },
   {
    "duration": 1114,
    "start_time": "2022-06-04T12:27:36.804Z"
   },
   {
    "duration": 213,
    "start_time": "2022-06-04T12:27:37.922Z"
   },
   {
    "duration": 31,
    "start_time": "2022-06-04T12:27:38.136Z"
   },
   {
    "duration": 63,
    "start_time": "2022-06-04T12:27:38.168Z"
   },
   {
    "duration": 12,
    "start_time": "2022-06-04T12:27:38.232Z"
   },
   {
    "duration": 13,
    "start_time": "2022-06-04T12:27:38.245Z"
   },
   {
    "duration": 64,
    "start_time": "2022-06-04T12:27:38.260Z"
   },
   {
    "duration": 22,
    "start_time": "2022-06-04T12:27:38.326Z"
   },
   {
    "duration": 77,
    "start_time": "2022-06-04T12:27:38.350Z"
   },
   {
    "duration": 15,
    "start_time": "2022-06-04T12:27:38.430Z"
   },
   {
    "duration": 5,
    "start_time": "2022-06-04T12:27:38.446Z"
   },
   {
    "duration": 87,
    "start_time": "2022-06-04T12:27:38.452Z"
   },
   {
    "duration": 7,
    "start_time": "2022-06-04T12:27:38.541Z"
   },
   {
    "duration": 13,
    "start_time": "2022-06-04T12:27:38.549Z"
   },
   {
    "duration": 1125,
    "start_time": "2022-06-04T12:27:38.564Z"
   },
   {
    "duration": 8,
    "start_time": "2022-06-04T12:27:39.691Z"
   },
   {
    "duration": 23,
    "start_time": "2022-06-04T12:27:39.701Z"
   },
   {
    "duration": 112,
    "start_time": "2022-06-04T12:27:39.726Z"
   },
   {
    "duration": 8,
    "start_time": "2022-06-04T12:27:39.840Z"
   },
   {
    "duration": 6,
    "start_time": "2022-06-04T12:27:39.850Z"
   },
   {
    "duration": 11,
    "start_time": "2022-06-04T12:27:39.857Z"
   },
   {
    "duration": 126,
    "start_time": "2022-06-04T12:27:39.870Z"
   },
   {
    "duration": 0,
    "start_time": "2022-06-04T12:27:39.998Z"
   },
   {
    "duration": 0,
    "start_time": "2022-06-04T12:27:39.999Z"
   },
   {
    "duration": 0,
    "start_time": "2022-06-04T12:27:40.000Z"
   },
   {
    "duration": 0,
    "start_time": "2022-06-04T12:27:40.001Z"
   },
   {
    "duration": 0,
    "start_time": "2022-06-04T12:27:40.002Z"
   },
   {
    "duration": 0,
    "start_time": "2022-06-04T12:27:40.002Z"
   },
   {
    "duration": 0,
    "start_time": "2022-06-04T12:27:40.003Z"
   },
   {
    "duration": 0,
    "start_time": "2022-06-04T12:27:40.005Z"
   },
   {
    "duration": 0,
    "start_time": "2022-06-04T12:27:40.005Z"
   },
   {
    "duration": 0,
    "start_time": "2022-06-04T12:27:40.023Z"
   },
   {
    "duration": 0,
    "start_time": "2022-06-04T12:27:40.024Z"
   },
   {
    "duration": 0,
    "start_time": "2022-06-04T12:27:40.025Z"
   },
   {
    "duration": 0,
    "start_time": "2022-06-04T12:27:40.026Z"
   },
   {
    "duration": 0,
    "start_time": "2022-06-04T12:27:40.027Z"
   },
   {
    "duration": 0,
    "start_time": "2022-06-04T12:27:40.028Z"
   },
   {
    "duration": 0,
    "start_time": "2022-06-04T12:27:40.029Z"
   },
   {
    "duration": 0,
    "start_time": "2022-06-04T12:27:40.030Z"
   },
   {
    "duration": 0,
    "start_time": "2022-06-04T12:27:40.031Z"
   },
   {
    "duration": 5,
    "start_time": "2022-06-04T12:28:25.740Z"
   },
   {
    "duration": 6,
    "start_time": "2022-06-04T12:28:56.471Z"
   },
   {
    "duration": 16,
    "start_time": "2022-06-04T12:29:10.628Z"
   },
   {
    "duration": 301,
    "start_time": "2022-06-04T12:29:56.214Z"
   },
   {
    "duration": 1302,
    "start_time": "2022-06-04T12:30:21.531Z"
   },
   {
    "duration": 141,
    "start_time": "2022-06-04T12:30:22.835Z"
   },
   {
    "duration": 74,
    "start_time": "2022-06-04T12:30:22.978Z"
   },
   {
    "duration": 16,
    "start_time": "2022-06-04T12:30:23.054Z"
   },
   {
    "duration": 10,
    "start_time": "2022-06-04T12:30:23.122Z"
   },
   {
    "duration": 14,
    "start_time": "2022-06-04T12:30:23.134Z"
   },
   {
    "duration": 18,
    "start_time": "2022-06-04T12:30:23.149Z"
   },
   {
    "duration": 73,
    "start_time": "2022-06-04T12:30:23.168Z"
   },
   {
    "duration": 81,
    "start_time": "2022-06-04T12:30:23.242Z"
   },
   {
    "duration": 16,
    "start_time": "2022-06-04T12:30:23.326Z"
   },
   {
    "duration": 5,
    "start_time": "2022-06-04T12:30:23.343Z"
   },
   {
    "duration": 89,
    "start_time": "2022-06-04T12:30:23.350Z"
   },
   {
    "duration": 8,
    "start_time": "2022-06-04T12:30:23.440Z"
   },
   {
    "duration": 18,
    "start_time": "2022-06-04T12:30:23.450Z"
   },
   {
    "duration": 1210,
    "start_time": "2022-06-04T12:30:23.470Z"
   },
   {
    "duration": 43,
    "start_time": "2022-06-04T12:30:24.681Z"
   },
   {
    "duration": 19,
    "start_time": "2022-06-04T12:30:24.725Z"
   },
   {
    "duration": 117,
    "start_time": "2022-06-04T12:30:24.746Z"
   },
   {
    "duration": 9,
    "start_time": "2022-06-04T12:30:24.865Z"
   },
   {
    "duration": 7,
    "start_time": "2022-06-04T12:30:24.876Z"
   },
   {
    "duration": 14,
    "start_time": "2022-06-04T12:30:24.884Z"
   },
   {
    "duration": 24,
    "start_time": "2022-06-04T12:30:24.899Z"
   },
   {
    "duration": 10,
    "start_time": "2022-06-04T12:30:24.925Z"
   },
   {
    "duration": 1242,
    "start_time": "2022-06-04T12:31:25.125Z"
   },
   {
    "duration": 206,
    "start_time": "2022-06-04T12:31:26.423Z"
   },
   {
    "duration": 30,
    "start_time": "2022-06-04T12:31:26.630Z"
   },
   {
    "duration": 67,
    "start_time": "2022-06-04T12:31:26.662Z"
   },
   {
    "duration": 8,
    "start_time": "2022-06-04T12:31:26.730Z"
   },
   {
    "duration": 16,
    "start_time": "2022-06-04T12:31:26.740Z"
   },
   {
    "duration": 72,
    "start_time": "2022-06-04T12:31:26.757Z"
   },
   {
    "duration": 24,
    "start_time": "2022-06-04T12:31:26.830Z"
   },
   {
    "duration": 76,
    "start_time": "2022-06-04T12:31:26.855Z"
   },
   {
    "duration": 16,
    "start_time": "2022-06-04T12:31:26.934Z"
   },
   {
    "duration": 5,
    "start_time": "2022-06-04T12:31:26.952Z"
   },
   {
    "duration": 80,
    "start_time": "2022-06-04T12:31:26.958Z"
   },
   {
    "duration": 6,
    "start_time": "2022-06-04T12:31:27.040Z"
   },
   {
    "duration": 13,
    "start_time": "2022-06-04T12:31:27.048Z"
   },
   {
    "duration": 873,
    "start_time": "2022-06-04T12:31:27.062Z"
   },
   {
    "duration": 9,
    "start_time": "2022-06-04T12:31:27.938Z"
   },
   {
    "duration": 12,
    "start_time": "2022-06-04T12:31:27.949Z"
   },
   {
    "duration": 129,
    "start_time": "2022-06-04T12:31:27.962Z"
   },
   {
    "duration": 8,
    "start_time": "2022-06-04T12:31:28.093Z"
   },
   {
    "duration": 5,
    "start_time": "2022-06-04T12:31:28.103Z"
   },
   {
    "duration": 24,
    "start_time": "2022-06-04T12:31:28.109Z"
   },
   {
    "duration": 17,
    "start_time": "2022-06-04T12:31:28.135Z"
   },
   {
    "duration": 16,
    "start_time": "2022-06-04T12:31:28.153Z"
   },
   {
    "duration": 117,
    "start_time": "2022-06-04T12:31:28.170Z"
   },
   {
    "duration": 0,
    "start_time": "2022-06-04T12:31:28.289Z"
   },
   {
    "duration": 0,
    "start_time": "2022-06-04T12:31:28.290Z"
   },
   {
    "duration": 0,
    "start_time": "2022-06-04T12:31:28.291Z"
   },
   {
    "duration": 0,
    "start_time": "2022-06-04T12:31:28.292Z"
   },
   {
    "duration": 0,
    "start_time": "2022-06-04T12:31:28.294Z"
   },
   {
    "duration": 0,
    "start_time": "2022-06-04T12:31:28.294Z"
   },
   {
    "duration": 0,
    "start_time": "2022-06-04T12:31:28.295Z"
   },
   {
    "duration": 0,
    "start_time": "2022-06-04T12:31:28.296Z"
   },
   {
    "duration": 0,
    "start_time": "2022-06-04T12:31:28.297Z"
   },
   {
    "duration": 0,
    "start_time": "2022-06-04T12:31:28.298Z"
   },
   {
    "duration": 0,
    "start_time": "2022-06-04T12:31:28.298Z"
   },
   {
    "duration": 0,
    "start_time": "2022-06-04T12:31:28.299Z"
   },
   {
    "duration": 0,
    "start_time": "2022-06-04T12:31:28.300Z"
   },
   {
    "duration": 0,
    "start_time": "2022-06-04T12:31:28.301Z"
   },
   {
    "duration": 0,
    "start_time": "2022-06-04T12:31:28.301Z"
   },
   {
    "duration": 0,
    "start_time": "2022-06-04T12:31:28.302Z"
   },
   {
    "duration": 0,
    "start_time": "2022-06-04T12:31:28.323Z"
   },
   {
    "duration": 0,
    "start_time": "2022-06-04T12:31:28.324Z"
   },
   {
    "duration": 274,
    "start_time": "2022-06-04T12:32:52.097Z"
   },
   {
    "duration": 1079,
    "start_time": "2022-06-04T12:32:59.851Z"
   },
   {
    "duration": 101,
    "start_time": "2022-06-04T12:33:00.932Z"
   },
   {
    "duration": 31,
    "start_time": "2022-06-04T12:33:01.035Z"
   },
   {
    "duration": 20,
    "start_time": "2022-06-04T12:33:01.068Z"
   },
   {
    "duration": 18,
    "start_time": "2022-06-04T12:33:01.090Z"
   },
   {
    "duration": 59,
    "start_time": "2022-06-04T12:33:01.110Z"
   },
   {
    "duration": 63,
    "start_time": "2022-06-04T12:33:01.170Z"
   },
   {
    "duration": 189,
    "start_time": "2022-06-04T12:33:01.234Z"
   },
   {
    "duration": 99,
    "start_time": "2022-06-04T12:33:01.425Z"
   },
   {
    "duration": 17,
    "start_time": "2022-06-04T12:33:01.527Z"
   },
   {
    "duration": 8,
    "start_time": "2022-06-04T12:33:01.546Z"
   },
   {
    "duration": 86,
    "start_time": "2022-06-04T12:33:01.555Z"
   },
   {
    "duration": 21,
    "start_time": "2022-06-04T12:33:01.643Z"
   },
   {
    "duration": 63,
    "start_time": "2022-06-04T12:33:01.665Z"
   },
   {
    "duration": 1172,
    "start_time": "2022-06-04T12:33:01.729Z"
   },
   {
    "duration": 8,
    "start_time": "2022-06-04T12:33:02.902Z"
   },
   {
    "duration": 10,
    "start_time": "2022-06-04T12:33:02.923Z"
   },
   {
    "duration": 126,
    "start_time": "2022-06-04T12:33:02.934Z"
   },
   {
    "duration": 9,
    "start_time": "2022-06-04T12:33:03.062Z"
   },
   {
    "duration": 9,
    "start_time": "2022-06-04T12:33:03.073Z"
   },
   {
    "duration": 18,
    "start_time": "2022-06-04T12:33:03.085Z"
   },
   {
    "duration": 13,
    "start_time": "2022-06-04T12:33:03.105Z"
   },
   {
    "duration": 20,
    "start_time": "2022-06-04T12:33:03.123Z"
   },
   {
    "duration": 111,
    "start_time": "2022-06-04T12:33:03.144Z"
   },
   {
    "duration": 0,
    "start_time": "2022-06-04T12:33:03.257Z"
   },
   {
    "duration": 0,
    "start_time": "2022-06-04T12:33:03.259Z"
   },
   {
    "duration": 1,
    "start_time": "2022-06-04T12:33:03.259Z"
   },
   {
    "duration": 0,
    "start_time": "2022-06-04T12:33:03.260Z"
   },
   {
    "duration": 0,
    "start_time": "2022-06-04T12:33:03.262Z"
   },
   {
    "duration": 0,
    "start_time": "2022-06-04T12:33:03.263Z"
   },
   {
    "duration": 0,
    "start_time": "2022-06-04T12:33:03.264Z"
   },
   {
    "duration": 0,
    "start_time": "2022-06-04T12:33:03.265Z"
   },
   {
    "duration": 0,
    "start_time": "2022-06-04T12:33:03.266Z"
   },
   {
    "duration": 0,
    "start_time": "2022-06-04T12:33:03.267Z"
   },
   {
    "duration": 0,
    "start_time": "2022-06-04T12:33:03.268Z"
   },
   {
    "duration": 0,
    "start_time": "2022-06-04T12:33:03.269Z"
   },
   {
    "duration": 0,
    "start_time": "2022-06-04T12:33:03.270Z"
   },
   {
    "duration": 0,
    "start_time": "2022-06-04T12:33:03.271Z"
   },
   {
    "duration": 0,
    "start_time": "2022-06-04T12:33:03.272Z"
   },
   {
    "duration": 0,
    "start_time": "2022-06-04T12:33:03.273Z"
   },
   {
    "duration": 0,
    "start_time": "2022-06-04T12:33:03.274Z"
   },
   {
    "duration": 0,
    "start_time": "2022-06-04T12:33:03.275Z"
   },
   {
    "duration": 6,
    "start_time": "2022-06-04T12:34:24.008Z"
   },
   {
    "duration": 6,
    "start_time": "2022-06-04T12:34:25.201Z"
   },
   {
    "duration": 12,
    "start_time": "2022-06-04T12:34:37.310Z"
   },
   {
    "duration": 5,
    "start_time": "2022-06-04T12:34:44.845Z"
   },
   {
    "duration": 11,
    "start_time": "2022-06-04T12:34:48.129Z"
   },
   {
    "duration": 5,
    "start_time": "2022-06-04T12:34:52.101Z"
   },
   {
    "duration": 7,
    "start_time": "2022-06-04T12:35:06.944Z"
   },
   {
    "duration": 16,
    "start_time": "2022-06-04T12:35:14.632Z"
   },
   {
    "duration": 11,
    "start_time": "2022-06-04T12:35:36.145Z"
   },
   {
    "duration": 10,
    "start_time": "2022-06-04T12:36:00.529Z"
   },
   {
    "duration": 18,
    "start_time": "2022-06-04T12:36:09.327Z"
   },
   {
    "duration": 1117,
    "start_time": "2022-06-04T12:37:21.397Z"
   },
   {
    "duration": 115,
    "start_time": "2022-06-04T12:37:22.516Z"
   },
   {
    "duration": 38,
    "start_time": "2022-06-04T12:37:22.633Z"
   },
   {
    "duration": 23,
    "start_time": "2022-06-04T12:37:22.674Z"
   },
   {
    "duration": 28,
    "start_time": "2022-06-04T12:37:22.700Z"
   },
   {
    "duration": 23,
    "start_time": "2022-06-04T12:37:22.730Z"
   },
   {
    "duration": 24,
    "start_time": "2022-06-04T12:37:22.756Z"
   },
   {
    "duration": 45,
    "start_time": "2022-06-04T12:37:22.782Z"
   },
   {
    "duration": 29,
    "start_time": "2022-06-04T12:37:22.829Z"
   },
   {
    "duration": 17,
    "start_time": "2022-06-04T12:37:22.862Z"
   },
   {
    "duration": 9,
    "start_time": "2022-06-04T12:37:22.880Z"
   },
   {
    "duration": 55,
    "start_time": "2022-06-04T12:37:22.891Z"
   },
   {
    "duration": 10,
    "start_time": "2022-06-04T12:37:22.949Z"
   },
   {
    "duration": 12,
    "start_time": "2022-06-04T12:37:22.961Z"
   },
   {
    "duration": 565,
    "start_time": "2022-06-04T12:37:22.974Z"
   },
   {
    "duration": 8,
    "start_time": "2022-06-04T12:37:23.540Z"
   },
   {
    "duration": 27,
    "start_time": "2022-06-04T12:37:23.550Z"
   },
   {
    "duration": 112,
    "start_time": "2022-06-04T12:37:23.579Z"
   },
   {
    "duration": 9,
    "start_time": "2022-06-04T12:37:23.693Z"
   },
   {
    "duration": 11,
    "start_time": "2022-06-04T12:37:23.704Z"
   },
   {
    "duration": 10,
    "start_time": "2022-06-04T12:37:23.716Z"
   },
   {
    "duration": 16,
    "start_time": "2022-06-04T12:37:23.727Z"
   },
   {
    "duration": 11,
    "start_time": "2022-06-04T12:37:23.745Z"
   },
   {
    "duration": 26,
    "start_time": "2022-06-04T12:37:23.758Z"
   },
   {
    "duration": 7,
    "start_time": "2022-06-04T12:37:23.786Z"
   },
   {
    "duration": 221,
    "start_time": "2022-06-04T12:37:23.795Z"
   },
   {
    "duration": 5,
    "start_time": "2022-06-04T12:37:24.022Z"
   },
   {
    "duration": 6,
    "start_time": "2022-06-04T12:37:24.030Z"
   },
   {
    "duration": 10,
    "start_time": "2022-06-04T12:37:24.037Z"
   },
   {
    "duration": 13,
    "start_time": "2022-06-04T12:37:24.048Z"
   },
   {
    "duration": 176,
    "start_time": "2022-06-04T12:37:24.063Z"
   },
   {
    "duration": 29,
    "start_time": "2022-06-04T12:37:24.241Z"
   },
   {
    "duration": 8,
    "start_time": "2022-06-04T12:37:24.272Z"
   },
   {
    "duration": 41,
    "start_time": "2022-06-04T12:37:24.281Z"
   },
   {
    "duration": 493,
    "start_time": "2022-06-04T12:37:24.324Z"
   },
   {
    "duration": 4,
    "start_time": "2022-06-04T12:37:24.822Z"
   },
   {
    "duration": 9,
    "start_time": "2022-06-04T12:37:24.828Z"
   },
   {
    "duration": 6,
    "start_time": "2022-06-04T12:37:24.839Z"
   },
   {
    "duration": 6,
    "start_time": "2022-06-04T12:37:24.847Z"
   },
   {
    "duration": 8,
    "start_time": "2022-06-04T12:37:24.854Z"
   },
   {
    "duration": 6,
    "start_time": "2022-06-04T12:37:59.741Z"
   },
   {
    "duration": 19,
    "start_time": "2022-06-04T12:38:07.492Z"
   },
   {
    "duration": 15,
    "start_time": "2022-06-04T12:38:23.356Z"
   },
   {
    "duration": 24,
    "start_time": "2022-06-04T12:38:28.693Z"
   },
   {
    "duration": 31,
    "start_time": "2022-06-04T12:39:27.770Z"
   },
   {
    "duration": 26,
    "start_time": "2022-06-04T12:39:34.572Z"
   },
   {
    "duration": 23,
    "start_time": "2022-06-04T12:41:21.144Z"
   },
   {
    "duration": 7,
    "start_time": "2022-06-04T12:41:40.101Z"
   },
   {
    "duration": 15,
    "start_time": "2022-06-04T12:41:49.952Z"
   },
   {
    "duration": 8,
    "start_time": "2022-06-04T12:42:38.755Z"
   },
   {
    "duration": 15,
    "start_time": "2022-06-04T12:42:41.121Z"
   },
   {
    "duration": 421,
    "start_time": "2022-06-04T12:42:44.306Z"
   },
   {
    "duration": 490,
    "start_time": "2022-06-04T12:44:10.813Z"
   },
   {
    "duration": 555,
    "start_time": "2022-06-04T12:46:05.850Z"
   },
   {
    "duration": 17,
    "start_time": "2022-06-04T12:47:02.104Z"
   },
   {
    "duration": 140,
    "start_time": "2022-06-04T12:47:32.620Z"
   },
   {
    "duration": 29,
    "start_time": "2022-06-04T12:51:23.855Z"
   },
   {
    "duration": 18,
    "start_time": "2022-06-04T12:52:13.854Z"
   },
   {
    "duration": 17,
    "start_time": "2022-06-04T12:52:20.064Z"
   },
   {
    "duration": 11,
    "start_time": "2022-06-04T12:52:31.204Z"
   },
   {
    "duration": 5,
    "start_time": "2022-06-04T12:52:47.929Z"
   },
   {
    "duration": 9,
    "start_time": "2022-06-04T12:52:54.728Z"
   },
   {
    "duration": 7,
    "start_time": "2022-06-04T12:53:20.910Z"
   },
   {
    "duration": 111,
    "start_time": "2022-06-04T12:53:26.993Z"
   },
   {
    "duration": 104,
    "start_time": "2022-06-04T12:53:55.303Z"
   },
   {
    "duration": 102,
    "start_time": "2022-06-04T12:54:06.998Z"
   },
   {
    "duration": 107,
    "start_time": "2022-06-04T12:54:16.497Z"
   },
   {
    "duration": 106,
    "start_time": "2022-06-04T12:55:20.896Z"
   },
   {
    "duration": 102,
    "start_time": "2022-06-04T12:55:28.288Z"
   },
   {
    "duration": 113,
    "start_time": "2022-06-04T12:57:06.934Z"
   },
   {
    "duration": 4,
    "start_time": "2022-06-04T12:57:11.300Z"
   },
   {
    "duration": 110,
    "start_time": "2022-06-04T12:57:25.807Z"
   },
   {
    "duration": 114,
    "start_time": "2022-06-04T12:57:30.485Z"
   },
   {
    "duration": 108,
    "start_time": "2022-06-04T13:01:53.142Z"
   },
   {
    "duration": 230,
    "start_time": "2022-06-04T13:01:57.994Z"
   },
   {
    "duration": 2197,
    "start_time": "2022-06-04T13:02:30.024Z"
   },
   {
    "duration": 114,
    "start_time": "2022-06-04T13:02:57.640Z"
   },
   {
    "duration": 99,
    "start_time": "2022-06-04T13:04:23.334Z"
   },
   {
    "duration": 106,
    "start_time": "2022-06-04T13:04:32.825Z"
   },
   {
    "duration": 4,
    "start_time": "2022-06-04T13:20:49.599Z"
   },
   {
    "duration": 197,
    "start_time": "2022-06-04T13:26:21.953Z"
   },
   {
    "duration": 140,
    "start_time": "2022-06-04T13:26:27.158Z"
   },
   {
    "duration": 141,
    "start_time": "2022-06-04T13:29:27.600Z"
   },
   {
    "duration": 148,
    "start_time": "2022-06-04T13:29:44.125Z"
   },
   {
    "duration": 43,
    "start_time": "2022-06-04T13:30:12.790Z"
   },
   {
    "duration": 169,
    "start_time": "2022-06-04T13:30:17.903Z"
   },
   {
    "duration": 104,
    "start_time": "2022-06-04T13:34:25.494Z"
   },
   {
    "duration": 97,
    "start_time": "2022-06-04T13:34:37.443Z"
   },
   {
    "duration": 89,
    "start_time": "2022-06-04T13:34:54.516Z"
   },
   {
    "duration": 98,
    "start_time": "2022-06-04T13:35:34.202Z"
   },
   {
    "duration": 8,
    "start_time": "2022-06-04T13:36:24.309Z"
   },
   {
    "duration": 151,
    "start_time": "2022-06-04T13:37:30.506Z"
   },
   {
    "duration": 29,
    "start_time": "2022-06-04T13:39:40.542Z"
   },
   {
    "duration": 146,
    "start_time": "2022-06-04T13:45:02.544Z"
   },
   {
    "duration": 30,
    "start_time": "2022-06-04T13:55:57.095Z"
   },
   {
    "duration": 131,
    "start_time": "2022-06-04T14:00:30.348Z"
   },
   {
    "duration": 143,
    "start_time": "2022-06-04T14:00:39.516Z"
   },
   {
    "duration": 119,
    "start_time": "2022-06-04T14:00:44.064Z"
   },
   {
    "duration": 138,
    "start_time": "2022-06-04T14:00:49.692Z"
   },
   {
    "duration": 126,
    "start_time": "2022-06-04T14:00:55.148Z"
   },
   {
    "duration": 137,
    "start_time": "2022-06-04T14:00:58.824Z"
   },
   {
    "duration": 127,
    "start_time": "2022-06-04T14:01:03.012Z"
   },
   {
    "duration": 330,
    "start_time": "2022-06-04T14:01:24.148Z"
   },
   {
    "duration": 120,
    "start_time": "2022-06-04T14:01:43.180Z"
   },
   {
    "duration": 125,
    "start_time": "2022-06-04T14:01:49.955Z"
   },
   {
    "duration": 131,
    "start_time": "2022-06-04T14:02:01.264Z"
   },
   {
    "duration": 111,
    "start_time": "2022-06-04T14:03:09.759Z"
   },
   {
    "duration": 464,
    "start_time": "2022-06-04T14:05:03.320Z"
   },
   {
    "duration": 11,
    "start_time": "2022-06-04T14:11:00.121Z"
   },
   {
    "duration": 6,
    "start_time": "2022-06-04T14:13:13.142Z"
   },
   {
    "duration": 9,
    "start_time": "2022-06-04T14:13:18.325Z"
   },
   {
    "duration": 11,
    "start_time": "2022-06-04T14:13:18.861Z"
   },
   {
    "duration": 6,
    "start_time": "2022-06-04T14:13:20.092Z"
   },
   {
    "duration": 119,
    "start_time": "2022-06-04T14:16:48.720Z"
   },
   {
    "duration": 114,
    "start_time": "2022-06-04T14:17:09.392Z"
   },
   {
    "duration": 127,
    "start_time": "2022-06-04T14:17:29.397Z"
   },
   {
    "duration": 155,
    "start_time": "2022-06-04T14:17:42.804Z"
   },
   {
    "duration": 119,
    "start_time": "2022-06-04T14:17:50.920Z"
   },
   {
    "duration": 120,
    "start_time": "2022-06-04T14:17:56.192Z"
   },
   {
    "duration": 5,
    "start_time": "2022-06-04T14:20:19.420Z"
   },
   {
    "duration": 9,
    "start_time": "2022-06-04T14:24:20.541Z"
   },
   {
    "duration": 127,
    "start_time": "2022-06-04T14:26:00.144Z"
   },
   {
    "duration": 126,
    "start_time": "2022-06-04T14:26:10.025Z"
   },
   {
    "duration": 138,
    "start_time": "2022-06-04T14:26:25.888Z"
   },
   {
    "duration": 151,
    "start_time": "2022-06-04T14:26:31.324Z"
   },
   {
    "duration": 126,
    "start_time": "2022-06-04T14:26:36.814Z"
   },
   {
    "duration": 127,
    "start_time": "2022-06-04T14:26:45.047Z"
   },
   {
    "duration": 138,
    "start_time": "2022-06-04T14:26:52.900Z"
   },
   {
    "duration": 134,
    "start_time": "2022-06-04T14:27:00.509Z"
   },
   {
    "duration": 5,
    "start_time": "2022-06-04T14:34:05.755Z"
   },
   {
    "duration": 116,
    "start_time": "2022-06-04T14:38:47.200Z"
   },
   {
    "duration": 692,
    "start_time": "2022-06-04T14:47:08.200Z"
   },
   {
    "duration": 1807,
    "start_time": "2022-06-04T14:47:30.353Z"
   },
   {
    "duration": 454,
    "start_time": "2022-06-04T14:47:49.700Z"
   },
   {
    "duration": 445,
    "start_time": "2022-06-04T14:51:15.922Z"
   },
   {
    "duration": 28,
    "start_time": "2022-06-04T14:53:01.852Z"
   },
   {
    "duration": 5,
    "start_time": "2022-06-04T14:53:07.626Z"
   },
   {
    "duration": 5,
    "start_time": "2022-06-04T14:58:23.437Z"
   },
   {
    "duration": 6,
    "start_time": "2022-06-04T14:58:26.951Z"
   },
   {
    "duration": 8,
    "start_time": "2022-06-04T15:06:13.353Z"
   },
   {
    "duration": 12,
    "start_time": "2022-06-04T15:06:13.753Z"
   },
   {
    "duration": 14,
    "start_time": "2022-06-04T15:08:04.792Z"
   },
   {
    "duration": 8,
    "start_time": "2022-06-04T15:08:08.954Z"
   },
   {
    "duration": 5,
    "start_time": "2022-06-04T15:08:09.608Z"
   },
   {
    "duration": 9,
    "start_time": "2022-06-04T15:10:23.600Z"
   },
   {
    "duration": 7,
    "start_time": "2022-06-04T15:10:23.992Z"
   },
   {
    "duration": 10,
    "start_time": "2022-06-04T15:11:45.188Z"
   },
   {
    "duration": 21,
    "start_time": "2022-06-04T15:11:50.848Z"
   },
   {
    "duration": 17,
    "start_time": "2022-06-04T15:12:00.217Z"
   },
   {
    "duration": 18,
    "start_time": "2022-06-04T15:12:33.392Z"
   },
   {
    "duration": 24,
    "start_time": "2022-06-04T15:13:14.729Z"
   },
   {
    "duration": 23,
    "start_time": "2022-06-04T15:15:37.421Z"
   },
   {
    "duration": 51,
    "start_time": "2022-06-04T15:16:33.639Z"
   },
   {
    "duration": 125,
    "start_time": "2022-06-04T15:18:12.211Z"
   },
   {
    "duration": 110,
    "start_time": "2022-06-04T15:18:50.699Z"
   },
   {
    "duration": 118,
    "start_time": "2022-06-04T15:19:03.352Z"
   },
   {
    "duration": 411,
    "start_time": "2022-06-04T15:20:45.495Z"
   },
   {
    "duration": 16,
    "start_time": "2022-06-04T15:23:23.303Z"
   },
   {
    "duration": 27,
    "start_time": "2022-06-04T15:31:25.107Z"
   },
   {
    "duration": 26,
    "start_time": "2022-06-04T15:31:40.104Z"
   },
   {
    "duration": 23,
    "start_time": "2022-06-04T15:31:56.427Z"
   },
   {
    "duration": 37,
    "start_time": "2022-06-04T15:33:29.646Z"
   },
   {
    "duration": 26,
    "start_time": "2022-06-04T15:33:41.808Z"
   },
   {
    "duration": 14,
    "start_time": "2022-06-04T15:35:09.074Z"
   },
   {
    "duration": 23,
    "start_time": "2022-06-04T15:35:16.705Z"
   },
   {
    "duration": 23,
    "start_time": "2022-06-04T15:35:36.582Z"
   },
   {
    "duration": 33,
    "start_time": "2022-06-04T15:35:42.289Z"
   },
   {
    "duration": 28,
    "start_time": "2022-06-04T15:36:17.337Z"
   },
   {
    "duration": 37,
    "start_time": "2022-06-04T15:36:41.200Z"
   },
   {
    "duration": 26,
    "start_time": "2022-06-04T15:36:53.086Z"
   },
   {
    "duration": 26,
    "start_time": "2022-06-04T15:37:07.378Z"
   },
   {
    "duration": 33,
    "start_time": "2022-06-04T15:38:24.474Z"
   },
   {
    "duration": 15,
    "start_time": "2022-06-04T15:38:29.403Z"
   },
   {
    "duration": 114,
    "start_time": "2022-06-04T15:38:33.594Z"
   },
   {
    "duration": 24,
    "start_time": "2022-06-04T15:39:14.270Z"
   },
   {
    "duration": 28,
    "start_time": "2022-06-04T15:39:42.731Z"
   },
   {
    "duration": 28,
    "start_time": "2022-06-04T15:40:06.570Z"
   },
   {
    "duration": 1100,
    "start_time": "2022-06-04T15:40:17.511Z"
   },
   {
    "duration": 95,
    "start_time": "2022-06-04T15:40:18.613Z"
   },
   {
    "duration": 28,
    "start_time": "2022-06-04T15:40:18.709Z"
   },
   {
    "duration": 13,
    "start_time": "2022-06-04T15:40:18.738Z"
   },
   {
    "duration": 10,
    "start_time": "2022-06-04T15:40:18.753Z"
   },
   {
    "duration": 12,
    "start_time": "2022-06-04T15:40:18.765Z"
   },
   {
    "duration": 16,
    "start_time": "2022-06-04T15:40:18.779Z"
   },
   {
    "duration": 47,
    "start_time": "2022-06-04T15:40:18.796Z"
   },
   {
    "duration": 25,
    "start_time": "2022-06-04T15:40:18.844Z"
   },
   {
    "duration": 14,
    "start_time": "2022-06-04T15:40:18.871Z"
   },
   {
    "duration": 8,
    "start_time": "2022-06-04T15:40:18.887Z"
   },
   {
    "duration": 42,
    "start_time": "2022-06-04T15:40:18.896Z"
   },
   {
    "duration": 7,
    "start_time": "2022-06-04T15:40:18.940Z"
   },
   {
    "duration": 134,
    "start_time": "2022-06-04T15:40:18.951Z"
   },
   {
    "duration": 254,
    "start_time": "2022-06-04T15:40:19.086Z"
   },
   {
    "duration": 0,
    "start_time": "2022-06-04T15:40:19.342Z"
   },
   {
    "duration": 0,
    "start_time": "2022-06-04T15:40:19.343Z"
   },
   {
    "duration": 0,
    "start_time": "2022-06-04T15:40:19.345Z"
   },
   {
    "duration": 0,
    "start_time": "2022-06-04T15:40:19.346Z"
   },
   {
    "duration": 0,
    "start_time": "2022-06-04T15:40:19.347Z"
   },
   {
    "duration": 0,
    "start_time": "2022-06-04T15:40:19.348Z"
   },
   {
    "duration": 0,
    "start_time": "2022-06-04T15:40:19.349Z"
   },
   {
    "duration": 0,
    "start_time": "2022-06-04T15:40:19.350Z"
   },
   {
    "duration": 0,
    "start_time": "2022-06-04T15:40:19.351Z"
   },
   {
    "duration": 0,
    "start_time": "2022-06-04T15:40:19.352Z"
   },
   {
    "duration": 0,
    "start_time": "2022-06-04T15:40:19.353Z"
   },
   {
    "duration": 0,
    "start_time": "2022-06-04T15:40:19.354Z"
   },
   {
    "duration": 0,
    "start_time": "2022-06-04T15:40:19.355Z"
   },
   {
    "duration": 0,
    "start_time": "2022-06-04T15:40:19.356Z"
   },
   {
    "duration": 0,
    "start_time": "2022-06-04T15:40:19.357Z"
   },
   {
    "duration": 0,
    "start_time": "2022-06-04T15:40:19.358Z"
   },
   {
    "duration": 0,
    "start_time": "2022-06-04T15:40:19.360Z"
   },
   {
    "duration": 0,
    "start_time": "2022-06-04T15:40:19.361Z"
   },
   {
    "duration": 0,
    "start_time": "2022-06-04T15:40:19.362Z"
   },
   {
    "duration": 0,
    "start_time": "2022-06-04T15:40:19.363Z"
   },
   {
    "duration": 0,
    "start_time": "2022-06-04T15:40:19.364Z"
   },
   {
    "duration": 0,
    "start_time": "2022-06-04T15:40:19.365Z"
   },
   {
    "duration": 0,
    "start_time": "2022-06-04T15:40:19.366Z"
   },
   {
    "duration": 1119,
    "start_time": "2022-06-04T15:40:58.317Z"
   },
   {
    "duration": 101,
    "start_time": "2022-06-04T15:40:59.438Z"
   },
   {
    "duration": 31,
    "start_time": "2022-06-04T15:40:59.541Z"
   },
   {
    "duration": 14,
    "start_time": "2022-06-04T15:40:59.574Z"
   },
   {
    "duration": 15,
    "start_time": "2022-06-04T15:40:59.590Z"
   },
   {
    "duration": 21,
    "start_time": "2022-06-04T15:40:59.607Z"
   },
   {
    "duration": 18,
    "start_time": "2022-06-04T15:40:59.629Z"
   },
   {
    "duration": 25,
    "start_time": "2022-06-04T15:40:59.648Z"
   },
   {
    "duration": 48,
    "start_time": "2022-06-04T15:40:59.675Z"
   },
   {
    "duration": 17,
    "start_time": "2022-06-04T15:40:59.726Z"
   },
   {
    "duration": 5,
    "start_time": "2022-06-04T15:40:59.744Z"
   },
   {
    "duration": 21,
    "start_time": "2022-06-04T15:40:59.751Z"
   },
   {
    "duration": 8,
    "start_time": "2022-06-04T15:40:59.774Z"
   },
   {
    "duration": 149,
    "start_time": "2022-06-04T15:40:59.783Z"
   },
   {
    "duration": 179,
    "start_time": "2022-06-04T15:40:59.934Z"
   },
   {
    "duration": 32,
    "start_time": "2022-06-04T15:41:00.114Z"
   },
   {
    "duration": 17,
    "start_time": "2022-06-04T15:41:00.147Z"
   },
   {
    "duration": 222,
    "start_time": "2022-06-04T15:41:00.166Z"
   },
   {
    "duration": 5,
    "start_time": "2022-06-04T15:41:00.389Z"
   },
   {
    "duration": 15,
    "start_time": "2022-06-04T15:41:00.395Z"
   },
   {
    "duration": 154,
    "start_time": "2022-06-04T15:41:00.423Z"
   },
   {
    "duration": 5,
    "start_time": "2022-06-04T15:41:00.578Z"
   },
   {
    "duration": 17,
    "start_time": "2022-06-04T15:41:00.584Z"
   },
   {
    "duration": 159,
    "start_time": "2022-06-04T15:41:00.602Z"
   },
   {
    "duration": 4,
    "start_time": "2022-06-04T15:41:00.763Z"
   },
   {
    "duration": 39,
    "start_time": "2022-06-04T15:41:00.768Z"
   },
   {
    "duration": 15,
    "start_time": "2022-06-04T15:41:00.809Z"
   },
   {
    "duration": 13,
    "start_time": "2022-06-04T15:41:00.827Z"
   },
   {
    "duration": 125,
    "start_time": "2022-06-04T15:41:00.842Z"
   },
   {
    "duration": 480,
    "start_time": "2022-06-04T15:41:00.969Z"
   },
   {
    "duration": 4,
    "start_time": "2022-06-04T15:41:01.450Z"
   },
   {
    "duration": 16,
    "start_time": "2022-06-04T15:41:01.456Z"
   },
   {
    "duration": 32,
    "start_time": "2022-06-04T15:41:01.473Z"
   },
   {
    "duration": 23,
    "start_time": "2022-06-04T15:41:01.508Z"
   },
   {
    "duration": 27,
    "start_time": "2022-06-04T15:41:01.533Z"
   },
   {
    "duration": 131,
    "start_time": "2022-06-04T15:41:01.562Z"
   },
   {
    "duration": 39,
    "start_time": "2022-06-04T15:41:01.694Z"
   },
   {
    "duration": 20,
    "start_time": "2022-06-04T15:41:23.796Z"
   },
   {
    "duration": 24,
    "start_time": "2022-06-04T15:41:40.007Z"
   },
   {
    "duration": 14,
    "start_time": "2022-06-04T15:41:44.342Z"
   },
   {
    "duration": 100,
    "start_time": "2022-06-04T15:42:27.470Z"
   },
   {
    "duration": 100,
    "start_time": "2022-06-04T15:42:50.278Z"
   },
   {
    "duration": 101,
    "start_time": "2022-06-04T15:42:57.544Z"
   },
   {
    "duration": 199,
    "start_time": "2022-06-04T15:43:02.005Z"
   },
   {
    "duration": 110,
    "start_time": "2022-06-04T15:43:08.828Z"
   },
   {
    "duration": 22,
    "start_time": "2022-06-04T15:45:12.729Z"
   },
   {
    "duration": 11,
    "start_time": "2022-06-04T15:45:18.174Z"
   },
   {
    "duration": 13,
    "start_time": "2022-06-04T15:45:34.470Z"
   },
   {
    "duration": 12,
    "start_time": "2022-06-04T15:50:10.206Z"
   },
   {
    "duration": 18,
    "start_time": "2022-06-04T15:50:15.694Z"
   },
   {
    "duration": 64,
    "start_time": "2022-06-04T15:50:44.619Z"
   },
   {
    "duration": 20,
    "start_time": "2022-06-04T15:51:01.182Z"
   },
   {
    "duration": 12,
    "start_time": "2022-06-04T15:51:32.428Z"
   },
   {
    "duration": 98,
    "start_time": "2022-06-04T15:52:18.542Z"
   },
   {
    "duration": 92,
    "start_time": "2022-06-04T15:52:41.674Z"
   },
   {
    "duration": 91,
    "start_time": "2022-06-04T15:52:57.680Z"
   },
   {
    "duration": 101,
    "start_time": "2022-06-04T15:53:22.020Z"
   },
   {
    "duration": 109,
    "start_time": "2022-06-04T15:53:26.188Z"
   },
   {
    "duration": 108,
    "start_time": "2022-06-04T15:53:32.383Z"
   },
   {
    "duration": 93,
    "start_time": "2022-06-04T15:53:38.378Z"
   },
   {
    "duration": 97,
    "start_time": "2022-06-04T15:53:44.427Z"
   },
   {
    "duration": 5,
    "start_time": "2022-06-04T15:57:24.334Z"
   },
   {
    "duration": 4,
    "start_time": "2022-06-04T15:57:38.282Z"
   },
   {
    "duration": 6,
    "start_time": "2022-06-04T15:58:04.207Z"
   },
   {
    "duration": 5,
    "start_time": "2022-06-04T15:58:08.923Z"
   },
   {
    "duration": 14,
    "start_time": "2022-06-04T16:02:47.471Z"
   },
   {
    "duration": 99,
    "start_time": "2022-06-04T16:04:54.108Z"
   },
   {
    "duration": 4,
    "start_time": "2022-06-04T16:10:36.478Z"
   },
   {
    "duration": 4,
    "start_time": "2022-06-04T16:10:42.508Z"
   },
   {
    "duration": 131,
    "start_time": "2022-06-04T16:25:50.514Z"
   },
   {
    "duration": 11,
    "start_time": "2022-06-04T16:26:24.947Z"
   },
   {
    "duration": 9,
    "start_time": "2022-06-04T16:26:37.341Z"
   },
   {
    "duration": 121,
    "start_time": "2022-06-04T16:26:58.051Z"
   },
   {
    "duration": 9,
    "start_time": "2022-06-04T16:36:34.002Z"
   },
   {
    "duration": 1098,
    "start_time": "2022-06-04T16:36:44.012Z"
   },
   {
    "duration": 106,
    "start_time": "2022-06-04T16:36:45.112Z"
   },
   {
    "duration": 35,
    "start_time": "2022-06-04T16:36:45.220Z"
   },
   {
    "duration": 14,
    "start_time": "2022-06-04T16:36:45.256Z"
   },
   {
    "duration": 11,
    "start_time": "2022-06-04T16:36:45.272Z"
   },
   {
    "duration": 12,
    "start_time": "2022-06-04T16:36:45.285Z"
   },
   {
    "duration": 44,
    "start_time": "2022-06-04T16:36:45.299Z"
   },
   {
    "duration": 23,
    "start_time": "2022-06-04T16:36:45.345Z"
   },
   {
    "duration": 35,
    "start_time": "2022-06-04T16:36:45.369Z"
   },
   {
    "duration": 40,
    "start_time": "2022-06-04T16:36:45.406Z"
   },
   {
    "duration": 5,
    "start_time": "2022-06-04T16:36:45.448Z"
   },
   {
    "duration": 21,
    "start_time": "2022-06-04T16:36:45.454Z"
   },
   {
    "duration": 7,
    "start_time": "2022-06-04T16:36:45.477Z"
   },
   {
    "duration": 128,
    "start_time": "2022-06-04T16:36:45.488Z"
   },
   {
    "duration": 167,
    "start_time": "2022-06-04T16:36:45.618Z"
   },
   {
    "duration": 37,
    "start_time": "2022-06-04T16:36:45.787Z"
   },
   {
    "duration": 16,
    "start_time": "2022-06-04T16:36:45.837Z"
   },
   {
    "duration": 210,
    "start_time": "2022-06-04T16:36:45.855Z"
   },
   {
    "duration": 4,
    "start_time": "2022-06-04T16:36:46.067Z"
   },
   {
    "duration": 10,
    "start_time": "2022-06-04T16:36:46.073Z"
   },
   {
    "duration": 155,
    "start_time": "2022-06-04T16:36:46.085Z"
   },
   {
    "duration": 4,
    "start_time": "2022-06-04T16:36:46.242Z"
   },
   {
    "duration": 13,
    "start_time": "2022-06-04T16:36:46.247Z"
   },
   {
    "duration": 156,
    "start_time": "2022-06-04T16:36:46.261Z"
   },
   {
    "duration": 10,
    "start_time": "2022-06-04T16:36:46.419Z"
   },
   {
    "duration": 41,
    "start_time": "2022-06-04T16:36:46.435Z"
   },
   {
    "duration": 7,
    "start_time": "2022-06-04T16:36:46.477Z"
   },
   {
    "duration": 9,
    "start_time": "2022-06-04T16:36:46.486Z"
   },
   {
    "duration": 142,
    "start_time": "2022-06-04T16:36:46.496Z"
   },
   {
    "duration": 474,
    "start_time": "2022-06-04T16:36:46.640Z"
   },
   {
    "duration": 16,
    "start_time": "2022-06-04T16:36:47.115Z"
   },
   {
    "duration": 24,
    "start_time": "2022-06-04T16:36:47.132Z"
   },
   {
    "duration": 15,
    "start_time": "2022-06-04T16:36:47.157Z"
   },
   {
    "duration": 21,
    "start_time": "2022-06-04T16:36:47.174Z"
   },
   {
    "duration": 14,
    "start_time": "2022-06-04T16:36:47.196Z"
   },
   {
    "duration": 25,
    "start_time": "2022-06-04T16:36:47.211Z"
   },
   {
    "duration": 9,
    "start_time": "2022-06-04T16:36:47.238Z"
   },
   {
    "duration": 235,
    "start_time": "2022-06-04T16:36:47.249Z"
   },
   {
    "duration": 0,
    "start_time": "2022-06-04T16:36:47.486Z"
   },
   {
    "duration": 0,
    "start_time": "2022-06-04T16:36:47.487Z"
   },
   {
    "duration": 0,
    "start_time": "2022-06-04T16:36:47.488Z"
   },
   {
    "duration": 0,
    "start_time": "2022-06-04T16:36:47.489Z"
   },
   {
    "duration": 0,
    "start_time": "2022-06-04T16:36:47.490Z"
   },
   {
    "duration": 0,
    "start_time": "2022-06-04T16:36:47.491Z"
   },
   {
    "duration": 0,
    "start_time": "2022-06-04T16:36:47.493Z"
   },
   {
    "duration": 1,
    "start_time": "2022-06-04T16:36:47.493Z"
   },
   {
    "duration": 0,
    "start_time": "2022-06-04T16:36:47.494Z"
   },
   {
    "duration": 0,
    "start_time": "2022-06-04T16:36:47.495Z"
   },
   {
    "duration": 96,
    "start_time": "2022-06-04T16:37:04.607Z"
   },
   {
    "duration": 30,
    "start_time": "2022-06-04T16:37:07.599Z"
   },
   {
    "duration": 22,
    "start_time": "2022-06-04T16:37:25.726Z"
   },
   {
    "duration": 16,
    "start_time": "2022-06-04T16:37:57.422Z"
   },
   {
    "duration": 27,
    "start_time": "2022-06-04T16:40:58.245Z"
   },
   {
    "duration": 22,
    "start_time": "2022-06-04T16:41:02.094Z"
   },
   {
    "duration": 35,
    "start_time": "2022-06-04T16:41:23.537Z"
   },
   {
    "duration": 24,
    "start_time": "2022-06-04T16:41:33.306Z"
   },
   {
    "duration": 38,
    "start_time": "2022-06-04T16:41:48.909Z"
   },
   {
    "duration": 20,
    "start_time": "2022-06-04T16:41:56.310Z"
   },
   {
    "duration": 48,
    "start_time": "2022-06-04T16:42:04.028Z"
   },
   {
    "duration": 30,
    "start_time": "2022-06-04T16:42:14.506Z"
   },
   {
    "duration": 23,
    "start_time": "2022-06-04T16:47:36.119Z"
   },
   {
    "duration": 27,
    "start_time": "2022-06-04T16:47:51.955Z"
   },
   {
    "duration": 20,
    "start_time": "2022-06-04T16:51:33.845Z"
   },
   {
    "duration": 12,
    "start_time": "2022-06-04T16:51:55.509Z"
   },
   {
    "duration": 15,
    "start_time": "2022-06-04T16:52:08.798Z"
   },
   {
    "duration": 10,
    "start_time": "2022-06-04T16:52:21.310Z"
   },
   {
    "duration": 19,
    "start_time": "2022-06-04T16:52:31.641Z"
   },
   {
    "duration": 421,
    "start_time": "2022-06-04T16:52:39.294Z"
   },
   {
    "duration": 9,
    "start_time": "2022-06-04T16:52:45.586Z"
   },
   {
    "duration": 34,
    "start_time": "2022-06-04T16:53:14.524Z"
   },
   {
    "duration": 24,
    "start_time": "2022-06-04T16:53:31.922Z"
   },
   {
    "duration": 49,
    "start_time": "2022-06-04T16:53:50.060Z"
   },
   {
    "duration": 20,
    "start_time": "2022-06-04T16:54:01.331Z"
   },
   {
    "duration": 23,
    "start_time": "2022-06-04T16:54:10.412Z"
   },
   {
    "duration": 15,
    "start_time": "2022-06-04T16:54:18.508Z"
   },
   {
    "duration": 15,
    "start_time": "2022-06-04T16:54:24.503Z"
   },
   {
    "duration": 13,
    "start_time": "2022-06-04T16:54:29.870Z"
   },
   {
    "duration": 8,
    "start_time": "2022-06-04T16:58:17.698Z"
   },
   {
    "duration": 8,
    "start_time": "2022-06-04T16:58:23.062Z"
   },
   {
    "duration": 7,
    "start_time": "2022-06-04T16:58:55.314Z"
   },
   {
    "duration": 10,
    "start_time": "2022-06-04T16:59:14.964Z"
   },
   {
    "duration": 8,
    "start_time": "2022-06-04T16:59:37.244Z"
   },
   {
    "duration": 11,
    "start_time": "2022-06-04T16:59:52.329Z"
   },
   {
    "duration": 8,
    "start_time": "2022-06-04T16:59:54.006Z"
   },
   {
    "duration": 5,
    "start_time": "2022-06-04T16:59:54.532Z"
   },
   {
    "duration": 326,
    "start_time": "2022-06-04T17:00:02.794Z"
   },
   {
    "duration": 332,
    "start_time": "2022-06-04T17:00:28.014Z"
   },
   {
    "duration": 256,
    "start_time": "2022-06-04T17:00:31.411Z"
   },
   {
    "duration": 9,
    "start_time": "2022-06-04T17:01:00.906Z"
   },
   {
    "duration": 123,
    "start_time": "2022-06-04T17:01:05.853Z"
   },
   {
    "duration": 19,
    "start_time": "2022-06-04T17:01:42.953Z"
   },
   {
    "duration": 21,
    "start_time": "2022-06-04T17:01:46.361Z"
   },
   {
    "duration": 17,
    "start_time": "2022-06-04T17:01:47.319Z"
   },
   {
    "duration": 10,
    "start_time": "2022-06-04T17:01:52.112Z"
   },
   {
    "duration": 21,
    "start_time": "2022-06-04T17:01:52.557Z"
   },
   {
    "duration": 9,
    "start_time": "2022-06-04T17:02:12.429Z"
   },
   {
    "duration": 93,
    "start_time": "2022-06-04T17:02:17.595Z"
   },
   {
    "duration": 28,
    "start_time": "2022-06-04T17:02:38.041Z"
   },
   {
    "duration": 30,
    "start_time": "2022-06-04T17:04:07.506Z"
   },
   {
    "duration": 28,
    "start_time": "2022-06-04T17:04:13.604Z"
   },
   {
    "duration": 17,
    "start_time": "2022-06-04T17:05:32.619Z"
   },
   {
    "duration": 110,
    "start_time": "2022-06-04T17:05:40.408Z"
   },
   {
    "duration": 15,
    "start_time": "2022-06-04T17:05:47.498Z"
   },
   {
    "duration": 5,
    "start_time": "2022-06-04T17:06:06.443Z"
   },
   {
    "duration": 11,
    "start_time": "2022-06-04T17:08:05.628Z"
   },
   {
    "duration": 16,
    "start_time": "2022-06-04T17:08:28.511Z"
   },
   {
    "duration": 14,
    "start_time": "2022-06-04T17:09:00.649Z"
   },
   {
    "duration": 16,
    "start_time": "2022-06-04T17:10:14.106Z"
   },
   {
    "duration": 27,
    "start_time": "2022-06-04T17:11:27.809Z"
   },
   {
    "duration": 17,
    "start_time": "2022-06-04T17:11:35.226Z"
   },
   {
    "duration": 32,
    "start_time": "2022-06-04T17:11:40.911Z"
   },
   {
    "duration": 33,
    "start_time": "2022-06-04T17:11:56.516Z"
   },
   {
    "duration": 15,
    "start_time": "2022-06-04T17:12:36.503Z"
   },
   {
    "duration": 14,
    "start_time": "2022-06-04T17:12:44.403Z"
   },
   {
    "duration": 14,
    "start_time": "2022-06-04T17:13:41.357Z"
   },
   {
    "duration": 10,
    "start_time": "2022-06-04T17:13:49.426Z"
   },
   {
    "duration": 11,
    "start_time": "2022-06-04T17:13:56.511Z"
   },
   {
    "duration": 11,
    "start_time": "2022-06-04T17:14:22.065Z"
   },
   {
    "duration": 9,
    "start_time": "2022-06-04T17:14:53.271Z"
   },
   {
    "duration": 9,
    "start_time": "2022-06-04T17:15:19.811Z"
   },
   {
    "duration": 12,
    "start_time": "2022-06-04T17:15:30.362Z"
   },
   {
    "duration": 13,
    "start_time": "2022-06-04T17:15:38.670Z"
   },
   {
    "duration": 11,
    "start_time": "2022-06-04T17:15:50.211Z"
   },
   {
    "duration": 1048,
    "start_time": "2022-06-04T17:16:09.071Z"
   },
   {
    "duration": 96,
    "start_time": "2022-06-04T17:16:10.123Z"
   },
   {
    "duration": 29,
    "start_time": "2022-06-04T17:16:10.221Z"
   },
   {
    "duration": 15,
    "start_time": "2022-06-04T17:16:10.252Z"
   },
   {
    "duration": 29,
    "start_time": "2022-06-04T17:16:10.268Z"
   },
   {
    "duration": 17,
    "start_time": "2022-06-04T17:16:10.298Z"
   },
   {
    "duration": 32,
    "start_time": "2022-06-04T17:16:10.316Z"
   },
   {
    "duration": 23,
    "start_time": "2022-06-04T17:16:10.350Z"
   },
   {
    "duration": 26,
    "start_time": "2022-06-04T17:16:10.374Z"
   },
   {
    "duration": 28,
    "start_time": "2022-06-04T17:16:10.402Z"
   },
   {
    "duration": 18,
    "start_time": "2022-06-04T17:16:10.432Z"
   },
   {
    "duration": 25,
    "start_time": "2022-06-04T17:16:10.452Z"
   },
   {
    "duration": 8,
    "start_time": "2022-06-04T17:16:10.478Z"
   },
   {
    "duration": 117,
    "start_time": "2022-06-04T17:16:10.487Z"
   },
   {
    "duration": 170,
    "start_time": "2022-06-04T17:16:10.606Z"
   },
   {
    "duration": 29,
    "start_time": "2022-06-04T17:16:10.778Z"
   },
   {
    "duration": 31,
    "start_time": "2022-06-04T17:16:10.809Z"
   },
   {
    "duration": 201,
    "start_time": "2022-06-04T17:16:10.842Z"
   },
   {
    "duration": 4,
    "start_time": "2022-06-04T17:16:11.045Z"
   },
   {
    "duration": 14,
    "start_time": "2022-06-04T17:16:11.051Z"
   },
   {
    "duration": 141,
    "start_time": "2022-06-04T17:16:11.066Z"
   },
   {
    "duration": 4,
    "start_time": "2022-06-04T17:16:11.209Z"
   },
   {
    "duration": 25,
    "start_time": "2022-06-04T17:16:11.214Z"
   },
   {
    "duration": 139,
    "start_time": "2022-06-04T17:16:11.240Z"
   },
   {
    "duration": 4,
    "start_time": "2022-06-04T17:16:11.381Z"
   },
   {
    "duration": 47,
    "start_time": "2022-06-04T17:16:11.386Z"
   },
   {
    "duration": 9,
    "start_time": "2022-06-04T17:16:11.435Z"
   },
   {
    "duration": 15,
    "start_time": "2022-06-04T17:16:11.447Z"
   },
   {
    "duration": 124,
    "start_time": "2022-06-04T17:16:11.464Z"
   },
   {
    "duration": 479,
    "start_time": "2022-06-04T17:16:11.590Z"
   },
   {
    "duration": 4,
    "start_time": "2022-06-04T17:16:12.070Z"
   },
   {
    "duration": 15,
    "start_time": "2022-06-04T17:16:12.076Z"
   },
   {
    "duration": 12,
    "start_time": "2022-06-04T17:16:12.093Z"
   },
   {
    "duration": 32,
    "start_time": "2022-06-04T17:16:12.107Z"
   },
   {
    "duration": 14,
    "start_time": "2022-06-04T17:16:12.141Z"
   },
   {
    "duration": 10,
    "start_time": "2022-06-04T17:16:12.156Z"
   },
   {
    "duration": 119,
    "start_time": "2022-06-04T17:16:12.167Z"
   },
   {
    "duration": 0,
    "start_time": "2022-06-04T17:16:12.287Z"
   },
   {
    "duration": 0,
    "start_time": "2022-06-04T17:16:12.288Z"
   },
   {
    "duration": 0,
    "start_time": "2022-06-04T17:16:12.289Z"
   },
   {
    "duration": 0,
    "start_time": "2022-06-04T17:16:12.290Z"
   },
   {
    "duration": 0,
    "start_time": "2022-06-04T17:16:12.291Z"
   },
   {
    "duration": 0,
    "start_time": "2022-06-04T17:16:12.292Z"
   },
   {
    "duration": 0,
    "start_time": "2022-06-04T17:16:12.293Z"
   },
   {
    "duration": 0,
    "start_time": "2022-06-04T17:16:12.294Z"
   },
   {
    "duration": 0,
    "start_time": "2022-06-04T17:16:12.295Z"
   },
   {
    "duration": 0,
    "start_time": "2022-06-04T17:16:12.296Z"
   },
   {
    "duration": 0,
    "start_time": "2022-06-04T17:16:12.297Z"
   },
   {
    "duration": 0,
    "start_time": "2022-06-04T17:16:12.298Z"
   },
   {
    "duration": 18,
    "start_time": "2022-06-04T17:17:42.603Z"
   },
   {
    "duration": 13,
    "start_time": "2022-06-04T17:17:47.560Z"
   },
   {
    "duration": 10,
    "start_time": "2022-06-04T17:17:55.026Z"
   },
   {
    "duration": 10,
    "start_time": "2022-06-04T17:19:48.916Z"
   },
   {
    "duration": 13,
    "start_time": "2022-06-04T17:19:53.918Z"
   },
   {
    "duration": 9,
    "start_time": "2022-06-04T17:20:02.057Z"
   },
   {
    "duration": 9,
    "start_time": "2022-06-04T17:20:10.311Z"
   },
   {
    "duration": 13,
    "start_time": "2022-06-04T17:20:38.124Z"
   },
   {
    "duration": 13,
    "start_time": "2022-06-04T17:20:43.544Z"
   },
   {
    "duration": 340,
    "start_time": "2022-06-04T17:20:54.214Z"
   },
   {
    "duration": 22,
    "start_time": "2022-06-04T17:21:40.998Z"
   },
   {
    "duration": 15,
    "start_time": "2022-06-04T17:21:45.607Z"
   },
   {
    "duration": 10,
    "start_time": "2022-06-04T17:22:04.109Z"
   },
   {
    "duration": 9,
    "start_time": "2022-06-04T17:22:07.360Z"
   },
   {
    "duration": 22,
    "start_time": "2022-06-04T17:22:15.014Z"
   },
   {
    "duration": 20,
    "start_time": "2022-06-04T17:22:36.355Z"
   },
   {
    "duration": 14,
    "start_time": "2022-06-04T17:22:38.404Z"
   },
   {
    "duration": 10,
    "start_time": "2022-06-04T17:22:46.035Z"
   },
   {
    "duration": 8,
    "start_time": "2022-06-04T17:22:48.007Z"
   },
   {
    "duration": 98,
    "start_time": "2022-06-04T17:22:49.702Z"
   },
   {
    "duration": 21,
    "start_time": "2022-06-04T17:26:12.112Z"
   },
   {
    "duration": 202,
    "start_time": "2022-06-04T17:26:38.761Z"
   },
   {
    "duration": 23,
    "start_time": "2022-06-04T17:27:33.731Z"
   },
   {
    "duration": 25,
    "start_time": "2022-06-04T17:27:42.715Z"
   },
   {
    "duration": 19,
    "start_time": "2022-06-04T17:27:52.561Z"
   },
   {
    "duration": 367,
    "start_time": "2022-06-04T17:28:09.412Z"
   },
   {
    "duration": 10,
    "start_time": "2022-06-04T17:28:16.504Z"
   },
   {
    "duration": 346,
    "start_time": "2022-06-04T17:28:20.399Z"
   },
   {
    "duration": 10,
    "start_time": "2022-06-04T17:28:24.403Z"
   },
   {
    "duration": 113,
    "start_time": "2022-06-04T17:28:35.841Z"
   },
   {
    "duration": 119,
    "start_time": "2022-06-04T17:28:41.507Z"
   },
   {
    "duration": 117,
    "start_time": "2022-06-04T17:28:54.443Z"
   },
   {
    "duration": 212,
    "start_time": "2022-06-04T17:30:57.061Z"
   },
   {
    "duration": 120,
    "start_time": "2022-06-04T17:31:04.047Z"
   },
   {
    "duration": 112,
    "start_time": "2022-06-04T17:31:09.727Z"
   },
   {
    "duration": 17,
    "start_time": "2022-06-04T17:31:18.599Z"
   },
   {
    "duration": 21,
    "start_time": "2022-06-04T17:31:30.024Z"
   },
   {
    "duration": 13,
    "start_time": "2022-06-04T17:31:42.532Z"
   },
   {
    "duration": 42,
    "start_time": "2022-06-04T17:35:09.598Z"
   },
   {
    "duration": 13,
    "start_time": "2022-06-04T17:35:13.630Z"
   },
   {
    "duration": 9,
    "start_time": "2022-06-04T17:35:26.564Z"
   },
   {
    "duration": 3,
    "start_time": "2022-06-04T17:35:31.857Z"
   },
   {
    "duration": 13,
    "start_time": "2022-06-04T17:35:34.319Z"
   },
   {
    "duration": 110,
    "start_time": "2022-06-04T17:35:45.361Z"
   },
   {
    "duration": 110,
    "start_time": "2022-06-04T17:35:53.937Z"
   },
   {
    "duration": 8,
    "start_time": "2022-06-04T17:36:00.996Z"
   },
   {
    "duration": 14,
    "start_time": "2022-06-04T17:36:44.416Z"
   },
   {
    "duration": 94,
    "start_time": "2022-06-04T17:37:16.603Z"
   },
   {
    "duration": 6,
    "start_time": "2022-06-04T17:40:56.498Z"
   },
   {
    "duration": 19,
    "start_time": "2022-06-04T17:41:24.591Z"
   },
   {
    "duration": 3,
    "start_time": "2022-06-04T17:41:34.211Z"
   },
   {
    "duration": 15,
    "start_time": "2022-06-04T17:41:35.406Z"
   },
   {
    "duration": 304,
    "start_time": "2022-06-04T17:41:38.023Z"
   },
   {
    "duration": 10,
    "start_time": "2022-06-04T17:41:46.262Z"
   },
   {
    "duration": 7,
    "start_time": "2022-06-04T17:41:48.822Z"
   },
   {
    "duration": 104,
    "start_time": "2022-06-04T17:42:46.611Z"
   },
   {
    "duration": 105,
    "start_time": "2022-06-04T17:42:53.924Z"
   },
   {
    "duration": 7,
    "start_time": "2022-06-04T17:43:07.595Z"
   },
   {
    "duration": 14,
    "start_time": "2022-06-04T17:43:08.223Z"
   },
   {
    "duration": 27,
    "start_time": "2022-06-04T17:44:33.940Z"
   },
   {
    "duration": 12,
    "start_time": "2022-06-04T17:44:35.722Z"
   },
   {
    "duration": 104,
    "start_time": "2022-06-04T17:44:37.920Z"
   },
   {
    "duration": 25,
    "start_time": "2022-06-04T17:45:51.315Z"
   },
   {
    "duration": 1104,
    "start_time": "2022-06-04T17:46:10.339Z"
   },
   {
    "duration": 98,
    "start_time": "2022-06-04T17:46:11.445Z"
   },
   {
    "duration": 37,
    "start_time": "2022-06-04T17:46:11.545Z"
   },
   {
    "duration": 15,
    "start_time": "2022-06-04T17:46:11.584Z"
   },
   {
    "duration": 11,
    "start_time": "2022-06-04T17:46:11.601Z"
   },
   {
    "duration": 20,
    "start_time": "2022-06-04T17:46:11.614Z"
   },
   {
    "duration": 17,
    "start_time": "2022-06-04T17:46:11.636Z"
   },
   {
    "duration": 22,
    "start_time": "2022-06-04T17:46:11.655Z"
   },
   {
    "duration": 45,
    "start_time": "2022-06-04T17:46:11.678Z"
   },
   {
    "duration": 16,
    "start_time": "2022-06-04T17:46:11.726Z"
   },
   {
    "duration": 5,
    "start_time": "2022-06-04T17:46:11.743Z"
   },
   {
    "duration": 27,
    "start_time": "2022-06-04T17:46:11.750Z"
   },
   {
    "duration": 8,
    "start_time": "2022-06-04T17:46:11.779Z"
   },
   {
    "duration": 157,
    "start_time": "2022-06-04T17:46:11.789Z"
   },
   {
    "duration": 190,
    "start_time": "2022-06-04T17:46:11.948Z"
   },
   {
    "duration": 28,
    "start_time": "2022-06-04T17:46:12.140Z"
   },
   {
    "duration": 17,
    "start_time": "2022-06-04T17:46:12.170Z"
   },
   {
    "duration": 236,
    "start_time": "2022-06-04T17:46:12.189Z"
   },
   {
    "duration": 5,
    "start_time": "2022-06-04T17:46:12.427Z"
   },
   {
    "duration": 13,
    "start_time": "2022-06-04T17:46:12.433Z"
   },
   {
    "duration": 184,
    "start_time": "2022-06-04T17:46:12.448Z"
   },
   {
    "duration": 5,
    "start_time": "2022-06-04T17:46:12.634Z"
   },
   {
    "duration": 18,
    "start_time": "2022-06-04T17:46:12.641Z"
   },
   {
    "duration": 168,
    "start_time": "2022-06-04T17:46:12.661Z"
   },
   {
    "duration": 4,
    "start_time": "2022-06-04T17:46:12.831Z"
   },
   {
    "duration": 33,
    "start_time": "2022-06-04T17:46:12.837Z"
   },
   {
    "duration": 8,
    "start_time": "2022-06-04T17:46:12.872Z"
   },
   {
    "duration": 7,
    "start_time": "2022-06-04T17:46:12.884Z"
   },
   {
    "duration": 121,
    "start_time": "2022-06-04T17:46:12.923Z"
   },
   {
    "duration": 452,
    "start_time": "2022-06-04T17:46:13.045Z"
   },
   {
    "duration": 4,
    "start_time": "2022-06-04T17:46:13.498Z"
   },
   {
    "duration": 19,
    "start_time": "2022-06-04T17:46:13.504Z"
   },
   {
    "duration": 12,
    "start_time": "2022-06-04T17:46:13.525Z"
   },
   {
    "duration": 20,
    "start_time": "2022-06-04T17:46:13.539Z"
   },
   {
    "duration": 3,
    "start_time": "2022-06-04T17:46:13.561Z"
   },
   {
    "duration": 15,
    "start_time": "2022-06-04T17:46:13.566Z"
   },
   {
    "duration": 8,
    "start_time": "2022-06-04T17:46:13.583Z"
   },
   {
    "duration": 222,
    "start_time": "2022-06-04T17:46:13.623Z"
   },
   {
    "duration": 5,
    "start_time": "2022-06-04T17:46:13.846Z"
   },
   {
    "duration": 16,
    "start_time": "2022-06-04T17:46:13.853Z"
   },
   {
    "duration": 91,
    "start_time": "2022-06-04T17:46:13.870Z"
   },
   {
    "duration": 70,
    "start_time": "2022-06-04T17:46:13.963Z"
   },
   {
    "duration": 227,
    "start_time": "2022-06-04T17:46:14.035Z"
   },
   {
    "duration": 60,
    "start_time": "2022-06-04T17:46:14.264Z"
   },
   {
    "duration": 21,
    "start_time": "2022-06-04T17:46:14.326Z"
   },
   {
    "duration": 10,
    "start_time": "2022-06-04T17:46:14.348Z"
   },
   {
    "duration": 201,
    "start_time": "2022-06-04T17:46:14.359Z"
   },
   {
    "duration": 13,
    "start_time": "2022-06-04T17:48:29.110Z"
   },
   {
    "duration": 114,
    "start_time": "2022-06-04T17:48:30.518Z"
   },
   {
    "duration": 12,
    "start_time": "2022-06-04T17:49:18.748Z"
   },
   {
    "duration": 21,
    "start_time": "2022-06-04T17:50:38.740Z"
   },
   {
    "duration": 14,
    "start_time": "2022-06-04T17:50:59.519Z"
   },
   {
    "duration": 8,
    "start_time": "2022-06-04T17:52:39.341Z"
   },
   {
    "duration": 223,
    "start_time": "2022-06-04T17:52:40.019Z"
   },
   {
    "duration": 110,
    "start_time": "2022-06-04T17:52:50.050Z"
   },
   {
    "duration": 127,
    "start_time": "2022-06-04T17:52:57.519Z"
   },
   {
    "duration": 130,
    "start_time": "2022-06-04T17:53:00.949Z"
   },
   {
    "duration": 27,
    "start_time": "2022-06-04T17:54:52.225Z"
   },
   {
    "duration": 12,
    "start_time": "2022-06-04T17:54:57.742Z"
   },
   {
    "duration": 13,
    "start_time": "2022-06-04T17:55:04.323Z"
   },
   {
    "duration": 9,
    "start_time": "2022-06-04T17:55:33.047Z"
   },
   {
    "duration": 141,
    "start_time": "2022-06-04T17:55:49.414Z"
   },
   {
    "duration": 7,
    "start_time": "2022-06-04T17:56:55.617Z"
   },
   {
    "duration": 5,
    "start_time": "2022-06-04T17:57:05.691Z"
   },
   {
    "duration": 28,
    "start_time": "2022-06-04T17:57:17.015Z"
   },
   {
    "duration": 45,
    "start_time": "2022-06-04T18:02:37.418Z"
   },
   {
    "duration": 18,
    "start_time": "2022-06-04T18:02:39.744Z"
   },
   {
    "duration": 10,
    "start_time": "2022-06-04T18:04:30.440Z"
   },
   {
    "duration": 106,
    "start_time": "2022-06-04T18:05:13.702Z"
   },
   {
    "duration": 108,
    "start_time": "2022-06-04T18:05:25.140Z"
   },
   {
    "duration": 8,
    "start_time": "2022-06-04T18:06:28.294Z"
   },
   {
    "duration": 15,
    "start_time": "2022-06-04T18:06:40.966Z"
   },
   {
    "duration": 7,
    "start_time": "2022-06-04T18:21:53.615Z"
   },
   {
    "duration": 6,
    "start_time": "2022-06-04T18:22:01.111Z"
   },
   {
    "duration": 228,
    "start_time": "2022-06-04T18:26:34.716Z"
   },
   {
    "duration": 55,
    "start_time": "2022-06-04T18:40:48.021Z"
   },
   {
    "duration": 160,
    "start_time": "2022-06-04T18:42:16.590Z"
   },
   {
    "duration": 134,
    "start_time": "2022-06-04T18:42:23.652Z"
   },
   {
    "duration": 132,
    "start_time": "2022-06-04T18:42:29.113Z"
   },
   {
    "duration": 1071,
    "start_time": "2022-06-04T18:47:46.402Z"
   },
   {
    "duration": 104,
    "start_time": "2022-06-04T18:47:47.475Z"
   },
   {
    "duration": 28,
    "start_time": "2022-06-04T18:47:47.580Z"
   },
   {
    "duration": 13,
    "start_time": "2022-06-04T18:47:47.610Z"
   },
   {
    "duration": 33,
    "start_time": "2022-06-04T18:47:47.627Z"
   },
   {
    "duration": 12,
    "start_time": "2022-06-04T18:47:47.662Z"
   },
   {
    "duration": 16,
    "start_time": "2022-06-04T18:47:47.675Z"
   },
   {
    "duration": 21,
    "start_time": "2022-06-04T18:47:47.693Z"
   },
   {
    "duration": 42,
    "start_time": "2022-06-04T18:47:47.715Z"
   },
   {
    "duration": 16,
    "start_time": "2022-06-04T18:47:47.760Z"
   },
   {
    "duration": 5,
    "start_time": "2022-06-04T18:47:47.777Z"
   },
   {
    "duration": 21,
    "start_time": "2022-06-04T18:47:47.783Z"
   },
   {
    "duration": 34,
    "start_time": "2022-06-04T18:47:47.806Z"
   },
   {
    "duration": 133,
    "start_time": "2022-06-04T18:47:47.841Z"
   },
   {
    "duration": 180,
    "start_time": "2022-06-04T18:47:47.976Z"
   },
   {
    "duration": 31,
    "start_time": "2022-06-04T18:47:48.158Z"
   },
   {
    "duration": 14,
    "start_time": "2022-06-04T18:47:48.191Z"
   },
   {
    "duration": 212,
    "start_time": "2022-06-04T18:47:48.226Z"
   },
   {
    "duration": 7,
    "start_time": "2022-06-04T18:47:48.443Z"
   },
   {
    "duration": 12,
    "start_time": "2022-06-04T18:47:48.454Z"
   },
   {
    "duration": 146,
    "start_time": "2022-06-04T18:47:48.468Z"
   },
   {
    "duration": 10,
    "start_time": "2022-06-04T18:47:48.616Z"
   },
   {
    "duration": 136,
    "start_time": "2022-06-04T18:47:48.627Z"
   },
   {
    "duration": 139,
    "start_time": "2022-06-04T18:47:48.764Z"
   },
   {
    "duration": 4,
    "start_time": "2022-06-04T18:47:48.905Z"
   },
   {
    "duration": 83,
    "start_time": "2022-06-04T18:47:48.911Z"
   },
   {
    "duration": 7,
    "start_time": "2022-06-04T18:47:48.995Z"
   },
   {
    "duration": 10,
    "start_time": "2022-06-04T18:47:49.005Z"
   },
   {
    "duration": 160,
    "start_time": "2022-06-04T18:47:49.017Z"
   },
   {
    "duration": 3,
    "start_time": "2022-06-04T18:47:49.179Z"
   },
   {
    "duration": 13,
    "start_time": "2022-06-04T18:47:49.184Z"
   },
   {
    "duration": 19,
    "start_time": "2022-06-04T18:47:49.198Z"
   },
   {
    "duration": 38,
    "start_time": "2022-06-04T18:47:49.219Z"
   },
   {
    "duration": 11,
    "start_time": "2022-06-04T18:47:49.260Z"
   },
   {
    "duration": 11,
    "start_time": "2022-06-04T18:47:49.273Z"
   },
   {
    "duration": 8,
    "start_time": "2022-06-04T18:47:49.286Z"
   },
   {
    "duration": 123,
    "start_time": "2022-06-04T18:47:49.296Z"
   },
   {
    "duration": 18,
    "start_time": "2022-06-04T18:47:49.421Z"
   },
   {
    "duration": 23,
    "start_time": "2022-06-04T18:47:49.445Z"
   },
   {
    "duration": 111,
    "start_time": "2022-06-04T18:47:49.470Z"
   },
   {
    "duration": 19,
    "start_time": "2022-06-04T18:47:49.582Z"
   },
   {
    "duration": 7,
    "start_time": "2022-06-04T18:47:49.602Z"
   },
   {
    "duration": 10,
    "start_time": "2022-06-04T18:47:49.633Z"
   },
   {
    "duration": 158,
    "start_time": "2022-06-04T18:47:49.645Z"
   },
   {
    "duration": 6,
    "start_time": "2022-06-04T18:47:49.804Z"
   },
   {
    "duration": 59,
    "start_time": "2022-06-04T18:47:49.811Z"
   },
   {
    "duration": 165,
    "start_time": "2022-06-04T18:47:49.871Z"
   },
   {
    "duration": 13,
    "start_time": "2022-06-04T18:47:50.045Z"
   },
   {
    "duration": 26,
    "start_time": "2022-06-04T18:47:50.060Z"
   },
   {
    "duration": 10,
    "start_time": "2022-06-04T18:47:50.087Z"
   },
   {
    "duration": 14,
    "start_time": "2022-06-04T18:47:50.099Z"
   },
   {
    "duration": 144,
    "start_time": "2022-06-04T18:47:50.115Z"
   },
   {
    "duration": 6,
    "start_time": "2022-06-04T18:47:50.261Z"
   },
   {
    "duration": 17,
    "start_time": "2022-06-04T18:47:50.269Z"
   },
   {
    "duration": 70,
    "start_time": "2022-06-05T05:23:47.238Z"
   },
   {
    "duration": 1290,
    "start_time": "2022-06-05T05:24:00.703Z"
   },
   {
    "duration": 216,
    "start_time": "2022-06-05T05:24:01.996Z"
   },
   {
    "duration": 29,
    "start_time": "2022-06-05T05:24:02.214Z"
   },
   {
    "duration": 14,
    "start_time": "2022-06-05T05:24:02.245Z"
   },
   {
    "duration": 23,
    "start_time": "2022-06-05T05:24:02.261Z"
   },
   {
    "duration": 12,
    "start_time": "2022-06-05T05:24:02.286Z"
   },
   {
    "duration": 17,
    "start_time": "2022-06-05T05:24:02.300Z"
   },
   {
    "duration": 22,
    "start_time": "2022-06-05T05:24:02.319Z"
   },
   {
    "duration": 33,
    "start_time": "2022-06-05T05:24:02.358Z"
   },
   {
    "duration": 15,
    "start_time": "2022-06-05T05:24:02.394Z"
   },
   {
    "duration": 5,
    "start_time": "2022-06-05T05:24:02.410Z"
   },
   {
    "duration": 43,
    "start_time": "2022-06-05T05:24:02.416Z"
   },
   {
    "duration": 12,
    "start_time": "2022-06-05T05:24:02.462Z"
   },
   {
    "duration": 138,
    "start_time": "2022-06-05T05:24:02.475Z"
   },
   {
    "duration": 175,
    "start_time": "2022-06-05T05:24:02.614Z"
   },
   {
    "duration": 25,
    "start_time": "2022-06-05T05:24:02.790Z"
   },
   {
    "duration": 37,
    "start_time": "2022-06-05T05:24:02.817Z"
   },
   {
    "duration": 240,
    "start_time": "2022-06-05T05:24:02.856Z"
   },
   {
    "duration": 4,
    "start_time": "2022-06-05T05:24:03.097Z"
   },
   {
    "duration": 19,
    "start_time": "2022-06-05T05:24:03.102Z"
   },
   {
    "duration": 149,
    "start_time": "2022-06-05T05:24:03.123Z"
   },
   {
    "duration": 4,
    "start_time": "2022-06-05T05:24:03.274Z"
   },
   {
    "duration": 15,
    "start_time": "2022-06-05T05:24:03.279Z"
   },
   {
    "duration": 153,
    "start_time": "2022-06-05T05:24:03.296Z"
   },
   {
    "duration": 11,
    "start_time": "2022-06-05T05:24:03.451Z"
   },
   {
    "duration": 42,
    "start_time": "2022-06-05T05:24:03.464Z"
   },
   {
    "duration": 7,
    "start_time": "2022-06-05T05:24:03.508Z"
   },
   {
    "duration": 10,
    "start_time": "2022-06-05T05:24:03.519Z"
   },
   {
    "duration": 146,
    "start_time": "2022-06-05T05:24:03.531Z"
   },
   {
    "duration": 4,
    "start_time": "2022-06-05T05:24:03.679Z"
   },
   {
    "duration": 16,
    "start_time": "2022-06-05T05:24:03.684Z"
   },
   {
    "duration": 14,
    "start_time": "2022-06-05T05:24:03.701Z"
   },
   {
    "duration": 20,
    "start_time": "2022-06-05T05:24:03.716Z"
   },
   {
    "duration": 26,
    "start_time": "2022-06-05T05:24:03.737Z"
   },
   {
    "duration": 20,
    "start_time": "2022-06-05T05:24:03.766Z"
   },
   {
    "duration": 10,
    "start_time": "2022-06-05T05:24:03.787Z"
   },
   {
    "duration": 108,
    "start_time": "2022-06-05T05:24:03.799Z"
   },
   {
    "duration": 5,
    "start_time": "2022-06-05T05:24:03.908Z"
   },
   {
    "duration": 21,
    "start_time": "2022-06-05T05:24:03.915Z"
   },
   {
    "duration": 114,
    "start_time": "2022-06-05T05:24:03.938Z"
   },
   {
    "duration": 25,
    "start_time": "2022-06-05T05:24:04.053Z"
   },
   {
    "duration": 7,
    "start_time": "2022-06-05T05:24:04.080Z"
   },
   {
    "duration": 9,
    "start_time": "2022-06-05T05:24:04.088Z"
   },
   {
    "duration": 138,
    "start_time": "2022-06-05T05:24:04.099Z"
   },
   {
    "duration": 5,
    "start_time": "2022-06-05T05:24:04.238Z"
   },
   {
    "duration": 31,
    "start_time": "2022-06-05T05:24:04.244Z"
   },
   {
    "duration": 135,
    "start_time": "2022-06-05T05:24:04.277Z"
   },
   {
    "duration": 21,
    "start_time": "2022-06-05T05:24:04.413Z"
   },
   {
    "duration": 24,
    "start_time": "2022-06-05T05:24:04.436Z"
   },
   {
    "duration": 9,
    "start_time": "2022-06-05T05:24:04.463Z"
   },
   {
    "duration": 133,
    "start_time": "2022-06-05T05:24:04.474Z"
   },
   {
    "duration": 5,
    "start_time": "2022-06-05T05:24:04.608Z"
   },
   {
    "duration": 15,
    "start_time": "2022-06-05T05:24:04.615Z"
   },
   {
    "duration": 132,
    "start_time": "2022-06-05T05:24:04.632Z"
   },
   {
    "duration": 121,
    "start_time": "2022-06-05T05:24:25.206Z"
   },
   {
    "duration": 9,
    "start_time": "2022-06-05T05:29:51.690Z"
   },
   {
    "duration": 9,
    "start_time": "2022-06-05T05:30:36.887Z"
   },
   {
    "duration": 11,
    "start_time": "2022-06-05T05:31:29.912Z"
   },
   {
    "duration": 10,
    "start_time": "2022-06-05T05:32:25.994Z"
   },
   {
    "duration": 9,
    "start_time": "2022-06-05T05:36:44.235Z"
   },
   {
    "duration": 11,
    "start_time": "2022-06-05T05:37:12.708Z"
   },
   {
    "duration": 11,
    "start_time": "2022-06-05T05:37:28.771Z"
   },
   {
    "duration": 11,
    "start_time": "2022-06-05T05:43:02.147Z"
   },
   {
    "duration": 209,
    "start_time": "2022-06-05T05:44:05.395Z"
   },
   {
    "duration": 122,
    "start_time": "2022-06-05T05:44:08.432Z"
   },
   {
    "duration": 120,
    "start_time": "2022-06-05T05:44:18.733Z"
   },
   {
    "duration": 113,
    "start_time": "2022-06-05T05:44:29.901Z"
   },
   {
    "duration": 11,
    "start_time": "2022-06-05T05:46:03.552Z"
   },
   {
    "duration": 12,
    "start_time": "2022-06-05T05:46:18.915Z"
   },
   {
    "duration": 9,
    "start_time": "2022-06-05T05:47:28.126Z"
   },
   {
    "duration": 9,
    "start_time": "2022-06-05T05:52:45.098Z"
   },
   {
    "duration": 12,
    "start_time": "2022-06-05T05:52:52.035Z"
   },
   {
    "duration": 10,
    "start_time": "2022-06-05T05:52:55.852Z"
   },
   {
    "duration": 9,
    "start_time": "2022-06-05T05:53:39.636Z"
   },
   {
    "duration": 10,
    "start_time": "2022-06-05T05:53:42.928Z"
   },
   {
    "duration": 7,
    "start_time": "2022-06-05T05:54:35.729Z"
   },
   {
    "duration": 11,
    "start_time": "2022-06-05T05:55:33.573Z"
   },
   {
    "duration": 7,
    "start_time": "2022-06-05T05:56:10.591Z"
   },
   {
    "duration": 28,
    "start_time": "2022-06-05T05:56:41.078Z"
   },
   {
    "duration": 6,
    "start_time": "2022-06-05T05:57:55.682Z"
   },
   {
    "duration": 6,
    "start_time": "2022-06-05T05:58:54.472Z"
   },
   {
    "duration": 567,
    "start_time": "2022-06-05T05:59:13.219Z"
   },
   {
    "duration": 9,
    "start_time": "2022-06-05T05:59:33.134Z"
   },
   {
    "duration": 426,
    "start_time": "2022-06-05T05:59:59.034Z"
   },
   {
    "duration": 6,
    "start_time": "2022-06-05T06:00:14.443Z"
   },
   {
    "duration": 10,
    "start_time": "2022-06-05T06:00:22.908Z"
   },
   {
    "duration": 362,
    "start_time": "2022-06-05T06:00:33.484Z"
   },
   {
    "duration": 21,
    "start_time": "2022-06-05T06:00:43.787Z"
   },
   {
    "duration": 10,
    "start_time": "2022-06-05T06:00:57.321Z"
   },
   {
    "duration": 12,
    "start_time": "2022-06-05T06:01:01.576Z"
   },
   {
    "duration": 5,
    "start_time": "2022-06-05T06:01:14.576Z"
   },
   {
    "duration": 20,
    "start_time": "2022-06-05T06:01:47.676Z"
   },
   {
    "duration": 1089,
    "start_time": "2022-06-05T06:02:03.873Z"
   },
   {
    "duration": 112,
    "start_time": "2022-06-05T06:02:04.965Z"
   },
   {
    "duration": 29,
    "start_time": "2022-06-05T06:02:05.078Z"
   },
   {
    "duration": 14,
    "start_time": "2022-06-05T06:02:05.109Z"
   },
   {
    "duration": 11,
    "start_time": "2022-06-05T06:02:05.125Z"
   },
   {
    "duration": 48,
    "start_time": "2022-06-05T06:02:05.138Z"
   },
   {
    "duration": 25,
    "start_time": "2022-06-05T06:02:05.188Z"
   },
   {
    "duration": 22,
    "start_time": "2022-06-05T06:02:05.215Z"
   },
   {
    "duration": 30,
    "start_time": "2022-06-05T06:02:05.239Z"
   },
   {
    "duration": 18,
    "start_time": "2022-06-05T06:02:05.271Z"
   },
   {
    "duration": 5,
    "start_time": "2022-06-05T06:02:05.291Z"
   },
   {
    "duration": 20,
    "start_time": "2022-06-05T06:02:05.297Z"
   },
   {
    "duration": 8,
    "start_time": "2022-06-05T06:02:05.318Z"
   },
   {
    "duration": 145,
    "start_time": "2022-06-05T06:02:05.359Z"
   },
   {
    "duration": 171,
    "start_time": "2022-06-05T06:02:05.505Z"
   },
   {
    "duration": 27,
    "start_time": "2022-06-05T06:02:05.678Z"
   },
   {
    "duration": 17,
    "start_time": "2022-06-05T06:02:05.707Z"
   },
   {
    "duration": 237,
    "start_time": "2022-06-05T06:02:05.726Z"
   },
   {
    "duration": 6,
    "start_time": "2022-06-05T06:02:05.965Z"
   },
   {
    "duration": 16,
    "start_time": "2022-06-05T06:02:05.973Z"
   },
   {
    "duration": 162,
    "start_time": "2022-06-05T06:02:05.992Z"
   },
   {
    "duration": 8,
    "start_time": "2022-06-05T06:02:06.156Z"
   },
   {
    "duration": 22,
    "start_time": "2022-06-05T06:02:06.167Z"
   },
   {
    "duration": 158,
    "start_time": "2022-06-05T06:02:06.191Z"
   },
   {
    "duration": 4,
    "start_time": "2022-06-05T06:02:06.350Z"
   },
   {
    "duration": 46,
    "start_time": "2022-06-05T06:02:06.359Z"
   },
   {
    "duration": 8,
    "start_time": "2022-06-05T06:02:06.407Z"
   },
   {
    "duration": 12,
    "start_time": "2022-06-05T06:02:06.417Z"
   },
   {
    "duration": 166,
    "start_time": "2022-06-05T06:02:06.431Z"
   },
   {
    "duration": 4,
    "start_time": "2022-06-05T06:02:06.598Z"
   },
   {
    "duration": 13,
    "start_time": "2022-06-05T06:02:06.604Z"
   },
   {
    "duration": 18,
    "start_time": "2022-06-05T06:02:06.619Z"
   },
   {
    "duration": 33,
    "start_time": "2022-06-05T06:02:06.639Z"
   },
   {
    "duration": 13,
    "start_time": "2022-06-05T06:02:06.674Z"
   },
   {
    "duration": 11,
    "start_time": "2022-06-05T06:02:06.688Z"
   },
   {
    "duration": 12,
    "start_time": "2022-06-05T06:02:06.700Z"
   },
   {
    "duration": 123,
    "start_time": "2022-06-05T06:02:06.714Z"
   },
   {
    "duration": 6,
    "start_time": "2022-06-05T06:02:06.838Z"
   },
   {
    "duration": 31,
    "start_time": "2022-06-05T06:02:06.846Z"
   },
   {
    "duration": 139,
    "start_time": "2022-06-05T06:02:06.879Z"
   },
   {
    "duration": 18,
    "start_time": "2022-06-05T06:02:07.022Z"
   },
   {
    "duration": 22,
    "start_time": "2022-06-05T06:02:07.041Z"
   },
   {
    "duration": 22,
    "start_time": "2022-06-05T06:02:07.065Z"
   },
   {
    "duration": 142,
    "start_time": "2022-06-05T06:02:07.089Z"
   },
   {
    "duration": 7,
    "start_time": "2022-06-05T06:02:07.233Z"
   },
   {
    "duration": 30,
    "start_time": "2022-06-05T06:02:07.242Z"
   },
   {
    "duration": 216,
    "start_time": "2022-06-05T06:02:07.274Z"
   },
   {
    "duration": 27,
    "start_time": "2022-06-05T06:02:07.492Z"
   },
   {
    "duration": 14,
    "start_time": "2022-06-05T06:02:07.521Z"
   },
   {
    "duration": 27,
    "start_time": "2022-06-05T06:02:07.537Z"
   },
   {
    "duration": 149,
    "start_time": "2022-06-05T06:02:07.565Z"
   },
   {
    "duration": 6,
    "start_time": "2022-06-05T06:02:07.717Z"
   },
   {
    "duration": 21,
    "start_time": "2022-06-05T06:02:07.725Z"
   },
   {
    "duration": 154,
    "start_time": "2022-06-05T06:02:07.759Z"
   },
   {
    "duration": 8,
    "start_time": "2022-06-05T06:02:07.915Z"
   },
   {
    "duration": 11,
    "start_time": "2022-06-05T06:02:07.925Z"
   },
   {
    "duration": 23,
    "start_time": "2022-06-05T06:02:07.937Z"
   },
   {
    "duration": 10,
    "start_time": "2022-06-05T06:02:22.775Z"
   },
   {
    "duration": 26,
    "start_time": "2022-06-05T06:04:20.072Z"
   },
   {
    "duration": 74,
    "start_time": "2022-06-05T06:07:36.025Z"
   },
   {
    "duration": 1653,
    "start_time": "2022-06-05T06:07:44.638Z"
   },
   {
    "duration": 7,
    "start_time": "2022-06-05T06:09:51.446Z"
   },
   {
    "duration": 10,
    "start_time": "2022-06-05T06:09:59.718Z"
   },
   {
    "duration": 1111,
    "start_time": "2022-06-05T06:10:23.052Z"
   },
   {
    "duration": 93,
    "start_time": "2022-06-05T06:10:24.166Z"
   },
   {
    "duration": 33,
    "start_time": "2022-06-05T06:10:24.262Z"
   },
   {
    "duration": 13,
    "start_time": "2022-06-05T06:10:24.297Z"
   },
   {
    "duration": 14,
    "start_time": "2022-06-05T06:10:24.311Z"
   },
   {
    "duration": 32,
    "start_time": "2022-06-05T06:10:24.327Z"
   },
   {
    "duration": 22,
    "start_time": "2022-06-05T06:10:24.361Z"
   },
   {
    "duration": 22,
    "start_time": "2022-06-05T06:10:24.384Z"
   },
   {
    "duration": 24,
    "start_time": "2022-06-05T06:10:24.408Z"
   },
   {
    "duration": 23,
    "start_time": "2022-06-05T06:10:24.459Z"
   },
   {
    "duration": 5,
    "start_time": "2022-06-05T06:10:24.484Z"
   },
   {
    "duration": 24,
    "start_time": "2022-06-05T06:10:24.491Z"
   },
   {
    "duration": 8,
    "start_time": "2022-06-05T06:10:24.517Z"
   },
   {
    "duration": 147,
    "start_time": "2022-06-05T06:10:24.526Z"
   },
   {
    "duration": 178,
    "start_time": "2022-06-05T06:10:24.675Z"
   },
   {
    "duration": 31,
    "start_time": "2022-06-05T06:10:24.855Z"
   },
   {
    "duration": 13,
    "start_time": "2022-06-05T06:10:24.888Z"
   },
   {
    "duration": 211,
    "start_time": "2022-06-05T06:10:24.903Z"
   },
   {
    "duration": 4,
    "start_time": "2022-06-05T06:10:25.116Z"
   },
   {
    "duration": 17,
    "start_time": "2022-06-05T06:10:25.122Z"
   },
   {
    "duration": 156,
    "start_time": "2022-06-05T06:10:25.140Z"
   },
   {
    "duration": 4,
    "start_time": "2022-06-05T06:10:25.298Z"
   },
   {
    "duration": 13,
    "start_time": "2022-06-05T06:10:25.304Z"
   },
   {
    "duration": 164,
    "start_time": "2022-06-05T06:10:25.319Z"
   },
   {
    "duration": 4,
    "start_time": "2022-06-05T06:10:25.485Z"
   },
   {
    "duration": 39,
    "start_time": "2022-06-05T06:10:25.491Z"
   },
   {
    "duration": 8,
    "start_time": "2022-06-05T06:10:25.532Z"
   },
   {
    "duration": 12,
    "start_time": "2022-06-05T06:10:25.563Z"
   },
   {
    "duration": 140,
    "start_time": "2022-06-05T06:10:25.577Z"
   },
   {
    "duration": 4,
    "start_time": "2022-06-05T06:10:25.719Z"
   },
   {
    "duration": 16,
    "start_time": "2022-06-05T06:10:25.724Z"
   },
   {
    "duration": 35,
    "start_time": "2022-06-05T06:10:25.741Z"
   },
   {
    "duration": 30,
    "start_time": "2022-06-05T06:10:25.778Z"
   },
   {
    "duration": 4,
    "start_time": "2022-06-05T06:10:25.810Z"
   },
   {
    "duration": 21,
    "start_time": "2022-06-05T06:10:25.815Z"
   },
   {
    "duration": 18,
    "start_time": "2022-06-05T06:10:25.838Z"
   },
   {
    "duration": 134,
    "start_time": "2022-06-05T06:10:25.857Z"
   },
   {
    "duration": 6,
    "start_time": "2022-06-05T06:10:25.993Z"
   },
   {
    "duration": 21,
    "start_time": "2022-06-05T06:10:26.000Z"
   },
   {
    "duration": 126,
    "start_time": "2022-06-05T06:10:26.022Z"
   },
   {
    "duration": 28,
    "start_time": "2022-06-05T06:10:26.150Z"
   },
   {
    "duration": 13,
    "start_time": "2022-06-05T06:10:26.180Z"
   },
   {
    "duration": 18,
    "start_time": "2022-06-05T06:10:26.195Z"
   },
   {
    "duration": 127,
    "start_time": "2022-06-05T06:10:26.215Z"
   },
   {
    "duration": 4,
    "start_time": "2022-06-05T06:10:26.344Z"
   },
   {
    "duration": 21,
    "start_time": "2022-06-05T06:10:26.358Z"
   },
   {
    "duration": 139,
    "start_time": "2022-06-05T06:10:26.381Z"
   },
   {
    "duration": 22,
    "start_time": "2022-06-05T06:10:26.522Z"
   },
   {
    "duration": 20,
    "start_time": "2022-06-05T06:10:26.558Z"
   },
   {
    "duration": 11,
    "start_time": "2022-06-05T06:10:26.580Z"
   },
   {
    "duration": 138,
    "start_time": "2022-06-05T06:10:26.593Z"
   },
   {
    "duration": 5,
    "start_time": "2022-06-05T06:10:26.733Z"
   },
   {
    "duration": 36,
    "start_time": "2022-06-05T06:10:26.740Z"
   },
   {
    "duration": 137,
    "start_time": "2022-06-05T06:10:26.778Z"
   },
   {
    "duration": 6,
    "start_time": "2022-06-05T06:10:26.916Z"
   },
   {
    "duration": 16,
    "start_time": "2022-06-05T06:10:26.924Z"
   },
   {
    "duration": 18,
    "start_time": "2022-06-05T06:10:26.942Z"
   },
   {
    "duration": 32,
    "start_time": "2022-06-05T06:10:26.961Z"
   },
   {
    "duration": 9,
    "start_time": "2022-06-05T06:10:26.995Z"
   },
   {
    "duration": 18,
    "start_time": "2022-06-05T06:10:27.006Z"
   },
   {
    "duration": 129,
    "start_time": "2022-06-05T06:10:35.989Z"
   },
   {
    "duration": 7,
    "start_time": "2022-06-05T06:10:41.072Z"
   },
   {
    "duration": 16,
    "start_time": "2022-06-05T06:10:49.457Z"
   },
   {
    "duration": 12,
    "start_time": "2022-06-05T06:10:57.275Z"
   },
   {
    "duration": 19,
    "start_time": "2022-06-05T06:11:00.493Z"
   },
   {
    "duration": 5,
    "start_time": "2022-06-05T06:11:13.080Z"
   },
   {
    "duration": 6,
    "start_time": "2022-06-05T06:11:20.625Z"
   },
   {
    "duration": 11,
    "start_time": "2022-06-05T06:11:35.473Z"
   },
   {
    "duration": 16,
    "start_time": "2022-06-05T06:11:41.406Z"
   },
   {
    "duration": 14,
    "start_time": "2022-06-05T06:12:03.106Z"
   },
   {
    "duration": 9,
    "start_time": "2022-06-05T06:12:13.584Z"
   },
   {
    "duration": 8,
    "start_time": "2022-06-05T06:12:26.110Z"
   },
   {
    "duration": 6,
    "start_time": "2022-06-05T06:12:36.842Z"
   },
   {
    "duration": 10,
    "start_time": "2022-06-05T06:12:42.450Z"
   },
   {
    "duration": 6,
    "start_time": "2022-06-05T06:12:42.935Z"
   },
   {
    "duration": 24,
    "start_time": "2022-06-05T06:12:47.934Z"
   },
   {
    "duration": 42,
    "start_time": "2022-06-05T06:13:01.350Z"
   },
   {
    "duration": 28,
    "start_time": "2022-06-05T06:13:06.024Z"
   },
   {
    "duration": 22,
    "start_time": "2022-06-05T06:13:23.015Z"
   },
   {
    "duration": 14,
    "start_time": "2022-06-05T06:13:51.894Z"
   },
   {
    "duration": 8,
    "start_time": "2022-06-05T06:15:37.129Z"
   },
   {
    "duration": 18,
    "start_time": "2022-06-05T06:15:56.344Z"
   },
   {
    "duration": 14,
    "start_time": "2022-06-05T06:16:03.753Z"
   },
   {
    "duration": 17,
    "start_time": "2022-06-05T06:16:18.999Z"
   },
   {
    "duration": 12,
    "start_time": "2022-06-05T06:16:31.788Z"
   },
   {
    "duration": 6,
    "start_time": "2022-06-05T06:17:08.803Z"
   },
   {
    "duration": 13,
    "start_time": "2022-06-05T06:17:24.699Z"
   },
   {
    "duration": 26,
    "start_time": "2022-06-05T06:17:39.357Z"
   },
   {
    "duration": 13,
    "start_time": "2022-06-05T06:17:48.106Z"
   },
   {
    "duration": 118,
    "start_time": "2022-06-05T06:18:21.226Z"
   },
   {
    "duration": 236,
    "start_time": "2022-06-05T06:18:30.748Z"
   },
   {
    "duration": 18,
    "start_time": "2022-06-05T06:24:48.415Z"
   },
   {
    "duration": 19,
    "start_time": "2022-06-05T06:24:52.459Z"
   },
   {
    "duration": 9,
    "start_time": "2022-06-05T06:24:55.775Z"
   },
   {
    "duration": 12,
    "start_time": "2022-06-05T06:24:58.674Z"
   },
   {
    "duration": 12,
    "start_time": "2022-06-05T06:30:04.637Z"
   },
   {
    "duration": 14,
    "start_time": "2022-06-05T06:30:23.633Z"
   },
   {
    "duration": 10,
    "start_time": "2022-06-05T06:30:36.127Z"
   },
   {
    "duration": 5,
    "start_time": "2022-06-05T06:30:55.408Z"
   },
   {
    "duration": 5,
    "start_time": "2022-06-05T06:32:43.056Z"
   },
   {
    "duration": 13,
    "start_time": "2022-06-05T06:34:17.121Z"
   },
   {
    "duration": 4,
    "start_time": "2022-06-05T06:34:23.622Z"
   },
   {
    "duration": 5,
    "start_time": "2022-06-05T06:35:34.498Z"
   },
   {
    "duration": 3,
    "start_time": "2022-06-05T06:37:24.854Z"
   },
   {
    "duration": 4,
    "start_time": "2022-06-05T06:37:48.529Z"
   },
   {
    "duration": 6,
    "start_time": "2022-06-05T06:38:44.822Z"
   },
   {
    "duration": 12,
    "start_time": "2022-06-05T06:48:24.405Z"
   },
   {
    "duration": 12,
    "start_time": "2022-06-05T06:48:25.210Z"
   },
   {
    "duration": 9,
    "start_time": "2022-06-05T06:49:51.073Z"
   },
   {
    "duration": 11,
    "start_time": "2022-06-05T06:50:10.923Z"
   },
   {
    "duration": 11,
    "start_time": "2022-06-05T06:50:29.175Z"
   },
   {
    "duration": 8,
    "start_time": "2022-06-05T06:50:42.642Z"
   },
   {
    "duration": 9,
    "start_time": "2022-06-05T06:51:28.475Z"
   },
   {
    "duration": 11,
    "start_time": "2022-06-05T06:51:51.086Z"
   },
   {
    "duration": 10,
    "start_time": "2022-06-05T06:52:56.692Z"
   },
   {
    "duration": 7,
    "start_time": "2022-06-05T06:54:04.491Z"
   },
   {
    "duration": 9,
    "start_time": "2022-06-05T07:10:27.354Z"
   },
   {
    "duration": 14,
    "start_time": "2022-06-05T07:10:30.756Z"
   },
   {
    "duration": 10,
    "start_time": "2022-06-05T07:11:48.285Z"
   },
   {
    "duration": 14,
    "start_time": "2022-06-05T07:11:55.131Z"
   },
   {
    "duration": 15,
    "start_time": "2022-06-05T07:12:02.711Z"
   },
   {
    "duration": 10,
    "start_time": "2022-06-05T07:12:06.984Z"
   },
   {
    "duration": 9,
    "start_time": "2022-06-05T07:13:05.388Z"
   },
   {
    "duration": 452,
    "start_time": "2022-06-05T07:13:23.376Z"
   },
   {
    "duration": 8,
    "start_time": "2022-06-05T07:13:29.419Z"
   },
   {
    "duration": 8,
    "start_time": "2022-06-05T07:13:36.392Z"
   },
   {
    "duration": 30,
    "start_time": "2022-06-05T07:15:21.196Z"
   },
   {
    "duration": 24,
    "start_time": "2022-06-05T07:15:54.551Z"
   },
   {
    "duration": 25,
    "start_time": "2022-06-05T07:16:13.828Z"
   },
   {
    "duration": 24,
    "start_time": "2022-06-05T07:16:21.311Z"
   },
   {
    "duration": 24,
    "start_time": "2022-06-05T07:16:47.243Z"
   },
   {
    "duration": 35,
    "start_time": "2022-06-05T07:17:11.073Z"
   },
   {
    "duration": 20,
    "start_time": "2022-06-05T07:17:20.019Z"
   },
   {
    "duration": 24,
    "start_time": "2022-06-05T07:21:23.353Z"
   },
   {
    "duration": 42,
    "start_time": "2022-06-05T07:22:04.606Z"
   },
   {
    "duration": 24,
    "start_time": "2022-06-05T07:22:17.902Z"
   },
   {
    "duration": 34,
    "start_time": "2022-06-05T07:22:30.755Z"
   },
   {
    "duration": 17,
    "start_time": "2022-06-05T07:22:38.297Z"
   },
   {
    "duration": 24,
    "start_time": "2022-06-05T07:23:37.976Z"
   },
   {
    "duration": 13,
    "start_time": "2022-06-05T07:23:44.503Z"
   },
   {
    "duration": 9,
    "start_time": "2022-06-05T07:24:07.213Z"
   },
   {
    "duration": 5,
    "start_time": "2022-06-05T07:24:11.408Z"
   },
   {
    "duration": 9,
    "start_time": "2022-06-05T07:24:13.976Z"
   },
   {
    "duration": 26,
    "start_time": "2022-06-05T07:24:29.498Z"
   },
   {
    "duration": 23,
    "start_time": "2022-06-05T07:24:35.553Z"
   },
   {
    "duration": 70,
    "start_time": "2022-06-05T07:24:57.937Z"
   },
   {
    "duration": 18,
    "start_time": "2022-06-05T07:26:23.776Z"
   },
   {
    "duration": 27,
    "start_time": "2022-06-05T07:26:40.657Z"
   },
   {
    "duration": 24,
    "start_time": "2022-06-05T07:26:53.252Z"
   },
   {
    "duration": 42,
    "start_time": "2022-06-05T07:27:28.254Z"
   },
   {
    "duration": 26,
    "start_time": "2022-06-05T07:27:40.977Z"
   },
   {
    "duration": 13,
    "start_time": "2022-06-05T07:28:11.846Z"
   },
   {
    "duration": 6,
    "start_time": "2022-06-05T07:28:24.042Z"
   },
   {
    "duration": 27,
    "start_time": "2022-06-05T07:28:55.127Z"
   },
   {
    "duration": 22,
    "start_time": "2022-06-05T07:41:13.712Z"
   },
   {
    "duration": 17,
    "start_time": "2022-06-05T07:41:17.814Z"
   },
   {
    "duration": 27,
    "start_time": "2022-06-05T07:42:34.053Z"
   },
   {
    "duration": 1192,
    "start_time": "2022-06-05T07:45:17.495Z"
   },
   {
    "duration": 111,
    "start_time": "2022-06-05T07:45:18.689Z"
   },
   {
    "duration": 35,
    "start_time": "2022-06-05T07:45:18.801Z"
   },
   {
    "duration": 20,
    "start_time": "2022-06-05T07:45:18.839Z"
   },
   {
    "duration": 36,
    "start_time": "2022-06-05T07:45:18.861Z"
   },
   {
    "duration": 20,
    "start_time": "2022-06-05T07:45:18.899Z"
   },
   {
    "duration": 25,
    "start_time": "2022-06-05T07:45:18.921Z"
   },
   {
    "duration": 53,
    "start_time": "2022-06-05T07:45:18.948Z"
   },
   {
    "duration": 30,
    "start_time": "2022-06-05T07:45:19.004Z"
   },
   {
    "duration": 23,
    "start_time": "2022-06-05T07:45:19.036Z"
   },
   {
    "duration": 7,
    "start_time": "2022-06-05T07:45:19.061Z"
   },
   {
    "duration": 45,
    "start_time": "2022-06-05T07:45:19.069Z"
   },
   {
    "duration": 9,
    "start_time": "2022-06-05T07:45:19.116Z"
   },
   {
    "duration": 137,
    "start_time": "2022-06-05T07:45:19.127Z"
   },
   {
    "duration": 187,
    "start_time": "2022-06-05T07:45:19.266Z"
   },
   {
    "duration": 38,
    "start_time": "2022-06-05T07:45:19.455Z"
   },
   {
    "duration": 18,
    "start_time": "2022-06-05T07:45:19.495Z"
   },
   {
    "duration": 247,
    "start_time": "2022-06-05T07:45:19.514Z"
   },
   {
    "duration": 18,
    "start_time": "2022-06-05T07:45:19.764Z"
   },
   {
    "duration": 14,
    "start_time": "2022-06-05T07:45:19.784Z"
   },
   {
    "duration": 152,
    "start_time": "2022-06-05T07:45:19.800Z"
   },
   {
    "duration": 7,
    "start_time": "2022-06-05T07:45:19.954Z"
   },
   {
    "duration": 28,
    "start_time": "2022-06-05T07:45:19.963Z"
   },
   {
    "duration": 152,
    "start_time": "2022-06-05T07:45:19.993Z"
   },
   {
    "duration": 5,
    "start_time": "2022-06-05T07:45:20.146Z"
   },
   {
    "duration": 49,
    "start_time": "2022-06-05T07:45:20.159Z"
   },
   {
    "duration": 9,
    "start_time": "2022-06-05T07:45:20.210Z"
   },
   {
    "duration": 7,
    "start_time": "2022-06-05T07:45:20.223Z"
   },
   {
    "duration": 150,
    "start_time": "2022-06-05T07:45:20.232Z"
   },
   {
    "duration": 6,
    "start_time": "2022-06-05T07:45:20.384Z"
   },
   {
    "duration": 18,
    "start_time": "2022-06-05T07:45:20.392Z"
   },
   {
    "duration": 16,
    "start_time": "2022-06-05T07:45:20.412Z"
   },
   {
    "duration": 44,
    "start_time": "2022-06-05T07:45:20.430Z"
   },
   {
    "duration": 4,
    "start_time": "2022-06-05T07:45:20.477Z"
   },
   {
    "duration": 14,
    "start_time": "2022-06-05T07:45:20.482Z"
   },
   {
    "duration": 11,
    "start_time": "2022-06-05T07:45:20.497Z"
   },
   {
    "duration": 135,
    "start_time": "2022-06-05T07:45:20.510Z"
   },
   {
    "duration": 14,
    "start_time": "2022-06-05T07:45:20.647Z"
   },
   {
    "duration": 33,
    "start_time": "2022-06-05T07:45:20.663Z"
   },
   {
    "duration": 166,
    "start_time": "2022-06-05T07:45:20.699Z"
   },
   {
    "duration": 28,
    "start_time": "2022-06-05T07:45:20.867Z"
   },
   {
    "duration": 8,
    "start_time": "2022-06-05T07:45:20.896Z"
   },
   {
    "duration": 12,
    "start_time": "2022-06-05T07:45:20.906Z"
   },
   {
    "duration": 155,
    "start_time": "2022-06-05T07:45:20.920Z"
   },
   {
    "duration": 8,
    "start_time": "2022-06-05T07:45:21.077Z"
   },
   {
    "duration": 22,
    "start_time": "2022-06-05T07:45:21.087Z"
   },
   {
    "duration": 171,
    "start_time": "2022-06-05T07:45:21.111Z"
   },
   {
    "duration": 28,
    "start_time": "2022-06-05T07:45:21.284Z"
   },
   {
    "duration": 14,
    "start_time": "2022-06-05T07:45:21.313Z"
   },
   {
    "duration": 7,
    "start_time": "2022-06-05T07:45:21.328Z"
   },
   {
    "duration": 130,
    "start_time": "2022-06-05T07:45:21.359Z"
   },
   {
    "duration": 6,
    "start_time": "2022-06-05T07:45:21.491Z"
   },
   {
    "duration": 20,
    "start_time": "2022-06-05T07:45:21.499Z"
   },
   {
    "duration": 142,
    "start_time": "2022-06-05T07:45:21.520Z"
   },
   {
    "duration": 10,
    "start_time": "2022-06-05T07:45:21.664Z"
   },
   {
    "duration": 26,
    "start_time": "2022-06-05T07:45:21.676Z"
   },
   {
    "duration": 6,
    "start_time": "2022-06-05T07:45:21.704Z"
   },
   {
    "duration": 21,
    "start_time": "2022-06-05T07:45:21.713Z"
   },
   {
    "duration": 29,
    "start_time": "2022-06-05T07:45:21.736Z"
   },
   {
    "duration": 34,
    "start_time": "2022-06-05T07:45:21.767Z"
   },
   {
    "duration": 4,
    "start_time": "2022-06-05T07:45:21.803Z"
   },
   {
    "duration": 13,
    "start_time": "2022-06-05T07:45:21.809Z"
   },
   {
    "duration": 17,
    "start_time": "2022-06-05T07:45:21.823Z"
   },
   {
    "duration": 30,
    "start_time": "2022-06-05T07:45:21.841Z"
   },
   {
    "duration": 24,
    "start_time": "2022-06-05T07:45:21.873Z"
   },
   {
    "duration": 8,
    "start_time": "2022-06-05T07:45:21.900Z"
   },
   {
    "duration": 50,
    "start_time": "2022-06-05T16:01:41.357Z"
   },
   {
    "duration": 35,
    "start_time": "2022-06-05T16:01:44.559Z"
   },
   {
    "duration": 60,
    "start_time": "2022-06-05T16:23:07.060Z"
   },
   {
    "duration": 1569,
    "start_time": "2022-06-05T16:23:13.807Z"
   },
   {
    "duration": 489,
    "start_time": "2022-06-05T16:23:15.380Z"
   },
   {
    "duration": 48,
    "start_time": "2022-06-05T16:23:15.871Z"
   },
   {
    "duration": 46,
    "start_time": "2022-06-05T16:23:15.922Z"
   },
   {
    "duration": 11,
    "start_time": "2022-06-05T16:23:15.970Z"
   },
   {
    "duration": 21,
    "start_time": "2022-06-05T16:23:15.983Z"
   },
   {
    "duration": 17,
    "start_time": "2022-06-05T16:23:16.006Z"
   },
   {
    "duration": 37,
    "start_time": "2022-06-05T16:23:16.042Z"
   },
   {
    "duration": 39,
    "start_time": "2022-06-05T16:23:16.080Z"
   },
   {
    "duration": 40,
    "start_time": "2022-06-05T16:23:16.122Z"
   },
   {
    "duration": 11,
    "start_time": "2022-06-05T16:23:16.163Z"
   },
   {
    "duration": 26,
    "start_time": "2022-06-05T16:23:16.176Z"
   },
   {
    "duration": 9,
    "start_time": "2022-06-05T16:23:16.204Z"
   },
   {
    "duration": 174,
    "start_time": "2022-06-05T16:23:16.215Z"
   },
   {
    "duration": 194,
    "start_time": "2022-06-05T16:23:16.391Z"
   },
   {
    "duration": 46,
    "start_time": "2022-06-05T16:23:16.587Z"
   },
   {
    "duration": 31,
    "start_time": "2022-06-05T16:23:16.634Z"
   },
   {
    "duration": 218,
    "start_time": "2022-06-05T16:23:16.667Z"
   },
   {
    "duration": 5,
    "start_time": "2022-06-05T16:23:16.886Z"
   },
   {
    "duration": 13,
    "start_time": "2022-06-05T16:23:16.892Z"
   },
   {
    "duration": 198,
    "start_time": "2022-06-05T16:23:16.906Z"
   },
   {
    "duration": 5,
    "start_time": "2022-06-05T16:23:17.106Z"
   },
   {
    "duration": 37,
    "start_time": "2022-06-05T16:23:17.113Z"
   },
   {
    "duration": 217,
    "start_time": "2022-06-05T16:23:17.152Z"
   },
   {
    "duration": 4,
    "start_time": "2022-06-05T16:23:17.370Z"
   },
   {
    "duration": 74,
    "start_time": "2022-06-05T16:23:17.376Z"
   },
   {
    "duration": 11,
    "start_time": "2022-06-05T16:23:17.455Z"
   },
   {
    "duration": 22,
    "start_time": "2022-06-05T16:23:17.471Z"
   },
   {
    "duration": 172,
    "start_time": "2022-06-05T16:23:17.495Z"
   },
   {
    "duration": 4,
    "start_time": "2022-06-05T16:23:17.669Z"
   },
   {
    "duration": 16,
    "start_time": "2022-06-05T16:23:17.675Z"
   },
   {
    "duration": 14,
    "start_time": "2022-06-05T16:23:17.692Z"
   },
   {
    "duration": 57,
    "start_time": "2022-06-05T16:23:17.708Z"
   },
   {
    "duration": 3,
    "start_time": "2022-06-05T16:23:17.767Z"
   },
   {
    "duration": 10,
    "start_time": "2022-06-05T16:23:17.772Z"
   },
   {
    "duration": 8,
    "start_time": "2022-06-05T16:23:17.784Z"
   },
   {
    "duration": 145,
    "start_time": "2022-06-05T16:23:17.794Z"
   },
   {
    "duration": 5,
    "start_time": "2022-06-05T16:23:17.942Z"
   },
   {
    "duration": 34,
    "start_time": "2022-06-05T16:23:17.949Z"
   },
   {
    "duration": 158,
    "start_time": "2022-06-05T16:23:17.985Z"
   },
   {
    "duration": 20,
    "start_time": "2022-06-05T16:23:18.145Z"
   },
   {
    "duration": 10,
    "start_time": "2022-06-05T16:23:18.167Z"
   },
   {
    "duration": 5,
    "start_time": "2022-06-05T16:23:18.179Z"
   },
   {
    "duration": 153,
    "start_time": "2022-06-05T16:23:18.186Z"
   },
   {
    "duration": 8,
    "start_time": "2022-06-05T16:23:18.345Z"
   },
   {
    "duration": 23,
    "start_time": "2022-06-05T16:23:18.357Z"
   },
   {
    "duration": 162,
    "start_time": "2022-06-05T16:23:18.382Z"
   },
   {
    "duration": 24,
    "start_time": "2022-06-05T16:23:18.547Z"
   },
   {
    "duration": 15,
    "start_time": "2022-06-05T16:23:18.572Z"
   },
   {
    "duration": 6,
    "start_time": "2022-06-05T16:23:18.588Z"
   },
   {
    "duration": 179,
    "start_time": "2022-06-05T16:23:18.596Z"
   },
   {
    "duration": 6,
    "start_time": "2022-06-05T16:23:18.776Z"
   },
   {
    "duration": 20,
    "start_time": "2022-06-05T16:23:18.784Z"
   },
   {
    "duration": 162,
    "start_time": "2022-06-05T16:23:18.806Z"
   },
   {
    "duration": 7,
    "start_time": "2022-06-05T16:23:18.970Z"
   },
   {
    "duration": 18,
    "start_time": "2022-06-05T16:23:18.979Z"
   },
   {
    "duration": 6,
    "start_time": "2022-06-05T16:23:18.999Z"
   },
   {
    "duration": 33,
    "start_time": "2022-06-05T16:23:19.028Z"
   },
   {
    "duration": 7,
    "start_time": "2022-06-05T16:23:19.063Z"
   },
   {
    "duration": 19,
    "start_time": "2022-06-05T16:23:19.072Z"
   },
   {
    "duration": 33,
    "start_time": "2022-06-05T16:23:19.093Z"
   },
   {
    "duration": 11,
    "start_time": "2022-06-05T16:23:19.128Z"
   },
   {
    "duration": 31,
    "start_time": "2022-06-05T16:23:19.141Z"
   },
   {
    "duration": 12,
    "start_time": "2022-06-05T16:23:19.173Z"
   },
   {
    "duration": 14,
    "start_time": "2022-06-05T16:23:19.187Z"
   },
   {
    "duration": 7,
    "start_time": "2022-06-05T16:23:19.202Z"
   },
   {
    "duration": 39,
    "start_time": "2022-06-05T16:26:06.716Z"
   },
   {
    "duration": 1363,
    "start_time": "2022-06-05T16:26:16.412Z"
   },
   {
    "duration": 125,
    "start_time": "2022-06-05T16:26:17.778Z"
   },
   {
    "duration": 51,
    "start_time": "2022-06-05T16:26:17.905Z"
   },
   {
    "duration": 20,
    "start_time": "2022-06-05T16:26:17.959Z"
   },
   {
    "duration": 14,
    "start_time": "2022-06-05T16:26:17.981Z"
   },
   {
    "duration": 64,
    "start_time": "2022-06-05T16:26:17.996Z"
   },
   {
    "duration": 28,
    "start_time": "2022-06-05T16:26:18.062Z"
   },
   {
    "duration": 28,
    "start_time": "2022-06-05T16:26:18.092Z"
   },
   {
    "duration": 45,
    "start_time": "2022-06-05T16:26:18.130Z"
   },
   {
    "duration": 17,
    "start_time": "2022-06-05T16:26:18.178Z"
   },
   {
    "duration": 6,
    "start_time": "2022-06-05T16:26:18.197Z"
   },
   {
    "duration": 53,
    "start_time": "2022-06-05T16:26:18.205Z"
   },
   {
    "duration": 13,
    "start_time": "2022-06-05T16:26:18.260Z"
   },
   {
    "duration": 178,
    "start_time": "2022-06-05T16:26:18.275Z"
   },
   {
    "duration": 207,
    "start_time": "2022-06-05T16:26:18.457Z"
   },
   {
    "duration": 27,
    "start_time": "2022-06-05T16:26:18.666Z"
   },
   {
    "duration": 58,
    "start_time": "2022-06-05T16:26:18.695Z"
   },
   {
    "duration": 260,
    "start_time": "2022-06-05T16:26:18.754Z"
   },
   {
    "duration": 26,
    "start_time": "2022-06-05T16:26:19.017Z"
   },
   {
    "duration": 31,
    "start_time": "2022-06-05T16:26:19.061Z"
   },
   {
    "duration": 213,
    "start_time": "2022-06-05T16:26:19.094Z"
   },
   {
    "duration": 4,
    "start_time": "2022-06-05T16:26:19.308Z"
   },
   {
    "duration": 48,
    "start_time": "2022-06-05T16:26:19.314Z"
   },
   {
    "duration": 189,
    "start_time": "2022-06-05T16:26:19.364Z"
   },
   {
    "duration": 6,
    "start_time": "2022-06-05T16:26:19.561Z"
   },
   {
    "duration": 38,
    "start_time": "2022-06-05T16:26:19.569Z"
   },
   {
    "duration": 8,
    "start_time": "2022-06-05T16:26:19.609Z"
   },
   {
    "duration": 12,
    "start_time": "2022-06-05T16:26:19.624Z"
   },
   {
    "duration": 167,
    "start_time": "2022-06-05T16:26:19.638Z"
   },
   {
    "duration": 4,
    "start_time": "2022-06-05T16:26:19.807Z"
   },
   {
    "duration": 11,
    "start_time": "2022-06-05T16:26:19.824Z"
   },
   {
    "duration": 34,
    "start_time": "2022-06-05T16:26:19.837Z"
   },
   {
    "duration": 21,
    "start_time": "2022-06-05T16:26:19.873Z"
   },
   {
    "duration": 4,
    "start_time": "2022-06-05T16:26:19.895Z"
   },
   {
    "duration": 13,
    "start_time": "2022-06-05T16:26:19.900Z"
   },
   {
    "duration": 24,
    "start_time": "2022-06-05T16:26:19.915Z"
   },
   {
    "duration": 146,
    "start_time": "2022-06-05T16:26:19.941Z"
   },
   {
    "duration": 6,
    "start_time": "2022-06-05T16:26:20.088Z"
   },
   {
    "duration": 17,
    "start_time": "2022-06-05T16:26:20.095Z"
   },
   {
    "duration": 164,
    "start_time": "2022-06-05T16:26:20.113Z"
   },
   {
    "duration": 21,
    "start_time": "2022-06-05T16:26:20.279Z"
   },
   {
    "duration": 33,
    "start_time": "2022-06-05T16:26:20.302Z"
   },
   {
    "duration": 29,
    "start_time": "2022-06-05T16:26:20.338Z"
   },
   {
    "duration": 157,
    "start_time": "2022-06-05T16:26:20.369Z"
   },
   {
    "duration": 6,
    "start_time": "2022-06-05T16:26:20.528Z"
   },
   {
    "duration": 51,
    "start_time": "2022-06-05T16:26:20.537Z"
   },
   {
    "duration": 174,
    "start_time": "2022-06-05T16:26:20.590Z"
   },
   {
    "duration": 33,
    "start_time": "2022-06-05T16:26:20.766Z"
   },
   {
    "duration": 30,
    "start_time": "2022-06-05T16:26:20.801Z"
   },
   {
    "duration": 14,
    "start_time": "2022-06-05T16:26:20.839Z"
   },
   {
    "duration": 159,
    "start_time": "2022-06-05T16:26:20.855Z"
   },
   {
    "duration": 13,
    "start_time": "2022-06-05T16:26:21.015Z"
   },
   {
    "duration": 46,
    "start_time": "2022-06-05T16:26:21.030Z"
   },
   {
    "duration": 143,
    "start_time": "2022-06-05T16:26:21.078Z"
   },
   {
    "duration": 24,
    "start_time": "2022-06-05T16:26:21.222Z"
   },
   {
    "duration": 43,
    "start_time": "2022-06-05T16:26:21.250Z"
   },
   {
    "duration": 9,
    "start_time": "2022-06-05T16:26:21.296Z"
   },
   {
    "duration": 42,
    "start_time": "2022-06-05T16:26:21.308Z"
   },
   {
    "duration": 10,
    "start_time": "2022-06-05T16:26:21.352Z"
   },
   {
    "duration": 35,
    "start_time": "2022-06-05T16:26:21.364Z"
   },
   {
    "duration": 5,
    "start_time": "2022-06-05T16:26:21.402Z"
   },
   {
    "duration": 22,
    "start_time": "2022-06-05T16:26:21.409Z"
   },
   {
    "duration": 55,
    "start_time": "2022-06-05T16:26:21.433Z"
   },
   {
    "duration": 16,
    "start_time": "2022-06-05T16:26:21.490Z"
   },
   {
    "duration": 34,
    "start_time": "2022-06-05T16:26:21.508Z"
   },
   {
    "duration": 19,
    "start_time": "2022-06-05T16:26:21.556Z"
   },
   {
    "duration": 21,
    "start_time": "2022-06-05T16:27:30.338Z"
   },
   {
    "duration": 1146,
    "start_time": "2022-06-05T16:27:51.789Z"
   },
   {
    "duration": 113,
    "start_time": "2022-06-05T16:27:52.938Z"
   },
   {
    "duration": 30,
    "start_time": "2022-06-05T16:27:53.053Z"
   },
   {
    "duration": 15,
    "start_time": "2022-06-05T16:27:53.085Z"
   },
   {
    "duration": 10,
    "start_time": "2022-06-05T16:27:53.102Z"
   },
   {
    "duration": 47,
    "start_time": "2022-06-05T16:27:53.113Z"
   },
   {
    "duration": 16,
    "start_time": "2022-06-05T16:27:53.162Z"
   },
   {
    "duration": 24,
    "start_time": "2022-06-05T16:27:53.180Z"
   },
   {
    "duration": 33,
    "start_time": "2022-06-05T16:27:53.227Z"
   },
   {
    "duration": 16,
    "start_time": "2022-06-05T16:27:53.263Z"
   },
   {
    "duration": 5,
    "start_time": "2022-06-05T16:27:53.281Z"
   },
   {
    "duration": 48,
    "start_time": "2022-06-05T16:27:53.287Z"
   },
   {
    "duration": 10,
    "start_time": "2022-06-05T16:27:53.339Z"
   },
   {
    "duration": 155,
    "start_time": "2022-06-05T16:27:53.350Z"
   },
   {
    "duration": 204,
    "start_time": "2022-06-05T16:27:53.507Z"
   },
   {
    "duration": 39,
    "start_time": "2022-06-05T16:27:53.713Z"
   },
   {
    "duration": 19,
    "start_time": "2022-06-05T16:27:53.754Z"
   },
   {
    "duration": 225,
    "start_time": "2022-06-05T16:27:53.775Z"
   },
   {
    "duration": 5,
    "start_time": "2022-06-05T16:27:54.001Z"
   },
   {
    "duration": 31,
    "start_time": "2022-06-05T16:27:54.007Z"
   },
   {
    "duration": 154,
    "start_time": "2022-06-05T16:27:54.040Z"
   },
   {
    "duration": 4,
    "start_time": "2022-06-05T16:27:54.196Z"
   },
   {
    "duration": 13,
    "start_time": "2022-06-05T16:27:54.201Z"
   },
   {
    "duration": 173,
    "start_time": "2022-06-05T16:27:54.215Z"
   },
   {
    "duration": 6,
    "start_time": "2022-06-05T16:27:54.390Z"
   },
   {
    "duration": 39,
    "start_time": "2022-06-05T16:27:54.426Z"
   },
   {
    "duration": 66,
    "start_time": "2022-06-05T16:27:54.467Z"
   },
   {
    "duration": 10,
    "start_time": "2022-06-05T16:27:54.545Z"
   },
   {
    "duration": 308,
    "start_time": "2022-06-05T16:27:54.556Z"
   },
   {
    "duration": 5,
    "start_time": "2022-06-05T16:27:54.866Z"
   },
   {
    "duration": 67,
    "start_time": "2022-06-05T16:27:54.873Z"
   },
   {
    "duration": 24,
    "start_time": "2022-06-05T16:27:54.942Z"
   },
   {
    "duration": 79,
    "start_time": "2022-06-05T16:27:54.968Z"
   },
   {
    "duration": 21,
    "start_time": "2022-06-05T16:27:55.052Z"
   },
   {
    "duration": 59,
    "start_time": "2022-06-05T16:27:55.075Z"
   },
   {
    "duration": 56,
    "start_time": "2022-06-05T16:27:55.136Z"
   },
   {
    "duration": 164,
    "start_time": "2022-06-05T16:27:55.195Z"
   },
   {
    "duration": 7,
    "start_time": "2022-06-05T16:27:55.361Z"
   },
   {
    "duration": 19,
    "start_time": "2022-06-05T16:27:55.370Z"
   },
   {
    "duration": 151,
    "start_time": "2022-06-05T16:27:55.391Z"
   },
   {
    "duration": 22,
    "start_time": "2022-06-05T16:27:55.546Z"
   },
   {
    "duration": 9,
    "start_time": "2022-06-05T16:27:55.569Z"
   },
   {
    "duration": 9,
    "start_time": "2022-06-05T16:27:55.579Z"
   },
   {
    "duration": 152,
    "start_time": "2022-06-05T16:27:55.590Z"
   },
   {
    "duration": 5,
    "start_time": "2022-06-05T16:27:55.744Z"
   },
   {
    "duration": 20,
    "start_time": "2022-06-05T16:27:55.751Z"
   },
   {
    "duration": 158,
    "start_time": "2022-06-05T16:27:55.773Z"
   },
   {
    "duration": 27,
    "start_time": "2022-06-05T16:27:55.936Z"
   },
   {
    "duration": 21,
    "start_time": "2022-06-05T16:27:55.965Z"
   },
   {
    "duration": 8,
    "start_time": "2022-06-05T16:27:55.988Z"
   },
   {
    "duration": 150,
    "start_time": "2022-06-05T16:27:55.998Z"
   },
   {
    "duration": 6,
    "start_time": "2022-06-05T16:27:56.149Z"
   },
   {
    "duration": 18,
    "start_time": "2022-06-05T16:27:56.156Z"
   },
   {
    "duration": 152,
    "start_time": "2022-06-05T16:27:56.176Z"
   },
   {
    "duration": 13,
    "start_time": "2022-06-05T16:27:56.330Z"
   },
   {
    "duration": 22,
    "start_time": "2022-06-05T16:27:56.344Z"
   },
   {
    "duration": 6,
    "start_time": "2022-06-05T16:27:56.367Z"
   },
   {
    "duration": 19,
    "start_time": "2022-06-05T16:27:56.375Z"
   },
   {
    "duration": 30,
    "start_time": "2022-06-05T16:27:56.396Z"
   },
   {
    "duration": 29,
    "start_time": "2022-06-05T16:27:56.428Z"
   },
   {
    "duration": 5,
    "start_time": "2022-06-05T16:27:56.458Z"
   },
   {
    "duration": 7,
    "start_time": "2022-06-05T16:27:56.465Z"
   },
   {
    "duration": 13,
    "start_time": "2022-06-05T16:27:56.474Z"
   },
   {
    "duration": 50,
    "start_time": "2022-06-05T16:27:56.490Z"
   },
   {
    "duration": 13,
    "start_time": "2022-06-05T16:27:56.542Z"
   },
   {
    "duration": 6,
    "start_time": "2022-06-05T16:27:56.557Z"
   },
   {
    "duration": 5,
    "start_time": "2022-06-05T16:54:20.364Z"
   },
   {
    "duration": 4,
    "start_time": "2022-06-05T16:55:49.609Z"
   },
   {
    "duration": 6,
    "start_time": "2022-06-05T17:02:45.322Z"
   },
   {
    "duration": 10,
    "start_time": "2022-06-05T17:18:57.559Z"
   },
   {
    "duration": 119,
    "start_time": "2022-06-05T17:21:31.339Z"
   },
   {
    "duration": 13,
    "start_time": "2022-06-05T17:21:44.050Z"
   },
   {
    "duration": 9,
    "start_time": "2022-06-05T17:21:45.963Z"
   },
   {
    "duration": 30,
    "start_time": "2022-06-05T17:22:04.689Z"
   },
   {
    "duration": 135,
    "start_time": "2022-06-05T17:23:21.190Z"
   },
   {
    "duration": 244,
    "start_time": "2022-06-05T17:23:50.426Z"
   },
   {
    "duration": 24,
    "start_time": "2022-06-05T17:25:15.958Z"
   },
   {
    "duration": 29,
    "start_time": "2022-06-05T17:31:44.765Z"
   },
   {
    "duration": 27,
    "start_time": "2022-06-05T17:32:51.898Z"
   },
   {
    "duration": 24,
    "start_time": "2022-06-05T17:36:15.449Z"
   },
   {
    "duration": 26,
    "start_time": "2022-06-05T17:36:43.103Z"
   },
   {
    "duration": 33,
    "start_time": "2022-06-05T17:48:19.226Z"
   },
   {
    "duration": 29,
    "start_time": "2022-06-05T17:50:48.359Z"
   },
   {
    "duration": 44,
    "start_time": "2022-06-05T17:51:32.671Z"
   },
   {
    "duration": 38,
    "start_time": "2022-06-05T17:51:38.220Z"
   },
   {
    "duration": 21,
    "start_time": "2022-06-05T17:52:07.785Z"
   },
   {
    "duration": 26,
    "start_time": "2022-06-05T17:52:44.465Z"
   },
   {
    "duration": 24,
    "start_time": "2022-06-05T17:53:29.223Z"
   },
   {
    "duration": 23,
    "start_time": "2022-06-05T17:54:23.073Z"
   },
   {
    "duration": 35,
    "start_time": "2022-06-05T17:55:54.208Z"
   },
   {
    "duration": 1226,
    "start_time": "2022-06-05T17:56:25.226Z"
   },
   {
    "duration": 102,
    "start_time": "2022-06-05T17:56:26.454Z"
   },
   {
    "duration": 37,
    "start_time": "2022-06-05T17:56:26.558Z"
   },
   {
    "duration": 16,
    "start_time": "2022-06-05T17:56:26.598Z"
   },
   {
    "duration": 15,
    "start_time": "2022-06-05T17:56:26.616Z"
   },
   {
    "duration": 37,
    "start_time": "2022-06-05T17:56:26.633Z"
   },
   {
    "duration": 25,
    "start_time": "2022-06-05T17:56:26.672Z"
   },
   {
    "duration": 50,
    "start_time": "2022-06-05T17:56:26.699Z"
   },
   {
    "duration": 30,
    "start_time": "2022-06-05T17:56:26.752Z"
   },
   {
    "duration": 16,
    "start_time": "2022-06-05T17:56:26.785Z"
   },
   {
    "duration": 5,
    "start_time": "2022-06-05T17:56:26.824Z"
   },
   {
    "duration": 33,
    "start_time": "2022-06-05T17:56:26.830Z"
   },
   {
    "duration": 8,
    "start_time": "2022-06-05T17:56:26.864Z"
   },
   {
    "duration": 142,
    "start_time": "2022-06-05T17:56:26.874Z"
   },
   {
    "duration": 186,
    "start_time": "2022-06-05T17:56:27.018Z"
   },
   {
    "duration": 41,
    "start_time": "2022-06-05T17:56:27.206Z"
   },
   {
    "duration": 17,
    "start_time": "2022-06-05T17:56:27.249Z"
   },
   {
    "duration": 271,
    "start_time": "2022-06-05T17:56:27.268Z"
   },
   {
    "duration": 5,
    "start_time": "2022-06-05T17:56:27.541Z"
   },
   {
    "duration": 31,
    "start_time": "2022-06-05T17:56:27.548Z"
   },
   {
    "duration": 181,
    "start_time": "2022-06-05T17:56:27.581Z"
   },
   {
    "duration": 5,
    "start_time": "2022-06-05T17:56:27.764Z"
   },
   {
    "duration": 13,
    "start_time": "2022-06-05T17:56:27.771Z"
   },
   {
    "duration": 187,
    "start_time": "2022-06-05T17:56:27.786Z"
   },
   {
    "duration": 5,
    "start_time": "2022-06-05T17:56:27.976Z"
   },
   {
    "duration": 57,
    "start_time": "2022-06-05T17:56:27.983Z"
   },
   {
    "duration": 13,
    "start_time": "2022-06-05T17:56:28.042Z"
   },
   {
    "duration": 13,
    "start_time": "2022-06-05T17:56:28.060Z"
   },
   {
    "duration": 167,
    "start_time": "2022-06-05T17:56:28.075Z"
   },
   {
    "duration": 4,
    "start_time": "2022-06-05T17:56:28.244Z"
   },
   {
    "duration": 13,
    "start_time": "2022-06-05T17:56:28.250Z"
   },
   {
    "duration": 17,
    "start_time": "2022-06-05T17:56:28.265Z"
   },
   {
    "duration": 51,
    "start_time": "2022-06-05T17:56:28.285Z"
   },
   {
    "duration": 4,
    "start_time": "2022-06-05T17:56:28.339Z"
   },
   {
    "duration": 16,
    "start_time": "2022-06-05T17:56:28.345Z"
   },
   {
    "duration": 10,
    "start_time": "2022-06-05T17:56:28.364Z"
   },
   {
    "duration": 152,
    "start_time": "2022-06-05T17:56:28.377Z"
   },
   {
    "duration": 8,
    "start_time": "2022-06-05T17:56:28.531Z"
   },
   {
    "duration": 25,
    "start_time": "2022-06-05T17:56:28.541Z"
   },
   {
    "duration": 173,
    "start_time": "2022-06-05T17:56:28.569Z"
   },
   {
    "duration": 19,
    "start_time": "2022-06-05T17:56:28.744Z"
   },
   {
    "duration": 9,
    "start_time": "2022-06-05T17:56:28.765Z"
   },
   {
    "duration": 9,
    "start_time": "2022-06-05T17:56:28.775Z"
   },
   {
    "duration": 153,
    "start_time": "2022-06-05T17:56:28.786Z"
   },
   {
    "duration": 6,
    "start_time": "2022-06-05T17:56:28.940Z"
   },
   {
    "duration": 22,
    "start_time": "2022-06-05T17:56:28.948Z"
   },
   {
    "duration": 154,
    "start_time": "2022-06-05T17:56:28.972Z"
   },
   {
    "duration": 24,
    "start_time": "2022-06-05T17:56:29.128Z"
   },
   {
    "duration": 15,
    "start_time": "2022-06-05T17:56:29.153Z"
   },
   {
    "duration": 6,
    "start_time": "2022-06-05T17:56:29.169Z"
   },
   {
    "duration": 142,
    "start_time": "2022-06-05T17:56:29.176Z"
   },
   {
    "duration": 9,
    "start_time": "2022-06-05T17:56:29.319Z"
   },
   {
    "duration": 20,
    "start_time": "2022-06-05T17:56:29.330Z"
   },
   {
    "duration": 140,
    "start_time": "2022-06-05T17:56:29.352Z"
   },
   {
    "duration": 9,
    "start_time": "2022-06-05T17:56:29.495Z"
   },
   {
    "duration": 150,
    "start_time": "2022-06-05T17:56:29.506Z"
   },
   {
    "duration": 0,
    "start_time": "2022-06-05T17:56:29.658Z"
   },
   {
    "duration": 0,
    "start_time": "2022-06-05T17:56:29.659Z"
   },
   {
    "duration": 0,
    "start_time": "2022-06-05T17:56:29.660Z"
   },
   {
    "duration": 0,
    "start_time": "2022-06-05T17:56:29.661Z"
   },
   {
    "duration": 0,
    "start_time": "2022-06-05T17:56:29.662Z"
   },
   {
    "duration": 0,
    "start_time": "2022-06-05T17:56:29.663Z"
   },
   {
    "duration": 0,
    "start_time": "2022-06-05T17:56:29.664Z"
   },
   {
    "duration": 0,
    "start_time": "2022-06-05T17:56:29.665Z"
   },
   {
    "duration": 0,
    "start_time": "2022-06-05T17:56:29.666Z"
   },
   {
    "duration": 0,
    "start_time": "2022-06-05T17:56:29.667Z"
   },
   {
    "duration": 9,
    "start_time": "2022-06-05T18:43:29.172Z"
   },
   {
    "duration": 11,
    "start_time": "2022-06-05T18:44:57.985Z"
   },
   {
    "duration": 9,
    "start_time": "2022-06-05T18:45:12.444Z"
   },
   {
    "duration": 1239,
    "start_time": "2022-06-05T18:59:30.053Z"
   },
   {
    "duration": 459,
    "start_time": "2022-06-05T18:59:31.295Z"
   },
   {
    "duration": 38,
    "start_time": "2022-06-05T18:59:31.755Z"
   },
   {
    "duration": 15,
    "start_time": "2022-06-05T18:59:31.795Z"
   },
   {
    "duration": 8,
    "start_time": "2022-06-05T18:59:31.812Z"
   },
   {
    "duration": 48,
    "start_time": "2022-06-05T18:59:31.822Z"
   },
   {
    "duration": 17,
    "start_time": "2022-06-05T18:59:31.872Z"
   },
   {
    "duration": 51,
    "start_time": "2022-06-05T18:59:31.891Z"
   },
   {
    "duration": 42,
    "start_time": "2022-06-05T18:59:31.945Z"
   },
   {
    "duration": 44,
    "start_time": "2022-06-05T18:59:31.990Z"
   },
   {
    "duration": 7,
    "start_time": "2022-06-05T18:59:32.038Z"
   },
   {
    "duration": 27,
    "start_time": "2022-06-05T18:59:32.047Z"
   },
   {
    "duration": 9,
    "start_time": "2022-06-05T18:59:32.076Z"
   },
   {
    "duration": 174,
    "start_time": "2022-06-05T18:59:32.087Z"
   },
   {
    "duration": 198,
    "start_time": "2022-06-05T18:59:32.263Z"
   },
   {
    "duration": 31,
    "start_time": "2022-06-05T18:59:32.463Z"
   },
   {
    "duration": 34,
    "start_time": "2022-06-05T18:59:32.495Z"
   },
   {
    "duration": 239,
    "start_time": "2022-06-05T18:59:32.531Z"
   },
   {
    "duration": 5,
    "start_time": "2022-06-05T18:59:32.771Z"
   },
   {
    "duration": 23,
    "start_time": "2022-06-05T18:59:32.778Z"
   },
   {
    "duration": 180,
    "start_time": "2022-06-05T18:59:32.803Z"
   },
   {
    "duration": 5,
    "start_time": "2022-06-05T18:59:32.985Z"
   },
   {
    "duration": 13,
    "start_time": "2022-06-05T18:59:32.992Z"
   },
   {
    "duration": 188,
    "start_time": "2022-06-05T18:59:33.006Z"
   },
   {
    "duration": 4,
    "start_time": "2022-06-05T18:59:33.196Z"
   },
   {
    "duration": 57,
    "start_time": "2022-06-05T18:59:33.203Z"
   },
   {
    "duration": 8,
    "start_time": "2022-06-05T18:59:33.262Z"
   },
   {
    "duration": 9,
    "start_time": "2022-06-05T18:59:33.276Z"
   },
   {
    "duration": 198,
    "start_time": "2022-06-05T18:59:33.287Z"
   },
   {
    "duration": 4,
    "start_time": "2022-06-05T18:59:33.487Z"
   },
   {
    "duration": 18,
    "start_time": "2022-06-05T18:59:33.493Z"
   },
   {
    "duration": 42,
    "start_time": "2022-06-05T18:59:33.512Z"
   },
   {
    "duration": 28,
    "start_time": "2022-06-05T18:59:33.555Z"
   },
   {
    "duration": 3,
    "start_time": "2022-06-05T18:59:33.584Z"
   },
   {
    "duration": 16,
    "start_time": "2022-06-05T18:59:33.589Z"
   },
   {
    "duration": 10,
    "start_time": "2022-06-05T18:59:33.606Z"
   },
   {
    "duration": 142,
    "start_time": "2022-06-05T18:59:33.618Z"
   },
   {
    "duration": 5,
    "start_time": "2022-06-05T18:59:33.762Z"
   },
   {
    "duration": 24,
    "start_time": "2022-06-05T18:59:33.769Z"
   },
   {
    "duration": 137,
    "start_time": "2022-06-05T18:59:33.795Z"
   },
   {
    "duration": 22,
    "start_time": "2022-06-05T18:59:33.935Z"
   },
   {
    "duration": 7,
    "start_time": "2022-06-05T18:59:33.959Z"
   },
   {
    "duration": 21,
    "start_time": "2022-06-05T18:59:33.967Z"
   },
   {
    "duration": 161,
    "start_time": "2022-06-05T18:59:33.990Z"
   },
   {
    "duration": 6,
    "start_time": "2022-06-05T18:59:34.153Z"
   },
   {
    "duration": 20,
    "start_time": "2022-06-05T18:59:34.161Z"
   },
   {
    "duration": 171,
    "start_time": "2022-06-05T18:59:34.184Z"
   },
   {
    "duration": 28,
    "start_time": "2022-06-05T18:59:34.357Z"
   },
   {
    "duration": 15,
    "start_time": "2022-06-05T18:59:34.386Z"
   },
   {
    "duration": 24,
    "start_time": "2022-06-05T18:59:34.403Z"
   },
   {
    "duration": 153,
    "start_time": "2022-06-05T18:59:34.430Z"
   },
   {
    "duration": 6,
    "start_time": "2022-06-05T18:59:34.585Z"
   },
   {
    "duration": 32,
    "start_time": "2022-06-05T18:59:34.593Z"
   },
   {
    "duration": 175,
    "start_time": "2022-06-05T18:59:34.627Z"
   },
   {
    "duration": 7,
    "start_time": "2022-06-05T18:59:34.806Z"
   },
   {
    "duration": 211,
    "start_time": "2022-06-05T18:59:34.831Z"
   },
   {
    "duration": 0,
    "start_time": "2022-06-05T18:59:35.044Z"
   },
   {
    "duration": 0,
    "start_time": "2022-06-05T18:59:35.045Z"
   },
   {
    "duration": 0,
    "start_time": "2022-06-05T18:59:35.047Z"
   },
   {
    "duration": 0,
    "start_time": "2022-06-05T18:59:35.048Z"
   },
   {
    "duration": 0,
    "start_time": "2022-06-05T18:59:35.049Z"
   },
   {
    "duration": 0,
    "start_time": "2022-06-05T18:59:35.050Z"
   },
   {
    "duration": 0,
    "start_time": "2022-06-05T18:59:35.051Z"
   },
   {
    "duration": 0,
    "start_time": "2022-06-05T18:59:35.052Z"
   },
   {
    "duration": 0,
    "start_time": "2022-06-05T18:59:35.054Z"
   },
   {
    "duration": 0,
    "start_time": "2022-06-05T18:59:35.055Z"
   },
   {
    "duration": 34,
    "start_time": "2022-06-05T19:00:14.804Z"
   },
   {
    "duration": 24,
    "start_time": "2022-06-05T19:00:28.876Z"
   },
   {
    "duration": 7,
    "start_time": "2022-06-05T19:00:33.988Z"
   },
   {
    "duration": 31,
    "start_time": "2022-06-05T19:00:34.780Z"
   },
   {
    "duration": 1190,
    "start_time": "2022-06-05T19:00:41.351Z"
   },
   {
    "duration": 110,
    "start_time": "2022-06-05T19:00:42.543Z"
   },
   {
    "duration": 32,
    "start_time": "2022-06-05T19:00:42.655Z"
   },
   {
    "duration": 15,
    "start_time": "2022-06-05T19:00:42.688Z"
   },
   {
    "duration": 13,
    "start_time": "2022-06-05T19:00:42.706Z"
   },
   {
    "duration": 37,
    "start_time": "2022-06-05T19:00:42.721Z"
   },
   {
    "duration": 16,
    "start_time": "2022-06-05T19:00:42.760Z"
   },
   {
    "duration": 23,
    "start_time": "2022-06-05T19:00:42.778Z"
   },
   {
    "duration": 54,
    "start_time": "2022-06-05T19:00:42.803Z"
   },
   {
    "duration": 15,
    "start_time": "2022-06-05T19:00:42.859Z"
   },
   {
    "duration": 4,
    "start_time": "2022-06-05T19:00:42.876Z"
   },
   {
    "duration": 46,
    "start_time": "2022-06-05T19:00:42.882Z"
   },
   {
    "duration": 14,
    "start_time": "2022-06-05T19:00:42.934Z"
   },
   {
    "duration": 144,
    "start_time": "2022-06-05T19:00:42.951Z"
   },
   {
    "duration": 190,
    "start_time": "2022-06-05T19:00:43.097Z"
   },
   {
    "duration": 50,
    "start_time": "2022-06-05T19:00:43.289Z"
   },
   {
    "duration": 19,
    "start_time": "2022-06-05T19:00:43.341Z"
   },
   {
    "duration": 251,
    "start_time": "2022-06-05T19:00:43.362Z"
   },
   {
    "duration": 10,
    "start_time": "2022-06-05T19:00:43.615Z"
   },
   {
    "duration": 16,
    "start_time": "2022-06-05T19:00:43.627Z"
   },
   {
    "duration": 164,
    "start_time": "2022-06-05T19:00:43.645Z"
   },
   {
    "duration": 4,
    "start_time": "2022-06-05T19:00:43.811Z"
   },
   {
    "duration": 16,
    "start_time": "2022-06-05T19:00:43.817Z"
   },
   {
    "duration": 176,
    "start_time": "2022-06-05T19:00:43.835Z"
   },
   {
    "duration": 13,
    "start_time": "2022-06-05T19:00:44.013Z"
   },
   {
    "duration": 39,
    "start_time": "2022-06-05T19:00:44.028Z"
   },
   {
    "duration": 7,
    "start_time": "2022-06-05T19:00:44.069Z"
   },
   {
    "duration": 11,
    "start_time": "2022-06-05T19:00:44.078Z"
   },
   {
    "duration": 189,
    "start_time": "2022-06-05T19:00:44.091Z"
   },
   {
    "duration": 4,
    "start_time": "2022-06-05T19:00:44.282Z"
   },
   {
    "duration": 12,
    "start_time": "2022-06-05T19:00:44.289Z"
   },
   {
    "duration": 39,
    "start_time": "2022-06-05T19:00:44.302Z"
   },
   {
    "duration": 24,
    "start_time": "2022-06-05T19:00:44.344Z"
   },
   {
    "duration": 4,
    "start_time": "2022-06-05T19:00:44.370Z"
   },
   {
    "duration": 10,
    "start_time": "2022-06-05T19:00:44.375Z"
   },
   {
    "duration": 10,
    "start_time": "2022-06-05T19:00:44.387Z"
   },
   {
    "duration": 141,
    "start_time": "2022-06-05T19:00:44.399Z"
   },
   {
    "duration": 6,
    "start_time": "2022-06-05T19:00:44.542Z"
   },
   {
    "duration": 24,
    "start_time": "2022-06-05T19:00:44.550Z"
   },
   {
    "duration": 169,
    "start_time": "2022-06-05T19:00:44.575Z"
   },
   {
    "duration": 21,
    "start_time": "2022-06-05T19:00:44.750Z"
   },
   {
    "duration": 10,
    "start_time": "2022-06-05T19:00:44.773Z"
   },
   {
    "duration": 15,
    "start_time": "2022-06-05T19:00:44.785Z"
   },
   {
    "duration": 184,
    "start_time": "2022-06-05T19:00:44.802Z"
   },
   {
    "duration": 6,
    "start_time": "2022-06-05T19:00:44.988Z"
   },
   {
    "duration": 47,
    "start_time": "2022-06-05T19:00:44.996Z"
   },
   {
    "duration": 176,
    "start_time": "2022-06-05T19:00:45.044Z"
   },
   {
    "duration": 35,
    "start_time": "2022-06-05T19:00:45.222Z"
   },
   {
    "duration": 15,
    "start_time": "2022-06-05T19:00:45.259Z"
   },
   {
    "duration": 7,
    "start_time": "2022-06-05T19:00:45.276Z"
   },
   {
    "duration": 165,
    "start_time": "2022-06-05T19:00:45.285Z"
   },
   {
    "duration": 6,
    "start_time": "2022-06-05T19:00:45.451Z"
   },
   {
    "duration": 20,
    "start_time": "2022-06-05T19:00:45.459Z"
   },
   {
    "duration": 159,
    "start_time": "2022-06-05T19:00:45.481Z"
   },
   {
    "duration": 7,
    "start_time": "2022-06-05T19:00:45.644Z"
   },
   {
    "duration": 28,
    "start_time": "2022-06-05T19:00:45.652Z"
   },
   {
    "duration": 7,
    "start_time": "2022-06-05T19:00:45.682Z"
   },
   {
    "duration": 57,
    "start_time": "2022-06-05T19:00:45.690Z"
   },
   {
    "duration": 6,
    "start_time": "2022-06-05T19:00:45.749Z"
   },
   {
    "duration": 26,
    "start_time": "2022-06-05T19:00:45.757Z"
   },
   {
    "duration": 4,
    "start_time": "2022-06-05T19:00:45.785Z"
   },
   {
    "duration": 7,
    "start_time": "2022-06-05T19:00:45.791Z"
   },
   {
    "duration": 19,
    "start_time": "2022-06-05T19:00:45.825Z"
   },
   {
    "duration": 5,
    "start_time": "2022-06-05T19:00:45.846Z"
   },
   {
    "duration": 6,
    "start_time": "2022-06-05T19:00:45.852Z"
   },
   {
    "duration": 7,
    "start_time": "2022-06-05T19:00:45.860Z"
   },
   {
    "duration": 5,
    "start_time": "2022-06-05T19:02:46.368Z"
   },
   {
    "duration": 10,
    "start_time": "2022-06-05T19:14:30.578Z"
   },
   {
    "duration": 11,
    "start_time": "2022-06-05T19:15:04.187Z"
   },
   {
    "duration": 5,
    "start_time": "2022-06-05T19:15:33.152Z"
   },
   {
    "duration": 194,
    "start_time": "2022-06-05T19:15:47.096Z"
   },
   {
    "duration": 45,
    "start_time": "2022-06-05T19:16:31.959Z"
   },
   {
    "duration": 16,
    "start_time": "2022-06-05T19:16:48.253Z"
   },
   {
    "duration": 15,
    "start_time": "2022-06-05T19:16:58.607Z"
   },
   {
    "duration": 21,
    "start_time": "2022-06-05T19:17:25.815Z"
   },
   {
    "duration": 11,
    "start_time": "2022-06-05T19:18:13.011Z"
   },
   {
    "duration": 24,
    "start_time": "2022-06-05T19:18:22.288Z"
   },
   {
    "duration": 25,
    "start_time": "2022-06-05T19:18:40.845Z"
   },
   {
    "duration": 26,
    "start_time": "2022-06-05T19:19:04.614Z"
   },
   {
    "duration": 34,
    "start_time": "2022-06-05T19:19:53.559Z"
   },
   {
    "duration": 21,
    "start_time": "2022-06-05T19:19:59.723Z"
   },
   {
    "duration": 20,
    "start_time": "2022-06-05T19:20:09.510Z"
   },
   {
    "duration": 32,
    "start_time": "2022-06-05T19:20:49.778Z"
   },
   {
    "duration": 13,
    "start_time": "2022-06-05T19:21:18.766Z"
   },
   {
    "duration": 1162,
    "start_time": "2022-06-05T20:01:36.763Z"
   },
   {
    "duration": 109,
    "start_time": "2022-06-05T20:01:37.927Z"
   },
   {
    "duration": 48,
    "start_time": "2022-06-05T20:01:38.039Z"
   },
   {
    "duration": 19,
    "start_time": "2022-06-05T20:01:38.090Z"
   },
   {
    "duration": 21,
    "start_time": "2022-06-05T20:01:38.111Z"
   },
   {
    "duration": 28,
    "start_time": "2022-06-05T20:01:38.134Z"
   },
   {
    "duration": 17,
    "start_time": "2022-06-05T20:01:38.163Z"
   },
   {
    "duration": 59,
    "start_time": "2022-06-05T20:01:38.181Z"
   },
   {
    "duration": 38,
    "start_time": "2022-06-05T20:01:38.242Z"
   },
   {
    "duration": 18,
    "start_time": "2022-06-05T20:01:38.283Z"
   },
   {
    "duration": 26,
    "start_time": "2022-06-05T20:01:38.302Z"
   },
   {
    "duration": 21,
    "start_time": "2022-06-05T20:01:38.330Z"
   },
   {
    "duration": 10,
    "start_time": "2022-06-05T20:01:38.353Z"
   },
   {
    "duration": 179,
    "start_time": "2022-06-05T20:01:38.365Z"
   },
   {
    "duration": 186,
    "start_time": "2022-06-05T20:01:38.545Z"
   },
   {
    "duration": 29,
    "start_time": "2022-06-05T20:01:38.732Z"
   },
   {
    "duration": 17,
    "start_time": "2022-06-05T20:01:38.762Z"
   },
   {
    "duration": 238,
    "start_time": "2022-06-05T20:01:38.781Z"
   },
   {
    "duration": 6,
    "start_time": "2022-06-05T20:01:39.021Z"
   },
   {
    "duration": 13,
    "start_time": "2022-06-05T20:01:39.029Z"
   },
   {
    "duration": 181,
    "start_time": "2022-06-05T20:01:39.044Z"
   },
   {
    "duration": 6,
    "start_time": "2022-06-05T20:01:39.227Z"
   },
   {
    "duration": 12,
    "start_time": "2022-06-05T20:01:39.235Z"
   },
   {
    "duration": 226,
    "start_time": "2022-06-05T20:01:39.249Z"
   },
   {
    "duration": 5,
    "start_time": "2022-06-05T20:01:39.477Z"
   },
   {
    "duration": 52,
    "start_time": "2022-06-05T20:01:39.483Z"
   },
   {
    "duration": 11,
    "start_time": "2022-06-05T20:01:39.536Z"
   },
   {
    "duration": 8,
    "start_time": "2022-06-05T20:01:39.551Z"
   },
   {
    "duration": 153,
    "start_time": "2022-06-05T20:01:39.560Z"
   },
   {
    "duration": 11,
    "start_time": "2022-06-05T20:01:39.715Z"
   },
   {
    "duration": 13,
    "start_time": "2022-06-05T20:01:39.728Z"
   },
   {
    "duration": 24,
    "start_time": "2022-06-05T20:01:39.743Z"
   },
   {
    "duration": 37,
    "start_time": "2022-06-05T20:01:39.769Z"
   },
   {
    "duration": 20,
    "start_time": "2022-06-05T20:01:39.807Z"
   },
   {
    "duration": 41,
    "start_time": "2022-06-05T20:01:39.829Z"
   },
   {
    "duration": 26,
    "start_time": "2022-06-05T20:01:39.872Z"
   },
   {
    "duration": 165,
    "start_time": "2022-06-05T20:01:39.900Z"
   },
   {
    "duration": 7,
    "start_time": "2022-06-05T20:01:40.067Z"
   },
   {
    "duration": 19,
    "start_time": "2022-06-05T20:01:40.077Z"
   },
   {
    "duration": 142,
    "start_time": "2022-06-05T20:01:40.097Z"
   },
   {
    "duration": 18,
    "start_time": "2022-06-05T20:01:40.241Z"
   },
   {
    "duration": 13,
    "start_time": "2022-06-05T20:01:40.260Z"
   },
   {
    "duration": 13,
    "start_time": "2022-06-05T20:01:40.274Z"
   },
   {
    "duration": 158,
    "start_time": "2022-06-05T20:01:40.288Z"
   },
   {
    "duration": 11,
    "start_time": "2022-06-05T20:01:40.449Z"
   },
   {
    "duration": 21,
    "start_time": "2022-06-05T20:01:40.461Z"
   },
   {
    "duration": 176,
    "start_time": "2022-06-05T20:01:40.483Z"
   },
   {
    "duration": 27,
    "start_time": "2022-06-05T20:01:40.661Z"
   },
   {
    "duration": 36,
    "start_time": "2022-06-05T20:01:40.690Z"
   },
   {
    "duration": 11,
    "start_time": "2022-06-05T20:01:40.728Z"
   },
   {
    "duration": 167,
    "start_time": "2022-06-05T20:01:40.741Z"
   },
   {
    "duration": 17,
    "start_time": "2022-06-05T20:01:40.910Z"
   },
   {
    "duration": 26,
    "start_time": "2022-06-05T20:01:40.929Z"
   },
   {
    "duration": 136,
    "start_time": "2022-06-05T20:01:40.956Z"
   },
   {
    "duration": 6,
    "start_time": "2022-06-05T20:01:41.094Z"
   },
   {
    "duration": 36,
    "start_time": "2022-06-05T20:01:41.102Z"
   },
   {
    "duration": 9,
    "start_time": "2022-06-05T20:01:41.141Z"
   },
   {
    "duration": 54,
    "start_time": "2022-06-05T20:01:41.153Z"
   },
   {
    "duration": 19,
    "start_time": "2022-06-05T20:01:41.209Z"
   },
   {
    "duration": 30,
    "start_time": "2022-06-05T20:01:41.229Z"
   },
   {
    "duration": 4,
    "start_time": "2022-06-05T20:01:41.261Z"
   },
   {
    "duration": 6,
    "start_time": "2022-06-05T20:01:41.267Z"
   },
   {
    "duration": 10,
    "start_time": "2022-06-05T20:01:41.275Z"
   },
   {
    "duration": 5,
    "start_time": "2022-06-05T20:01:41.325Z"
   },
   {
    "duration": 8,
    "start_time": "2022-06-05T20:01:41.332Z"
   },
   {
    "duration": 7,
    "start_time": "2022-06-05T20:01:41.342Z"
   },
   {
    "duration": 47,
    "start_time": "2022-06-06T05:43:20.685Z"
   }
  ],
  "kernelspec": {
   "display_name": "Python 3 (ipykernel)",
   "language": "python",
   "name": "python3"
  },
  "language_info": {
   "codemirror_mode": {
    "name": "ipython",
    "version": 3
   },
   "file_extension": ".py",
   "mimetype": "text/x-python",
   "name": "python",
   "nbconvert_exporter": "python",
   "pygments_lexer": "ipython3",
   "version": "3.7.1"
  },
  "toc": {
   "base_numbering": 1,
   "nav_menu": {},
   "number_sections": true,
   "sideBar": true,
   "skip_h1_title": true,
   "title_cell": "Содержание",
   "title_sidebar": "Содержание",
   "toc_cell": true,
   "toc_position": {
    "height": "calc(100% - 180px)",
    "left": "10px",
    "top": "150px",
    "width": "165px"
   },
   "toc_section_display": true,
   "toc_window_display": true
  }
 },
 "nbformat": 4,
 "nbformat_minor": 2
}
